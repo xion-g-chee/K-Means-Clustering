{
 "cells": [
  {
   "cell_type": "markdown",
   "id": "722125cd",
   "metadata": {},
   "source": [
    "# Install and ensure we have the libraries needed.\n",
    "!pip install numpy\n",
    "!pip install scipy\n",
    "!pip install sklearn\n",
    "!pip install matplotlib\n",
    "!pip install seaborn\n",
    "!pip install pandas"
   ]
  },
  {
   "cell_type": "markdown",
   "id": "16d97bf4",
   "metadata": {},
   "source": [
    "# Importing the Necessary Libraries"
   ]
  },
  {
   "cell_type": "code",
   "execution_count": 1,
   "id": "97b91766",
   "metadata": {},
   "outputs": [],
   "source": [
    "# Import libraries needed.\n",
    "import numpy as np\n",
    "import pandas as pd\n",
    "import scipy.stats as stats\n",
    "from pandas import DataFrame\n",
    "\n",
    "import matplotlib.pyplot as plt\n",
    "import seaborn as sns\n",
    "\n",
    "from sklearn.preprocessing import StandardScaler, MinMaxScaler\n",
    "from sklearn import preprocessing as p\n",
    "from sklearn.cluster import KMeans\n",
    "from sklearn.neighbors import NearestCentroid"
   ]
  },
  {
   "cell_type": "markdown",
   "id": "3705ccf0",
   "metadata": {},
   "source": [
    "# Load Data, Cleaning, and Preparation"
   ]
  },
  {
   "cell_type": "code",
   "execution_count": 2,
   "id": "9880f538",
   "metadata": {},
   "outputs": [
    {
     "name": "stdout",
     "output_type": "stream",
     "text": [
      "      Unnamed: 0  CaseOrder Customer_id                           Interaction  \\\n",
      "0              1          1     K409198  aa90260b-4141-4a24-8e36-b04ce1f4f77b   \n",
      "1              2          2     S120509  fb76459f-c047-4a9d-8af9-e0f7d4ac2524   \n",
      "2              3          3     K191035  344d114c-3736-4be5-98f7-c72c281e2d35   \n",
      "3              4          4      D90850  abfa2b40-2d43-4994-b15a-989b8c79e311   \n",
      "4              5          5     K662701  68a861fd-0d20-4e51-a587-8a90407ee574   \n",
      "...          ...        ...         ...                                   ...   \n",
      "9995        9996       9996     M324793  45deb5a2-ae04-4518-bf0b-c82db8dbe4a4   \n",
      "9996        9997       9997     D861732  6e96b921-0c09-4993-bbda-a1ac6411061a   \n",
      "9997        9998       9998     I243405  e8307ddf-9a01-4fff-bc59-4742e03fd24f   \n",
      "9998        9999       9999     I641617  3775ccfc-0052-4107-81ae-9657f81ecdf3   \n",
      "9999       10000      10000      T38070  9de5fb6e-bd33-4995-aec8-f01d0172a499   \n",
      "\n",
      "              City State                 County    Zip       Lat        Lng  \\\n",
      "0      Point Baker    AK  Prince of Wales-Hyder  99927  56.25100 -133.37571   \n",
      "1      West Branch    MI                 Ogemaw  48661  44.32893  -84.24080   \n",
      "2          Yamhill    OR                Yamhill  97148  45.35589 -123.24657   \n",
      "3          Del Mar    CA              San Diego  92014  32.96687 -117.24798   \n",
      "4        Needville    TX              Fort Bend  77461  29.38012  -95.80673   \n",
      "...            ...   ...                    ...    ...       ...        ...   \n",
      "9995   Mount Holly    VT                Rutland   5758  43.43391  -72.78734   \n",
      "9996   Clarksville    TN             Montgomery  37042  36.56907  -87.41694   \n",
      "9997      Mobeetie    TX                Wheeler  79061  35.52039 -100.44180   \n",
      "9998    Carrollton    GA                Carroll  30117  33.58016  -85.13241   \n",
      "9999  Clarkesville    GA              Habersham  30523  34.70783  -83.53648   \n",
      "\n",
      "      ...  MonthlyCharge Bandwidth_GB_Year item1 item2  item3  item4 item5  \\\n",
      "0     ...     171.449762        904.536110     5     5      5      3     4   \n",
      "1     ...     242.948015        800.982766     3     4      3      3     4   \n",
      "2     ...     159.440398       2054.706961     4     4      2      4     4   \n",
      "3     ...     120.249493       2164.579412     4     4      4      2     5   \n",
      "4     ...     150.761216        271.493436     4     4      4      3     4   \n",
      "...   ...            ...               ...   ...   ...    ...    ...   ...   \n",
      "9995  ...     159.828800       6511.253000     3     2      3      3     4   \n",
      "9996  ...     208.856400       5695.952000     4     5      5      4     4   \n",
      "9997  ...     168.220900       4159.306000     4     4      4      4     4   \n",
      "9998  ...     252.628600       6468.457000     4     4      6      4     3   \n",
      "9999  ...     218.371000       5857.586000     2     2      3      3     3   \n",
      "\n",
      "     item6  item7 item8  \n",
      "0        4      3     4  \n",
      "1        3      4     4  \n",
      "2        3      3     3  \n",
      "3        4      3     3  \n",
      "4        4      4     5  \n",
      "...    ...    ...   ...  \n",
      "9995     3      2     3  \n",
      "9996     5      2     5  \n",
      "9997     4      4     5  \n",
      "9998     3      5     4  \n",
      "9999     3      4     1  \n",
      "\n",
      "[10000 rows x 52 columns]\n"
     ]
    }
   ],
   "source": [
    "#Import the dataset into Pandas DataFrame and display it.\n",
    "df=pd.read_csv('D212_churn_raw_data.csv')\n",
    "print(df)"
   ]
  },
  {
   "cell_type": "code",
   "execution_count": 3,
   "id": "da742b4e",
   "metadata": {},
   "outputs": [
    {
     "name": "stdout",
     "output_type": "stream",
     "text": [
      "(10000, 52)\n"
     ]
    }
   ],
   "source": [
    "#List total number of entries in dataset (RowsxColumn).\n",
    "print(df.shape)"
   ]
  },
  {
   "cell_type": "code",
   "execution_count": 4,
   "id": "bd43e776",
   "metadata": {
    "scrolled": true
   },
   "outputs": [
    {
     "name": "stdout",
     "output_type": "stream",
     "text": [
      "Unnamed: 0                int64\n",
      "CaseOrder                 int64\n",
      "Customer_id              object\n",
      "Interaction              object\n",
      "City                     object\n",
      "State                    object\n",
      "County                   object\n",
      "Zip                       int64\n",
      "Lat                     float64\n",
      "Lng                     float64\n",
      "Population                int64\n",
      "Area                     object\n",
      "Timezone                 object\n",
      "Job                      object\n",
      "Children                float64\n",
      "Age                     float64\n",
      "Education                object\n",
      "Employment               object\n",
      "Income                  float64\n",
      "Marital                  object\n",
      "Gender                   object\n",
      "Churn                    object\n",
      "Outage_sec_perweek      float64\n",
      "Email                     int64\n",
      "Contacts                  int64\n",
      "Yearly_equip_failure      int64\n",
      "Techie                   object\n",
      "Contract                 object\n",
      "Port_modem               object\n",
      "Tablet                   object\n",
      "InternetService          object\n",
      "Phone                    object\n",
      "Multiple                 object\n",
      "OnlineSecurity           object\n",
      "OnlineBackup             object\n",
      "DeviceProtection         object\n",
      "TechSupport              object\n",
      "StreamingTV              object\n",
      "StreamingMovies          object\n",
      "PaperlessBilling         object\n",
      "PaymentMethod            object\n",
      "Tenure                  float64\n",
      "MonthlyCharge           float64\n",
      "Bandwidth_GB_Year       float64\n",
      "item1                     int64\n",
      "item2                     int64\n",
      "item3                     int64\n",
      "item4                     int64\n",
      "item5                     int64\n",
      "item6                     int64\n",
      "item7                     int64\n",
      "item8                     int64\n",
      "dtype: object\n"
     ]
    }
   ],
   "source": [
    "#Display the datatype for each column.\n",
    "print(df.dtypes)"
   ]
  },
  {
   "cell_type": "code",
   "execution_count": 5,
   "id": "a3dd2cac",
   "metadata": {
    "scrolled": true
   },
   "outputs": [
    {
     "name": "stdout",
     "output_type": "stream",
     "text": [
      "Unnamed: 0                 0\n",
      "CaseOrder                  0\n",
      "Customer_id                0\n",
      "Interaction                0\n",
      "City                       0\n",
      "State                      0\n",
      "County                     0\n",
      "Zip                        0\n",
      "Lat                        0\n",
      "Lng                        0\n",
      "Population                 0\n",
      "Area                       0\n",
      "Timezone                   0\n",
      "Job                        0\n",
      "Children                2495\n",
      "Age                     2475\n",
      "Education                  0\n",
      "Employment                 0\n",
      "Income                  2490\n",
      "Marital                    0\n",
      "Gender                     0\n",
      "Churn                      0\n",
      "Outage_sec_perweek         0\n",
      "Email                      0\n",
      "Contacts                   0\n",
      "Yearly_equip_failure       0\n",
      "Techie                  2477\n",
      "Contract                   0\n",
      "Port_modem                 0\n",
      "Tablet                     0\n",
      "InternetService            0\n",
      "Phone                   1026\n",
      "Multiple                   0\n",
      "OnlineSecurity             0\n",
      "OnlineBackup               0\n",
      "DeviceProtection           0\n",
      "TechSupport              991\n",
      "StreamingTV                0\n",
      "StreamingMovies            0\n",
      "PaperlessBilling           0\n",
      "PaymentMethod              0\n",
      "Tenure                   931\n",
      "MonthlyCharge              0\n",
      "Bandwidth_GB_Year       1021\n",
      "item1                      0\n",
      "item2                      0\n",
      "item3                      0\n",
      "item4                      0\n",
      "item5                      0\n",
      "item6                      0\n",
      "item7                      0\n",
      "item8                      0\n",
      "dtype: int64\n"
     ]
    }
   ],
   "source": [
    "#Perform checks to see if null values exists.\n",
    "print(df.isna().sum())"
   ]
  },
  {
   "cell_type": "code",
   "execution_count": 6,
   "id": "2f339a55",
   "metadata": {
    "scrolled": true
   },
   "outputs": [
    {
     "data": {
      "text/html": [
       "<div>\n",
       "<style scoped>\n",
       "    .dataframe tbody tr th:only-of-type {\n",
       "        vertical-align: middle;\n",
       "    }\n",
       "\n",
       "    .dataframe tbody tr th {\n",
       "        vertical-align: top;\n",
       "    }\n",
       "\n",
       "    .dataframe thead th {\n",
       "        text-align: right;\n",
       "    }\n",
       "</style>\n",
       "<table border=\"1\" class=\"dataframe\">\n",
       "  <thead>\n",
       "    <tr style=\"text-align: right;\">\n",
       "      <th></th>\n",
       "      <th>Unnamed: 0</th>\n",
       "      <th>CaseOrder</th>\n",
       "      <th>Zip</th>\n",
       "      <th>Lat</th>\n",
       "      <th>Lng</th>\n",
       "      <th>Population</th>\n",
       "      <th>Children</th>\n",
       "      <th>Age</th>\n",
       "      <th>Income</th>\n",
       "      <th>Outage_sec_perweek</th>\n",
       "      <th>...</th>\n",
       "      <th>MonthlyCharge</th>\n",
       "      <th>Bandwidth_GB_Year</th>\n",
       "      <th>item1</th>\n",
       "      <th>item2</th>\n",
       "      <th>item3</th>\n",
       "      <th>item4</th>\n",
       "      <th>item5</th>\n",
       "      <th>item6</th>\n",
       "      <th>item7</th>\n",
       "      <th>item8</th>\n",
       "    </tr>\n",
       "  </thead>\n",
       "  <tbody>\n",
       "    <tr>\n",
       "      <th>count</th>\n",
       "      <td>10000.00000</td>\n",
       "      <td>10000.00000</td>\n",
       "      <td>10000.000000</td>\n",
       "      <td>10000.000000</td>\n",
       "      <td>10000.000000</td>\n",
       "      <td>10000.000000</td>\n",
       "      <td>7505.000000</td>\n",
       "      <td>7525.000000</td>\n",
       "      <td>7510.000000</td>\n",
       "      <td>10000.000000</td>\n",
       "      <td>...</td>\n",
       "      <td>10000.000000</td>\n",
       "      <td>8979.000000</td>\n",
       "      <td>10000.000000</td>\n",
       "      <td>10000.000000</td>\n",
       "      <td>10000.000000</td>\n",
       "      <td>10000.000000</td>\n",
       "      <td>10000.000000</td>\n",
       "      <td>10000.000000</td>\n",
       "      <td>10000.000000</td>\n",
       "      <td>10000.000000</td>\n",
       "    </tr>\n",
       "    <tr>\n",
       "      <th>mean</th>\n",
       "      <td>5000.50000</td>\n",
       "      <td>5000.50000</td>\n",
       "      <td>49153.319600</td>\n",
       "      <td>38.757567</td>\n",
       "      <td>-90.782536</td>\n",
       "      <td>9756.562400</td>\n",
       "      <td>2.095936</td>\n",
       "      <td>53.275748</td>\n",
       "      <td>39936.762226</td>\n",
       "      <td>11.452955</td>\n",
       "      <td>...</td>\n",
       "      <td>174.076305</td>\n",
       "      <td>3398.842752</td>\n",
       "      <td>3.490800</td>\n",
       "      <td>3.505100</td>\n",
       "      <td>3.487000</td>\n",
       "      <td>3.497500</td>\n",
       "      <td>3.492900</td>\n",
       "      <td>3.497300</td>\n",
       "      <td>3.509500</td>\n",
       "      <td>3.495600</td>\n",
       "    </tr>\n",
       "    <tr>\n",
       "      <th>std</th>\n",
       "      <td>2886.89568</td>\n",
       "      <td>2886.89568</td>\n",
       "      <td>27532.196108</td>\n",
       "      <td>5.437389</td>\n",
       "      <td>15.156142</td>\n",
       "      <td>14432.698671</td>\n",
       "      <td>2.154758</td>\n",
       "      <td>20.753928</td>\n",
       "      <td>28358.469482</td>\n",
       "      <td>7.025921</td>\n",
       "      <td>...</td>\n",
       "      <td>43.335473</td>\n",
       "      <td>2187.396807</td>\n",
       "      <td>1.037797</td>\n",
       "      <td>1.034641</td>\n",
       "      <td>1.027977</td>\n",
       "      <td>1.025816</td>\n",
       "      <td>1.024819</td>\n",
       "      <td>1.033586</td>\n",
       "      <td>1.028502</td>\n",
       "      <td>1.028633</td>\n",
       "    </tr>\n",
       "    <tr>\n",
       "      <th>min</th>\n",
       "      <td>1.00000</td>\n",
       "      <td>1.00000</td>\n",
       "      <td>601.000000</td>\n",
       "      <td>17.966120</td>\n",
       "      <td>-171.688150</td>\n",
       "      <td>0.000000</td>\n",
       "      <td>0.000000</td>\n",
       "      <td>18.000000</td>\n",
       "      <td>740.660000</td>\n",
       "      <td>-1.348571</td>\n",
       "      <td>...</td>\n",
       "      <td>77.505230</td>\n",
       "      <td>155.506715</td>\n",
       "      <td>1.000000</td>\n",
       "      <td>1.000000</td>\n",
       "      <td>1.000000</td>\n",
       "      <td>1.000000</td>\n",
       "      <td>1.000000</td>\n",
       "      <td>1.000000</td>\n",
       "      <td>1.000000</td>\n",
       "      <td>1.000000</td>\n",
       "    </tr>\n",
       "    <tr>\n",
       "      <th>25%</th>\n",
       "      <td>2500.75000</td>\n",
       "      <td>2500.75000</td>\n",
       "      <td>26292.500000</td>\n",
       "      <td>35.341828</td>\n",
       "      <td>-97.082812</td>\n",
       "      <td>738.000000</td>\n",
       "      <td>0.000000</td>\n",
       "      <td>35.000000</td>\n",
       "      <td>19285.522500</td>\n",
       "      <td>8.054362</td>\n",
       "      <td>...</td>\n",
       "      <td>141.071078</td>\n",
       "      <td>1234.110529</td>\n",
       "      <td>3.000000</td>\n",
       "      <td>3.000000</td>\n",
       "      <td>3.000000</td>\n",
       "      <td>3.000000</td>\n",
       "      <td>3.000000</td>\n",
       "      <td>3.000000</td>\n",
       "      <td>3.000000</td>\n",
       "      <td>3.000000</td>\n",
       "    </tr>\n",
       "    <tr>\n",
       "      <th>50%</th>\n",
       "      <td>5000.50000</td>\n",
       "      <td>5000.50000</td>\n",
       "      <td>48869.500000</td>\n",
       "      <td>39.395800</td>\n",
       "      <td>-87.918800</td>\n",
       "      <td>2910.500000</td>\n",
       "      <td>1.000000</td>\n",
       "      <td>53.000000</td>\n",
       "      <td>33186.785000</td>\n",
       "      <td>10.202896</td>\n",
       "      <td>...</td>\n",
       "      <td>169.915400</td>\n",
       "      <td>3382.424000</td>\n",
       "      <td>3.000000</td>\n",
       "      <td>4.000000</td>\n",
       "      <td>3.000000</td>\n",
       "      <td>3.000000</td>\n",
       "      <td>3.000000</td>\n",
       "      <td>3.000000</td>\n",
       "      <td>4.000000</td>\n",
       "      <td>3.000000</td>\n",
       "    </tr>\n",
       "    <tr>\n",
       "      <th>75%</th>\n",
       "      <td>7500.25000</td>\n",
       "      <td>7500.25000</td>\n",
       "      <td>71866.500000</td>\n",
       "      <td>42.106908</td>\n",
       "      <td>-80.088745</td>\n",
       "      <td>13168.000000</td>\n",
       "      <td>3.000000</td>\n",
       "      <td>71.000000</td>\n",
       "      <td>53472.395000</td>\n",
       "      <td>12.487644</td>\n",
       "      <td>...</td>\n",
       "      <td>203.777441</td>\n",
       "      <td>5587.096500</td>\n",
       "      <td>4.000000</td>\n",
       "      <td>4.000000</td>\n",
       "      <td>4.000000</td>\n",
       "      <td>4.000000</td>\n",
       "      <td>4.000000</td>\n",
       "      <td>4.000000</td>\n",
       "      <td>4.000000</td>\n",
       "      <td>4.000000</td>\n",
       "    </tr>\n",
       "    <tr>\n",
       "      <th>max</th>\n",
       "      <td>10000.00000</td>\n",
       "      <td>10000.00000</td>\n",
       "      <td>99929.000000</td>\n",
       "      <td>70.640660</td>\n",
       "      <td>-65.667850</td>\n",
       "      <td>111850.000000</td>\n",
       "      <td>10.000000</td>\n",
       "      <td>89.000000</td>\n",
       "      <td>258900.700000</td>\n",
       "      <td>47.049280</td>\n",
       "      <td>...</td>\n",
       "      <td>315.878600</td>\n",
       "      <td>7158.982000</td>\n",
       "      <td>7.000000</td>\n",
       "      <td>7.000000</td>\n",
       "      <td>8.000000</td>\n",
       "      <td>7.000000</td>\n",
       "      <td>7.000000</td>\n",
       "      <td>8.000000</td>\n",
       "      <td>7.000000</td>\n",
       "      <td>8.000000</td>\n",
       "    </tr>\n",
       "  </tbody>\n",
       "</table>\n",
       "<p>8 rows × 24 columns</p>\n",
       "</div>"
      ],
      "text/plain": [
       "        Unnamed: 0    CaseOrder           Zip           Lat           Lng  \\\n",
       "count  10000.00000  10000.00000  10000.000000  10000.000000  10000.000000   \n",
       "mean    5000.50000   5000.50000  49153.319600     38.757567    -90.782536   \n",
       "std     2886.89568   2886.89568  27532.196108      5.437389     15.156142   \n",
       "min        1.00000      1.00000    601.000000     17.966120   -171.688150   \n",
       "25%     2500.75000   2500.75000  26292.500000     35.341828    -97.082812   \n",
       "50%     5000.50000   5000.50000  48869.500000     39.395800    -87.918800   \n",
       "75%     7500.25000   7500.25000  71866.500000     42.106908    -80.088745   \n",
       "max    10000.00000  10000.00000  99929.000000     70.640660    -65.667850   \n",
       "\n",
       "          Population     Children          Age         Income  \\\n",
       "count   10000.000000  7505.000000  7525.000000    7510.000000   \n",
       "mean     9756.562400     2.095936    53.275748   39936.762226   \n",
       "std     14432.698671     2.154758    20.753928   28358.469482   \n",
       "min         0.000000     0.000000    18.000000     740.660000   \n",
       "25%       738.000000     0.000000    35.000000   19285.522500   \n",
       "50%      2910.500000     1.000000    53.000000   33186.785000   \n",
       "75%     13168.000000     3.000000    71.000000   53472.395000   \n",
       "max    111850.000000    10.000000    89.000000  258900.700000   \n",
       "\n",
       "       Outage_sec_perweek  ...  MonthlyCharge  Bandwidth_GB_Year  \\\n",
       "count        10000.000000  ...   10000.000000        8979.000000   \n",
       "mean            11.452955  ...     174.076305        3398.842752   \n",
       "std              7.025921  ...      43.335473        2187.396807   \n",
       "min             -1.348571  ...      77.505230         155.506715   \n",
       "25%              8.054362  ...     141.071078        1234.110529   \n",
       "50%             10.202896  ...     169.915400        3382.424000   \n",
       "75%             12.487644  ...     203.777441        5587.096500   \n",
       "max             47.049280  ...     315.878600        7158.982000   \n",
       "\n",
       "              item1         item2         item3         item4         item5  \\\n",
       "count  10000.000000  10000.000000  10000.000000  10000.000000  10000.000000   \n",
       "mean       3.490800      3.505100      3.487000      3.497500      3.492900   \n",
       "std        1.037797      1.034641      1.027977      1.025816      1.024819   \n",
       "min        1.000000      1.000000      1.000000      1.000000      1.000000   \n",
       "25%        3.000000      3.000000      3.000000      3.000000      3.000000   \n",
       "50%        3.000000      4.000000      3.000000      3.000000      3.000000   \n",
       "75%        4.000000      4.000000      4.000000      4.000000      4.000000   \n",
       "max        7.000000      7.000000      8.000000      7.000000      7.000000   \n",
       "\n",
       "              item6         item7         item8  \n",
       "count  10000.000000  10000.000000  10000.000000  \n",
       "mean       3.497300      3.509500      3.495600  \n",
       "std        1.033586      1.028502      1.028633  \n",
       "min        1.000000      1.000000      1.000000  \n",
       "25%        3.000000      3.000000      3.000000  \n",
       "50%        3.000000      4.000000      3.000000  \n",
       "75%        4.000000      4.000000      4.000000  \n",
       "max        8.000000      7.000000      8.000000  \n",
       "\n",
       "[8 rows x 24 columns]"
      ]
     },
     "execution_count": 6,
     "metadata": {},
     "output_type": "execute_result"
    }
   ],
   "source": [
    "#Look at the basic statistics of the dataset.\n",
    "df.describe()"
   ]
  },
  {
   "cell_type": "code",
   "execution_count": 7,
   "id": "b8f77ff8",
   "metadata": {
    "scrolled": true
   },
   "outputs": [],
   "source": [
    "#Looking at the dataset's basic statistic, we can see that Unnamed Column and CaseOrder are copies of one another.\n",
    "#The dictionary also states that its to preserve the original order of the raw data so we should be safe to remove it.\n",
    "\n",
    "df=df.drop(df.columns[0], axis = 1);"
   ]
  },
  {
   "cell_type": "code",
   "execution_count": 8,
   "id": "0c325c80",
   "metadata": {
    "scrolled": true
   },
   "outputs": [],
   "source": [
    "#We then need to rename the columns named item1 item2, etc.\n",
    "df=df.rename({'item1' : 'Timely_Response',\n",
    "                    'item2' : 'Timely_Fixes',\n",
    "                    'item3' : 'Timely_Replacement',\n",
    "                    'item4' : 'Reliability',\n",
    "                    'item5' : 'Options',\n",
    "                    'item6' : 'Respectable_Response',\n",
    "                    'item7' : 'Courteous_Exchange',\n",
    "                    'item8' : 'Evidence_of_active_listening'}, axis='columns')"
   ]
  },
  {
   "cell_type": "code",
   "execution_count": 9,
   "id": "47841b34",
   "metadata": {},
   "outputs": [
    {
     "data": {
      "text/plain": [
       "array(['No', 'Yes'], dtype=object)"
      ]
     },
     "execution_count": 9,
     "metadata": {},
     "output_type": "execute_result"
    }
   ],
   "source": [
    "#Next we look at the unique string value from categorical columns that can be potentially recoded.\n",
    "#A potential variable is any variable that is: easily understood, easily describable and can be methodologically recoded.\n",
    "df['Churn'].unique()"
   ]
  },
  {
   "cell_type": "code",
   "execution_count": 10,
   "id": "710c90f5",
   "metadata": {},
   "outputs": [
    {
     "data": {
      "text/plain": [
       "array(['Urban', 'Suburban', 'Rural'], dtype=object)"
      ]
     },
     "execution_count": 10,
     "metadata": {},
     "output_type": "execute_result"
    }
   ],
   "source": [
    "df['Area'].unique()"
   ]
  },
  {
   "cell_type": "code",
   "execution_count": 11,
   "id": "8345dd72",
   "metadata": {},
   "outputs": [
    {
     "data": {
      "text/plain": [
       "array(['Widowed', 'Married', 'Separated', 'Never Married', 'Divorced'],\n",
       "      dtype=object)"
      ]
     },
     "execution_count": 11,
     "metadata": {},
     "output_type": "execute_result"
    }
   ],
   "source": [
    "df['Marital'].unique()"
   ]
  },
  {
   "cell_type": "code",
   "execution_count": 12,
   "id": "9321f1a3",
   "metadata": {
    "scrolled": true
   },
   "outputs": [
    {
     "data": {
      "text/plain": [
       "array([\"Master's Degree\", 'Regular High School Diploma',\n",
       "       'Doctorate Degree', 'No Schooling Completed', \"Associate's Degree\",\n",
       "       \"Bachelor's Degree\", 'Some College, Less than 1 Year',\n",
       "       'GED or Alternative Credential',\n",
       "       'Some College, 1 or More Years, No Degree',\n",
       "       '9th Grade to 12th Grade, No Diploma',\n",
       "       'Nursery School to 8th Grade', 'Professional School Degree'],\n",
       "      dtype=object)"
      ]
     },
     "execution_count": 12,
     "metadata": {},
     "output_type": "execute_result"
    }
   ],
   "source": [
    "df['Education'].unique()"
   ]
  },
  {
   "cell_type": "code",
   "execution_count": 13,
   "id": "705d89eb",
   "metadata": {
    "scrolled": true
   },
   "outputs": [
    {
     "data": {
      "text/plain": [
       "array(['Part Time', 'Retired', 'Student', 'Full Time', 'Unemployed'],\n",
       "      dtype=object)"
      ]
     },
     "execution_count": 13,
     "metadata": {},
     "output_type": "execute_result"
    }
   ],
   "source": [
    "df['Employment'].unique()"
   ]
  },
  {
   "cell_type": "code",
   "execution_count": 14,
   "id": "044e3339",
   "metadata": {},
   "outputs": [
    {
     "data": {
      "text/plain": [
       "array(['Male', 'Female', 'Prefer not to answer'], dtype=object)"
      ]
     },
     "execution_count": 14,
     "metadata": {},
     "output_type": "execute_result"
    }
   ],
   "source": [
    "df['Gender'].unique()"
   ]
  },
  {
   "cell_type": "code",
   "execution_count": 15,
   "id": "3a894d09",
   "metadata": {},
   "outputs": [
    {
     "data": {
      "text/plain": [
       "array(['No', 'Yes', nan], dtype=object)"
      ]
     },
     "execution_count": 15,
     "metadata": {},
     "output_type": "execute_result"
    }
   ],
   "source": [
    "df['Techie'].unique()"
   ]
  },
  {
   "cell_type": "code",
   "execution_count": 16,
   "id": "1245db77",
   "metadata": {},
   "outputs": [
    {
     "data": {
      "text/plain": [
       "array(['One year', 'Month-to-month', 'Two Year'], dtype=object)"
      ]
     },
     "execution_count": 16,
     "metadata": {},
     "output_type": "execute_result"
    }
   ],
   "source": [
    "df['Contract'].unique()"
   ]
  },
  {
   "cell_type": "code",
   "execution_count": 17,
   "id": "048534b5",
   "metadata": {},
   "outputs": [
    {
     "data": {
      "text/plain": [
       "array(['Yes', 'No'], dtype=object)"
      ]
     },
     "execution_count": 17,
     "metadata": {},
     "output_type": "execute_result"
    }
   ],
   "source": [
    "df['Port_modem'].unique()"
   ]
  },
  {
   "cell_type": "code",
   "execution_count": 18,
   "id": "4de6ec78",
   "metadata": {},
   "outputs": [
    {
     "data": {
      "text/plain": [
       "array(['Yes', 'No'], dtype=object)"
      ]
     },
     "execution_count": 18,
     "metadata": {},
     "output_type": "execute_result"
    }
   ],
   "source": [
    "df['Tablet'].unique()"
   ]
  },
  {
   "cell_type": "code",
   "execution_count": 19,
   "id": "269232c9",
   "metadata": {},
   "outputs": [
    {
     "data": {
      "text/plain": [
       "array(['Fiber Optic', 'DSL', 'None'], dtype=object)"
      ]
     },
     "execution_count": 19,
     "metadata": {},
     "output_type": "execute_result"
    }
   ],
   "source": [
    "df['InternetService'].unique()"
   ]
  },
  {
   "cell_type": "code",
   "execution_count": 20,
   "id": "368c2c78",
   "metadata": {},
   "outputs": [
    {
     "data": {
      "text/plain": [
       "array(['Yes', 'No', nan], dtype=object)"
      ]
     },
     "execution_count": 20,
     "metadata": {},
     "output_type": "execute_result"
    }
   ],
   "source": [
    "df['Phone'].unique()"
   ]
  },
  {
   "cell_type": "code",
   "execution_count": 21,
   "id": "db748797",
   "metadata": {},
   "outputs": [
    {
     "data": {
      "text/plain": [
       "array(['No', 'Yes'], dtype=object)"
      ]
     },
     "execution_count": 21,
     "metadata": {},
     "output_type": "execute_result"
    }
   ],
   "source": [
    "df['Multiple'].unique()"
   ]
  },
  {
   "cell_type": "code",
   "execution_count": 22,
   "id": "03b20a25",
   "metadata": {},
   "outputs": [
    {
     "data": {
      "text/plain": [
       "array(['Yes', 'No'], dtype=object)"
      ]
     },
     "execution_count": 22,
     "metadata": {},
     "output_type": "execute_result"
    }
   ],
   "source": [
    "df['OnlineSecurity'].unique()"
   ]
  },
  {
   "cell_type": "code",
   "execution_count": 23,
   "id": "be949ffd",
   "metadata": {},
   "outputs": [
    {
     "data": {
      "text/plain": [
       "array(['Yes', 'No'], dtype=object)"
      ]
     },
     "execution_count": 23,
     "metadata": {},
     "output_type": "execute_result"
    }
   ],
   "source": [
    "df['OnlineBackup'].unique()"
   ]
  },
  {
   "cell_type": "code",
   "execution_count": 24,
   "id": "a9483afc",
   "metadata": {},
   "outputs": [
    {
     "data": {
      "text/plain": [
       "array(['No', 'Yes'], dtype=object)"
      ]
     },
     "execution_count": 24,
     "metadata": {},
     "output_type": "execute_result"
    }
   ],
   "source": [
    "df['DeviceProtection'].unique()"
   ]
  },
  {
   "cell_type": "code",
   "execution_count": 25,
   "id": "5d2c2cfb",
   "metadata": {},
   "outputs": [
    {
     "data": {
      "text/plain": [
       "array(['No', 'Yes', nan], dtype=object)"
      ]
     },
     "execution_count": 25,
     "metadata": {},
     "output_type": "execute_result"
    }
   ],
   "source": [
    "df['TechSupport'].unique()"
   ]
  },
  {
   "cell_type": "code",
   "execution_count": 26,
   "id": "e10e67a5",
   "metadata": {},
   "outputs": [
    {
     "data": {
      "text/plain": [
       "array(['No', 'Yes'], dtype=object)"
      ]
     },
     "execution_count": 26,
     "metadata": {},
     "output_type": "execute_result"
    }
   ],
   "source": [
    "df['StreamingTV'].unique()"
   ]
  },
  {
   "cell_type": "code",
   "execution_count": 27,
   "id": "786c656c",
   "metadata": {},
   "outputs": [
    {
     "data": {
      "text/plain": [
       "array(['Yes', 'No'], dtype=object)"
      ]
     },
     "execution_count": 27,
     "metadata": {},
     "output_type": "execute_result"
    }
   ],
   "source": [
    "df['PaperlessBilling'].unique()"
   ]
  },
  {
   "cell_type": "code",
   "execution_count": 28,
   "id": "d3228f2a",
   "metadata": {
    "scrolled": false
   },
   "outputs": [
    {
     "data": {
      "text/plain": [
       "array(['Credit Card (automatic)', 'Bank Transfer(automatic)',\n",
       "       'Mailed Check', 'Electronic Check'], dtype=object)"
      ]
     },
     "execution_count": 28,
     "metadata": {},
     "output_type": "execute_result"
    }
   ],
   "source": [
    "df['PaymentMethod'].unique()"
   ]
  },
  {
   "cell_type": "code",
   "execution_count": 29,
   "id": "e365621c",
   "metadata": {},
   "outputs": [
    {
     "data": {
      "text/plain": [
       "array([171.4497621, 242.9480155, 159.4403984, ..., 168.2209   ,\n",
       "       252.6286   , 218.371    ])"
      ]
     },
     "execution_count": 29,
     "metadata": {},
     "output_type": "execute_result"
    }
   ],
   "source": [
    "df['MonthlyCharge'].unique()"
   ]
  },
  {
   "cell_type": "code",
   "execution_count": 30,
   "id": "b0791436",
   "metadata": {},
   "outputs": [],
   "source": [
    "#Once we know the unique values for the categorical columns we want to change,\n",
    "#we'll perform the necessary codes on them. First we'll change all binary values and the 'InternetService'\n",
    "#column to 1 or 0. \n",
    "#We'll also fill NaN value for column 'TechSupport','Techie', 'Phone' with 0 as we will assume that these\n",
    "#value were left empty as they did not apply to the customer.\n",
    "\n",
    "df=df.replace(['Yes','Fiber Optic', 'DSL'],'1');\n",
    "df=df.replace(['No', 'None'],'0');\n",
    "df[['TechSupport', 'Techie', 'Phone']] = df[['TechSupport', 'Techie', 'Phone']].fillna(value=0);\n",
    "df=df.astype({'Churn': 'float64', \n",
    "              'Port_modem': 'float64', \n",
    "              'Tablet': 'float64', \n",
    "              'InternetService': 'float64', \n",
    "              'Phone': 'float64',\n",
    "              'Multiple': 'float64',\n",
    "              'OnlineSecurity': 'float64',\n",
    "              'OnlineBackup': 'float64',\n",
    "              'DeviceProtection': 'float64',\n",
    "              'TechSupport': 'float64',\n",
    "              'StreamingTV': 'float64',\n",
    "              'PaperlessBilling': 'float64',\n",
    "              'StreamingMovies': 'float64',\n",
    "              'Techie': 'float64'})\n"
   ]
  },
  {
   "cell_type": "code",
   "execution_count": 31,
   "id": "41698d82",
   "metadata": {},
   "outputs": [
    {
     "name": "stdout",
     "output_type": "stream",
     "text": [
      "0       10.0\n",
      "1        4.0\n",
      "2        4.0\n",
      "3       11.0\n",
      "4       10.0\n",
      "        ... \n",
      "9995     5.0\n",
      "9996     4.0\n",
      "9997     1.0\n",
      "9998     9.0\n",
      "9999     3.0\n",
      "Name: Education, Length: 10000, dtype: float64\n"
     ]
    }
   ],
   "source": [
    "#Recode Education with 'Doctorate Degree' from 11 to 'No Schooling Completed' at 0. Also convert datatype to float.\n",
    "df=df.replace(['Doctorate Degree'] ,'11');\n",
    "df=df.replace([\"Master's Degree\"],'10');\n",
    "df=df.replace([\"Bachelor's Degree\"],'9');\n",
    "df=df.replace([\"Associate's Degree\"] ,'8');\n",
    "df=df.replace(['Professional School Degree'],'7');\n",
    "df=df.replace(['Some College, 1 or More Years, No Degree'],'6');\n",
    "df=df.replace(['Some College, Less than 1 Year'] ,'5');\n",
    "df=df.replace(['Regular High School Diploma'],'4');\n",
    "df=df.replace(['GED or Alternative Credential'],'3');\n",
    "df=df.replace(['9th Grade to 12th Grade, No Diploma'] ,'2');\n",
    "df=df.replace(['Nursery School to 8th Grade'],'1');\n",
    "df=df.replace(['No Schooling Completed'],'0');\n",
    "df=df.astype({'Education': 'float64'})\n",
    "print(df['Education'])"
   ]
  },
  {
   "cell_type": "code",
   "execution_count": 32,
   "id": "9dacf916",
   "metadata": {},
   "outputs": [
    {
     "name": "stdout",
     "output_type": "stream",
     "text": [
      "0       1.0\n",
      "1       4.0\n",
      "2       1.0\n",
      "3       4.0\n",
      "4       3.0\n",
      "       ... \n",
      "9995    4.0\n",
      "9996    2.0\n",
      "9997    0.0\n",
      "9998    3.0\n",
      "9999    0.0\n",
      "Name: Marital, Length: 10000, dtype: float64\n"
     ]
    }
   ],
   "source": [
    "#Recode Marital column 'Married' from 4 to 'Never Married' at 0. Also convert datatype to float.\n",
    "\n",
    "df=df.replace(['Married'] ,'4');\n",
    "df=df.replace(['Separated'] ,'3');\n",
    "df=df.replace(['Divorced'] ,'2');\n",
    "df=df.replace(['Widowed'],'1');\n",
    "df=df.replace(['Never Married'],'0');\n",
    "df=df.astype({'Marital': 'float64'})\n",
    "print(df['Marital'])"
   ]
  },
  {
   "cell_type": "code",
   "execution_count": 33,
   "id": "39b9741e",
   "metadata": {
    "scrolled": false
   },
   "outputs": [
    {
     "name": "stdout",
     "output_type": "stream",
     "text": [
      "0       2.0\n",
      "1       3.0\n",
      "2       2.0\n",
      "3       0.0\n",
      "4       0.0\n",
      "       ... \n",
      "9995    1.0\n",
      "9996    1.0\n",
      "9997    3.0\n",
      "9998    2.0\n",
      "9999    1.0\n",
      "Name: PaymentMethod, Length: 10000, dtype: float64\n"
     ]
    }
   ],
   "source": [
    "#Recode PaymentMethod with 'Bank Transfer(automatic)'=3, Credit Card'=2, 'Electronic Check'=1, 'Mailed Check'=0.\n",
    "#Also convert datatype to float.\n",
    "\n",
    "df=df.replace([\"Bank Transfer(automatic)\"] ,'3');\n",
    "df=df.replace([\"Credit Card (automatic)\"],'2');\n",
    "df=df.replace(['Electronic Check'],'1');\n",
    "df=df.replace(['Mailed Check'],'0');\n",
    "df=df.astype({'PaymentMethod': 'float64'})\n",
    "print(df['PaymentMethod'])"
   ]
  },
  {
   "cell_type": "code",
   "execution_count": 34,
   "id": "d124b500",
   "metadata": {},
   "outputs": [
    {
     "name": "stdout",
     "output_type": "stream",
     "text": [
      "0       2.0\n",
      "1       1.0\n",
      "2       1.0\n",
      "3       2.0\n",
      "4       2.0\n",
      "       ... \n",
      "9995    2.0\n",
      "9996    2.0\n",
      "9997    1.0\n",
      "9998    2.0\n",
      "9999    2.0\n",
      "Name: Gender, Length: 10000, dtype: float64\n"
     ]
    }
   ],
   "source": [
    "#Recode Gender with 'Male'=2, 'Female'=1, 'Prefer Not to Answer'=0. Also convert datatype to float.\n",
    "df=df.replace(['Male'] ,'2');\n",
    "df=df.replace(['Female'],'1');\n",
    "df=df.replace(['Prefer not to answer'],'0');\n",
    "df=df.astype({'Gender': 'float64'})\n",
    "print(df['Gender'])"
   ]
  },
  {
   "cell_type": "code",
   "execution_count": 35,
   "id": "fe10c76c",
   "metadata": {
    "scrolled": false
   },
   "outputs": [
    {
     "name": "stdout",
     "output_type": "stream",
     "text": [
      "          Children          Age         Income       Tenure  Bandwidth_GB_Year\n",
      "count  7505.000000  7525.000000    7510.000000  9069.000000        8979.000000\n",
      "mean      2.095936    53.275748   39936.762226    34.498858        3398.842752\n",
      "std       2.154758    20.753928   28358.469482    26.438904        2187.396807\n",
      "min       0.000000    18.000000     740.660000     1.000259         155.506715\n",
      "25%       0.000000    35.000000   19285.522500     7.890442        1234.110529\n",
      "50%       1.000000    53.000000   33186.785000    36.196030        3382.424000\n",
      "75%       3.000000    71.000000   53472.395000    61.426670        5587.096500\n",
      "max      10.000000    89.000000  258900.700000    71.999280        7158.982000\n"
     ]
    }
   ],
   "source": [
    "#Now that we've recoded a majority of the relevant variable for our analysis, we need to decide what values\n",
    "#to use for imputation.\n",
    "print(df[['Children', 'Age', 'Income', 'Tenure', 'Bandwidth_GB_Year']].describe())"
   ]
  },
  {
   "cell_type": "code",
   "execution_count": 36,
   "id": "5d3af962",
   "metadata": {
    "scrolled": true
   },
   "outputs": [
    {
     "name": "stdout",
     "output_type": "stream",
     "text": [
      "CaseOrder                       0\n",
      "Customer_id                     0\n",
      "Interaction                     0\n",
      "City                            0\n",
      "State                           0\n",
      "County                          0\n",
      "Zip                             0\n",
      "Lat                             0\n",
      "Lng                             0\n",
      "Population                      0\n",
      "Area                            0\n",
      "Timezone                        0\n",
      "Job                             0\n",
      "Children                        0\n",
      "Age                             0\n",
      "Education                       0\n",
      "Employment                      0\n",
      "Income                          0\n",
      "Marital                         0\n",
      "Gender                          0\n",
      "Churn                           0\n",
      "Outage_sec_perweek              0\n",
      "Email                           0\n",
      "Contacts                        0\n",
      "Yearly_equip_failure            0\n",
      "Techie                          0\n",
      "Contract                        0\n",
      "Port_modem                      0\n",
      "Tablet                          0\n",
      "InternetService                 0\n",
      "Phone                           0\n",
      "Multiple                        0\n",
      "OnlineSecurity                  0\n",
      "OnlineBackup                    0\n",
      "DeviceProtection                0\n",
      "TechSupport                     0\n",
      "StreamingTV                     0\n",
      "StreamingMovies                 0\n",
      "PaperlessBilling                0\n",
      "PaymentMethod                   0\n",
      "Tenure                          0\n",
      "MonthlyCharge                   0\n",
      "Bandwidth_GB_Year               0\n",
      "Timely_Response                 0\n",
      "Timely_Fixes                    0\n",
      "Timely_Replacement              0\n",
      "Reliability                     0\n",
      "Options                         0\n",
      "Respectable_Response            0\n",
      "Courteous_Exchange              0\n",
      "Evidence_of_active_listening    0\n",
      "dtype: int64\n"
     ]
    }
   ],
   "source": [
    "#Impute missing values for 'Children', 'Age', 'Income', 'Tenure', 'Bandwidth_GB_Year' with median or mean values.\n",
    "#Print to see if there is still in any null values.\n",
    "df['Children'] = df['Children'].fillna(df['Children'].median())\n",
    "df['Age'] = df['Age'].fillna(df['Age'].median())\n",
    "df['Income'] = df['Income'].fillna(df['Income'].mean())\n",
    "df['Tenure'] = df['Tenure'].fillna(df['Tenure'].mean())\n",
    "df['Bandwidth_GB_Year'] = df['Bandwidth_GB_Year'].fillna(df['Bandwidth_GB_Year'].mean())\n",
    "\n",
    "print(df.isna().sum())"
   ]
  },
  {
   "cell_type": "code",
   "execution_count": 37,
   "id": "4fc155e7",
   "metadata": {
    "scrolled": true
   },
   "outputs": [
    {
     "name": "stdout",
     "output_type": "stream",
     "text": [
      "0       False\n",
      "1       False\n",
      "2       False\n",
      "3       False\n",
      "4       False\n",
      "        ...  \n",
      "9995    False\n",
      "9996    False\n",
      "9997    False\n",
      "9998    False\n",
      "9999    False\n",
      "Length: 10000, dtype: bool\n"
     ]
    }
   ],
   "source": [
    "#Find duplicate rows.\n",
    "print(df.duplicated())"
   ]
  },
  {
   "cell_type": "code",
   "execution_count": 38,
   "id": "b2c9f2a3",
   "metadata": {
    "scrolled": true
   },
   "outputs": [
    {
     "name": "stdout",
     "output_type": "stream",
     "text": [
      "773\n"
     ]
    }
   ],
   "source": [
    "#Looking at the dataset we can see that the 'Zip' column has alot of incomplete values. \n",
    "#Using this code, we can see how many rows have incomplete data.\n",
    "df['Zip'] = df['Zip'].apply(str)\n",
    "num_row=df['Zip'].str.len()\n",
    "print(len(num_row[(num_row<5)]))"
   ]
  },
  {
   "cell_type": "code",
   "execution_count": 39,
   "id": "50282dbf",
   "metadata": {
    "scrolled": true
   },
   "outputs": [
    {
     "name": "stdout",
     "output_type": "stream",
     "text": [
      "      CaseOrder Customer_id                           Interaction  \\\n",
      "0             1     K409198  aa90260b-4141-4a24-8e36-b04ce1f4f77b   \n",
      "1             2     S120509  fb76459f-c047-4a9d-8af9-e0f7d4ac2524   \n",
      "2             3     K191035  344d114c-3736-4be5-98f7-c72c281e2d35   \n",
      "3             4      D90850  abfa2b40-2d43-4994-b15a-989b8c79e311   \n",
      "4             5     K662701  68a861fd-0d20-4e51-a587-8a90407ee574   \n",
      "...         ...         ...                                   ...   \n",
      "9995       9996     M324793  45deb5a2-ae04-4518-bf0b-c82db8dbe4a4   \n",
      "9996       9997     D861732  6e96b921-0c09-4993-bbda-a1ac6411061a   \n",
      "9997       9998     I243405  e8307ddf-9a01-4fff-bc59-4742e03fd24f   \n",
      "9998       9999     I641617  3775ccfc-0052-4107-81ae-9657f81ecdf3   \n",
      "9999      10000      T38070  9de5fb6e-bd33-4995-aec8-f01d0172a499   \n",
      "\n",
      "              City State                 County       Lat        Lng  \\\n",
      "0      Point Baker    AK  Prince of Wales-Hyder  56.25100 -133.37571   \n",
      "1      West Branch    MI                 Ogemaw  44.32893  -84.24080   \n",
      "2          Yamhill    OR                Yamhill  45.35589 -123.24657   \n",
      "3          Del Mar    CA              San Diego  32.96687 -117.24798   \n",
      "4        Needville    TX              Fort Bend  29.38012  -95.80673   \n",
      "...            ...   ...                    ...       ...        ...   \n",
      "9995   Mount Holly    VT                Rutland  43.43391  -72.78734   \n",
      "9996   Clarksville    TN             Montgomery  36.56907  -87.41694   \n",
      "9997      Mobeetie    TX                Wheeler  35.52039 -100.44180   \n",
      "9998    Carrollton    GA                Carroll  33.58016  -85.13241   \n",
      "9999  Clarkesville    GA              Habersham  34.70783  -83.53648   \n",
      "\n",
      "      Population      Area  ... MonthlyCharge Bandwidth_GB_Year  \\\n",
      "0             38     Urban  ...    171.449762        904.536110   \n",
      "1          10446     Urban  ...    242.948015        800.982766   \n",
      "2           3735     Urban  ...    159.440398       2054.706961   \n",
      "3          13863  Suburban  ...    120.249493       2164.579412   \n",
      "4          11352  Suburban  ...    150.761216        271.493436   \n",
      "...          ...       ...  ...           ...               ...   \n",
      "9995         640     Rural  ...    159.828800       6511.253000   \n",
      "9996       77168     Rural  ...    208.856400       5695.952000   \n",
      "9997         406     Rural  ...    168.220900       4159.306000   \n",
      "9998       35575     Urban  ...    252.628600       6468.457000   \n",
      "9999       12230     Urban  ...    218.371000       5857.586000   \n",
      "\n",
      "      Timely_Response  Timely_Fixes  Timely_Replacement Reliability  Options  \\\n",
      "0                   5             5                   5           3        4   \n",
      "1                   3             4                   3           3        4   \n",
      "2                   4             4                   2           4        4   \n",
      "3                   4             4                   4           2        5   \n",
      "4                   4             4                   4           3        4   \n",
      "...               ...           ...                 ...         ...      ...   \n",
      "9995                3             2                   3           3        4   \n",
      "9996                4             5                   5           4        4   \n",
      "9997                4             4                   4           4        4   \n",
      "9998                4             4                   6           4        3   \n",
      "9999                2             2                   3           3        3   \n",
      "\n",
      "      Respectable_Response  Courteous_Exchange  Evidence_of_active_listening  \n",
      "0                        4                   3                             4  \n",
      "1                        3                   4                             4  \n",
      "2                        3                   3                             3  \n",
      "3                        4                   3                             3  \n",
      "4                        4                   4                             5  \n",
      "...                    ...                 ...                           ...  \n",
      "9995                     3                   2                             3  \n",
      "9996                     5                   2                             5  \n",
      "9997                     4                   4                             5  \n",
      "9998                     3                   5                             4  \n",
      "9999                     3                   4                             1  \n",
      "\n",
      "[10000 rows x 50 columns]\n"
     ]
    }
   ],
   "source": [
    "#Drop the Zip Column due to a large number of incomplete data.\n",
    "df = df.drop('Zip',axis=1)\n",
    "print(df)"
   ]
  },
  {
   "cell_type": "code",
   "execution_count": 40,
   "id": "3d0612e9",
   "metadata": {},
   "outputs": [
    {
     "name": "stdout",
     "output_type": "stream",
     "text": [
      "0       5.0\n",
      "1       6.0\n",
      "2       4.0\n",
      "3       4.0\n",
      "4       3.0\n",
      "       ... \n",
      "9995    4.0\n",
      "9996    6.0\n",
      "9997    5.0\n",
      "9998    5.0\n",
      "9999    7.0\n",
      "Name: Sum_services, Length: 10000, dtype: float64\n"
     ]
    }
   ],
   "source": [
    "#Add up all the rows in each Service Column into a new Column called 'Sum_services'.\n",
    "\n",
    "df['Sum_services'] = df['InternetService'] + df['Phone'] + df['Multiple'] + \\\n",
    "df['OnlineSecurity'] +df['OnlineBackup'] + df['DeviceProtection'] +df['TechSupport'] +\\\n",
    "df['StreamingTV'] + df['StreamingMovies']\n",
    "\n",
    "print(df['Sum_services'])"
   ]
  },
  {
   "cell_type": "code",
   "execution_count": 41,
   "id": "0f87cb31",
   "metadata": {},
   "outputs": [
    {
     "data": {
      "text/plain": [
       "count    10000.000000\n",
       "mean         4.626800\n",
       "std          1.423982\n",
       "min          0.000000\n",
       "25%          4.000000\n",
       "50%          5.000000\n",
       "75%          6.000000\n",
       "max          9.000000\n",
       "Name: Sum_services, dtype: float64"
      ]
     },
     "execution_count": 41,
     "metadata": {},
     "output_type": "execute_result"
    }
   ],
   "source": [
    "#Look at central tendency values of new column.\n",
    "df['Sum_services'].describe()"
   ]
  },
  {
   "cell_type": "code",
   "execution_count": 42,
   "id": "1d14221f",
   "metadata": {},
   "outputs": [
    {
     "name": "stdout",
     "output_type": "stream",
     "text": [
      "(array([  75,  798, 1430, 2275, 3425, 3770, 4055, 4489, 4676, 4927, 5257,\n",
      "       5592, 6507, 6878, 7529, 7696, 9734], dtype=int64),)\n"
     ]
    }
   ],
   "source": [
    "#Create Z-Score of 'Sum_services' and put it into 'Z_ScoreServices' column and new variable df_z. Print Z-Score higher than 3.\n",
    "df['Z_ScoreServices']=stats.zscore(df['Sum_services'])\n",
    "df_z=df['Z_ScoreServices']\n",
    "print(np.where(df_z > 3))"
   ]
  },
  {
   "cell_type": "code",
   "execution_count": 43,
   "id": "d88e2599",
   "metadata": {},
   "outputs": [
    {
     "name": "stdout",
     "output_type": "stream",
     "text": [
      "3.0712599571175825\n"
     ]
    }
   ],
   "source": [
    "#Confirm that column 'Z_ScoreServices' in position 75 is over 3.\n",
    "print (df_z.iloc[75])"
   ]
  },
  {
   "cell_type": "code",
   "execution_count": 44,
   "id": "11630297",
   "metadata": {},
   "outputs": [
    {
     "name": "stdout",
     "output_type": "stream",
     "text": [
      "-0.4401961358093162\n"
     ]
    }
   ],
   "source": [
    "#Declare new variable df_cln to remove rows with Z-Score higher 3 and lower than -3. Print to ensure removal.\n",
    "df_cln = df\n",
    "df_cln = df_cln[(df_z < 3) & (df_z > -3)]\n",
    "\n",
    "print (df_cln['Z_ScoreServices'].iloc[75])\n"
   ]
  },
  {
   "cell_type": "code",
   "execution_count": 45,
   "id": "a9d25998",
   "metadata": {},
   "outputs": [
    {
     "data": {
      "text/html": [
       "<div>\n",
       "<style scoped>\n",
       "    .dataframe tbody tr th:only-of-type {\n",
       "        vertical-align: middle;\n",
       "    }\n",
       "\n",
       "    .dataframe tbody tr th {\n",
       "        vertical-align: top;\n",
       "    }\n",
       "\n",
       "    .dataframe thead th {\n",
       "        text-align: right;\n",
       "    }\n",
       "</style>\n",
       "<table border=\"1\" class=\"dataframe\">\n",
       "  <thead>\n",
       "    <tr style=\"text-align: right;\">\n",
       "      <th></th>\n",
       "      <th>Children</th>\n",
       "      <th>Age</th>\n",
       "      <th>Income</th>\n",
       "      <th>Churn</th>\n",
       "      <th>Outage_sec_perweek</th>\n",
       "      <th>Yearly_equip_failure</th>\n",
       "      <th>MonthlyCharge</th>\n",
       "      <th>Bandwidth_GB_Year</th>\n",
       "      <th>Timely_Response</th>\n",
       "      <th>Timely_Fixes</th>\n",
       "      <th>Timely_Replacement</th>\n",
       "      <th>Reliability</th>\n",
       "      <th>Options</th>\n",
       "      <th>Respectable_Response</th>\n",
       "      <th>Courteous_Exchange</th>\n",
       "      <th>Evidence_of_active_listening</th>\n",
       "      <th>Sum_services</th>\n",
       "    </tr>\n",
       "  </thead>\n",
       "  <tbody>\n",
       "    <tr>\n",
       "      <th>0</th>\n",
       "      <td>1.0</td>\n",
       "      <td>68.0</td>\n",
       "      <td>28561.990000</td>\n",
       "      <td>0.0</td>\n",
       "      <td>6.972566</td>\n",
       "      <td>1</td>\n",
       "      <td>171.449762</td>\n",
       "      <td>904.536110</td>\n",
       "      <td>5</td>\n",
       "      <td>5</td>\n",
       "      <td>5</td>\n",
       "      <td>3</td>\n",
       "      <td>4</td>\n",
       "      <td>4</td>\n",
       "      <td>3</td>\n",
       "      <td>4</td>\n",
       "      <td>5.0</td>\n",
       "    </tr>\n",
       "    <tr>\n",
       "      <th>1</th>\n",
       "      <td>1.0</td>\n",
       "      <td>27.0</td>\n",
       "      <td>21704.770000</td>\n",
       "      <td>1.0</td>\n",
       "      <td>12.014541</td>\n",
       "      <td>1</td>\n",
       "      <td>242.948015</td>\n",
       "      <td>800.982766</td>\n",
       "      <td>3</td>\n",
       "      <td>4</td>\n",
       "      <td>3</td>\n",
       "      <td>3</td>\n",
       "      <td>4</td>\n",
       "      <td>3</td>\n",
       "      <td>4</td>\n",
       "      <td>4</td>\n",
       "      <td>6.0</td>\n",
       "    </tr>\n",
       "    <tr>\n",
       "      <th>2</th>\n",
       "      <td>4.0</td>\n",
       "      <td>50.0</td>\n",
       "      <td>39936.762226</td>\n",
       "      <td>0.0</td>\n",
       "      <td>10.245616</td>\n",
       "      <td>1</td>\n",
       "      <td>159.440398</td>\n",
       "      <td>2054.706961</td>\n",
       "      <td>4</td>\n",
       "      <td>4</td>\n",
       "      <td>2</td>\n",
       "      <td>4</td>\n",
       "      <td>4</td>\n",
       "      <td>3</td>\n",
       "      <td>3</td>\n",
       "      <td>3</td>\n",
       "      <td>4.0</td>\n",
       "    </tr>\n",
       "    <tr>\n",
       "      <th>3</th>\n",
       "      <td>1.0</td>\n",
       "      <td>48.0</td>\n",
       "      <td>18925.230000</td>\n",
       "      <td>0.0</td>\n",
       "      <td>15.206193</td>\n",
       "      <td>0</td>\n",
       "      <td>120.249493</td>\n",
       "      <td>2164.579412</td>\n",
       "      <td>4</td>\n",
       "      <td>4</td>\n",
       "      <td>4</td>\n",
       "      <td>2</td>\n",
       "      <td>5</td>\n",
       "      <td>4</td>\n",
       "      <td>3</td>\n",
       "      <td>3</td>\n",
       "      <td>4.0</td>\n",
       "    </tr>\n",
       "    <tr>\n",
       "      <th>4</th>\n",
       "      <td>0.0</td>\n",
       "      <td>83.0</td>\n",
       "      <td>40074.190000</td>\n",
       "      <td>1.0</td>\n",
       "      <td>8.960316</td>\n",
       "      <td>1</td>\n",
       "      <td>150.761216</td>\n",
       "      <td>271.493436</td>\n",
       "      <td>4</td>\n",
       "      <td>4</td>\n",
       "      <td>4</td>\n",
       "      <td>3</td>\n",
       "      <td>4</td>\n",
       "      <td>4</td>\n",
       "      <td>4</td>\n",
       "      <td>5</td>\n",
       "      <td>3.0</td>\n",
       "    </tr>\n",
       "    <tr>\n",
       "      <th>...</th>\n",
       "      <td>...</td>\n",
       "      <td>...</td>\n",
       "      <td>...</td>\n",
       "      <td>...</td>\n",
       "      <td>...</td>\n",
       "      <td>...</td>\n",
       "      <td>...</td>\n",
       "      <td>...</td>\n",
       "      <td>...</td>\n",
       "      <td>...</td>\n",
       "      <td>...</td>\n",
       "      <td>...</td>\n",
       "      <td>...</td>\n",
       "      <td>...</td>\n",
       "      <td>...</td>\n",
       "      <td>...</td>\n",
       "      <td>...</td>\n",
       "    </tr>\n",
       "    <tr>\n",
       "      <th>9995</th>\n",
       "      <td>3.0</td>\n",
       "      <td>53.0</td>\n",
       "      <td>55723.740000</td>\n",
       "      <td>0.0</td>\n",
       "      <td>9.265392</td>\n",
       "      <td>0</td>\n",
       "      <td>159.828800</td>\n",
       "      <td>6511.253000</td>\n",
       "      <td>3</td>\n",
       "      <td>2</td>\n",
       "      <td>3</td>\n",
       "      <td>3</td>\n",
       "      <td>4</td>\n",
       "      <td>3</td>\n",
       "      <td>2</td>\n",
       "      <td>3</td>\n",
       "      <td>4.0</td>\n",
       "    </tr>\n",
       "    <tr>\n",
       "      <th>9996</th>\n",
       "      <td>4.0</td>\n",
       "      <td>48.0</td>\n",
       "      <td>39936.762226</td>\n",
       "      <td>0.0</td>\n",
       "      <td>8.115849</td>\n",
       "      <td>0</td>\n",
       "      <td>208.856400</td>\n",
       "      <td>5695.952000</td>\n",
       "      <td>4</td>\n",
       "      <td>5</td>\n",
       "      <td>5</td>\n",
       "      <td>4</td>\n",
       "      <td>4</td>\n",
       "      <td>5</td>\n",
       "      <td>2</td>\n",
       "      <td>5</td>\n",
       "      <td>6.0</td>\n",
       "    </tr>\n",
       "    <tr>\n",
       "      <th>9997</th>\n",
       "      <td>1.0</td>\n",
       "      <td>53.0</td>\n",
       "      <td>39936.762226</td>\n",
       "      <td>0.0</td>\n",
       "      <td>4.837696</td>\n",
       "      <td>0</td>\n",
       "      <td>168.220900</td>\n",
       "      <td>4159.306000</td>\n",
       "      <td>4</td>\n",
       "      <td>4</td>\n",
       "      <td>4</td>\n",
       "      <td>4</td>\n",
       "      <td>4</td>\n",
       "      <td>4</td>\n",
       "      <td>4</td>\n",
       "      <td>5</td>\n",
       "      <td>5.0</td>\n",
       "    </tr>\n",
       "    <tr>\n",
       "      <th>9998</th>\n",
       "      <td>1.0</td>\n",
       "      <td>39.0</td>\n",
       "      <td>16667.580000</td>\n",
       "      <td>0.0</td>\n",
       "      <td>12.076460</td>\n",
       "      <td>0</td>\n",
       "      <td>252.628600</td>\n",
       "      <td>6468.457000</td>\n",
       "      <td>4</td>\n",
       "      <td>4</td>\n",
       "      <td>6</td>\n",
       "      <td>4</td>\n",
       "      <td>3</td>\n",
       "      <td>3</td>\n",
       "      <td>5</td>\n",
       "      <td>4</td>\n",
       "      <td>5.0</td>\n",
       "    </tr>\n",
       "    <tr>\n",
       "      <th>9999</th>\n",
       "      <td>1.0</td>\n",
       "      <td>28.0</td>\n",
       "      <td>39936.762226</td>\n",
       "      <td>0.0</td>\n",
       "      <td>12.641760</td>\n",
       "      <td>0</td>\n",
       "      <td>218.371000</td>\n",
       "      <td>5857.586000</td>\n",
       "      <td>2</td>\n",
       "      <td>2</td>\n",
       "      <td>3</td>\n",
       "      <td>3</td>\n",
       "      <td>3</td>\n",
       "      <td>3</td>\n",
       "      <td>4</td>\n",
       "      <td>1</td>\n",
       "      <td>7.0</td>\n",
       "    </tr>\n",
       "  </tbody>\n",
       "</table>\n",
       "<p>10000 rows × 17 columns</p>\n",
       "</div>"
      ],
      "text/plain": [
       "      Children   Age        Income  Churn  Outage_sec_perweek  \\\n",
       "0          1.0  68.0  28561.990000    0.0            6.972566   \n",
       "1          1.0  27.0  21704.770000    1.0           12.014541   \n",
       "2          4.0  50.0  39936.762226    0.0           10.245616   \n",
       "3          1.0  48.0  18925.230000    0.0           15.206193   \n",
       "4          0.0  83.0  40074.190000    1.0            8.960316   \n",
       "...        ...   ...           ...    ...                 ...   \n",
       "9995       3.0  53.0  55723.740000    0.0            9.265392   \n",
       "9996       4.0  48.0  39936.762226    0.0            8.115849   \n",
       "9997       1.0  53.0  39936.762226    0.0            4.837696   \n",
       "9998       1.0  39.0  16667.580000    0.0           12.076460   \n",
       "9999       1.0  28.0  39936.762226    0.0           12.641760   \n",
       "\n",
       "      Yearly_equip_failure  MonthlyCharge  Bandwidth_GB_Year  Timely_Response  \\\n",
       "0                        1     171.449762         904.536110                5   \n",
       "1                        1     242.948015         800.982766                3   \n",
       "2                        1     159.440398        2054.706961                4   \n",
       "3                        0     120.249493        2164.579412                4   \n",
       "4                        1     150.761216         271.493436                4   \n",
       "...                    ...            ...                ...              ...   \n",
       "9995                     0     159.828800        6511.253000                3   \n",
       "9996                     0     208.856400        5695.952000                4   \n",
       "9997                     0     168.220900        4159.306000                4   \n",
       "9998                     0     252.628600        6468.457000                4   \n",
       "9999                     0     218.371000        5857.586000                2   \n",
       "\n",
       "      Timely_Fixes  Timely_Replacement  Reliability  Options  \\\n",
       "0                5                   5            3        4   \n",
       "1                4                   3            3        4   \n",
       "2                4                   2            4        4   \n",
       "3                4                   4            2        5   \n",
       "4                4                   4            3        4   \n",
       "...            ...                 ...          ...      ...   \n",
       "9995             2                   3            3        4   \n",
       "9996             5                   5            4        4   \n",
       "9997             4                   4            4        4   \n",
       "9998             4                   6            4        3   \n",
       "9999             2                   3            3        3   \n",
       "\n",
       "      Respectable_Response  Courteous_Exchange  Evidence_of_active_listening  \\\n",
       "0                        4                   3                             4   \n",
       "1                        3                   4                             4   \n",
       "2                        3                   3                             3   \n",
       "3                        4                   3                             3   \n",
       "4                        4                   4                             5   \n",
       "...                    ...                 ...                           ...   \n",
       "9995                     3                   2                             3   \n",
       "9996                     5                   2                             5   \n",
       "9997                     4                   4                             5   \n",
       "9998                     3                   5                             4   \n",
       "9999                     3                   4                             1   \n",
       "\n",
       "      Sum_services  \n",
       "0              5.0  \n",
       "1              6.0  \n",
       "2              4.0  \n",
       "3              4.0  \n",
       "4              3.0  \n",
       "...            ...  \n",
       "9995           4.0  \n",
       "9996           6.0  \n",
       "9997           5.0  \n",
       "9998           5.0  \n",
       "9999           7.0  \n",
       "\n",
       "[10000 rows x 17 columns]"
      ]
     },
     "execution_count": 45,
     "metadata": {},
     "output_type": "execute_result"
    }
   ],
   "source": [
    "#Create new dataframe and drop all unused columns for our analysis\n",
    "dflog=df.drop(['CaseOrder','Customer_id','Interaction','City','State',\n",
    "               'County','Lat','Lng','Population','Timezone','Job',\n",
    "               'Education','Marital','InternetService','Phone','Multiple','OnlineSecurity',\n",
    "               'OnlineBackup','DeviceProtection','TechSupport','StreamingTV','StreamingMovies',\n",
    "               'Email','Contacts', 'Gender','PaperlessBilling','PaymentMethod',\n",
    "               'Techie','Port_modem','Tablet', 'Tenure','Z_ScoreServices','Area','Employment','Contract'], axis = 1)\n",
    "\n",
    "dflog"
   ]
  },
  {
   "cell_type": "code",
   "execution_count": 46,
   "id": "afb7e3d4",
   "metadata": {},
   "outputs": [],
   "source": [
    "#Reinitialize df_cln\n",
    "df_cln = dflog"
   ]
  },
  {
   "cell_type": "markdown",
   "id": "603a8664",
   "metadata": {},
   "source": [
    "# Exploratory Data Analysis"
   ]
  },
  {
   "cell_type": "code",
   "execution_count": 47,
   "id": "ae0d37bc",
   "metadata": {
    "scrolled": false
   },
   "outputs": [
    {
     "data": {
      "image/png": "[encoded data removed]",
      "text/plain": [
       "<Figure size 432x288 with 1 Axes>"
      ]
     },
     "metadata": {
      "needs_background": "light"
     },
     "output_type": "display_data"
    }
   ],
   "source": [
    "#Perform BoxPlot to find Outliers.\n",
    "g_boxplot = sns.boxplot(x='Churn', y='Sum_services', data=df_cln)"
   ]
  },
  {
   "cell_type": "code",
   "execution_count": 48,
   "id": "73e60ad0",
   "metadata": {
    "scrolled": true
   },
   "outputs": [
    {
     "data": {
      "image/png": "[encoded data removed]",
      "text/plain": [
       "<Figure size 432x288 with 1 Axes>"
      ]
     },
     "metadata": {
      "needs_background": "light"
     },
     "output_type": "display_data"
    }
   ],
   "source": [
    "#Perform Histogram on 'Sum_services'.\n",
    "h_gram=plt.hist(df_cln['Sum_services'], bins=8)"
   ]
  },
  {
   "cell_type": "code",
   "execution_count": 49,
   "id": "bbcedb9c",
   "metadata": {},
   "outputs": [
    {
     "data": {
      "text/plain": [
       "array([[<AxesSubplot:title={'center':'Sum_services'}>,\n",
       "        <AxesSubplot:title={'center':'Income'}>,\n",
       "        <AxesSubplot:title={'center':'Timely_Fixes'}>],\n",
       "       [<AxesSubplot:title={'center':'Timely_Replacement'}>,\n",
       "        <AxesSubplot:title={'center':'Reliability'}>,\n",
       "        <AxesSubplot:title={'center':'Options'}>],\n",
       "       [<AxesSubplot:title={'center':'Respectable_Response'}>,\n",
       "        <AxesSubplot:title={'center':'Courteous_Exchange'}>,\n",
       "        <AxesSubplot:title={'center':'Evidence_of_active_listening'}>]],\n",
       "      dtype=object)"
      ]
     },
     "execution_count": 49,
     "metadata": {},
     "output_type": "execute_result"
    },
    {
     "data": {
      "image/png": "[encoded data removed]",
      "text/plain": [
       "<Figure size 720x720 with 9 Axes>"
      ]
     },
     "metadata": {
      "needs_background": "light"
     },
     "output_type": "display_data"
    }
   ],
   "source": [
    "#Perform Univariate Analysis histogram on all predictor variables.\n",
    "df_cln[['Sum_services','Income', 'Timely_Fixes','Timely_Replacement','Reliability','Options',\n",
    "        'Respectable_Response','Courteous_Exchange','Evidence_of_active_listening']].hist(figsize=(10,10),bins=10)"
   ]
  },
  {
   "cell_type": "code",
   "execution_count": 50,
   "id": "0f529f48",
   "metadata": {},
   "outputs": [
    {
     "data": {
      "text/plain": [
       "<AxesSubplot:xlabel='Sum_services'>"
      ]
     },
     "execution_count": 50,
     "metadata": {},
     "output_type": "execute_result"
    },
    {
     "data": {
      "image/png": "[encoded data removed]",
      "text/plain": [
       "<Figure size 432x288 with 1 Axes>"
      ]
     },
     "metadata": {
      "needs_background": "light"
     },
     "output_type": "display_data"
    }
   ],
   "source": [
    "#Create Boxplot for 'Sum_services'.\n",
    "sns.boxplot(x='Sum_services', data=df_cln)"
   ]
  },
  {
   "cell_type": "code",
   "execution_count": 51,
   "id": "f6157679",
   "metadata": {},
   "outputs": [
    {
     "data": {
      "text/plain": [
       "<AxesSubplot:xlabel='Income'>"
      ]
     },
     "execution_count": 51,
     "metadata": {},
     "output_type": "execute_result"
    },
    {
     "data": {
      "image/png": "[encoded data removed]",
      "text/plain": [
       "<Figure size 432x288 with 1 Axes>"
      ]
     },
     "metadata": {
      "needs_background": "light"
     },
     "output_type": "display_data"
    }
   ],
   "source": [
    "#Create Boxplot for 'Income'.\n",
    "sns.boxplot(x='Income', data=df_cln)"
   ]
  },
  {
   "cell_type": "code",
   "execution_count": 52,
   "id": "a380235d",
   "metadata": {
    "scrolled": true
   },
   "outputs": [
    {
     "data": {
      "image/png": "[encoded data removed]",
      "text/plain": [
       "<Figure size 432x288 with 1 Axes>"
      ]
     },
     "metadata": {
      "needs_background": "light"
     },
     "output_type": "display_data"
    }
   ],
   "source": [
    "#Perform Scatterplot on Various Predictor Variable\n",
    "sns.scatterplot(x=df_cln['MonthlyCharge'], y=df_cln['Outage_sec_perweek'], color='blue')\n",
    "plt.show();"
   ]
  },
  {
   "cell_type": "code",
   "execution_count": 53,
   "id": "926917b9",
   "metadata": {},
   "outputs": [
    {
     "data": {
      "image/png": "[encoded data removed]",
      "text/plain": [
       "<Figure size 432x288 with 1 Axes>"
      ]
     },
     "metadata": {
      "needs_background": "light"
     },
     "output_type": "display_data"
    }
   ],
   "source": [
    "#Scatterplot for potentially correlated variable\n",
    "sns.scatterplot(x=df_cln['MonthlyCharge'], y=df_cln['Churn'], color='blue')\n",
    "plt.show();"
   ]
  },
  {
   "cell_type": "code",
   "execution_count": 54,
   "id": "6ffcf551",
   "metadata": {},
   "outputs": [
    {
     "data": {
      "image/png": "[encoded data removed]",
      "text/plain": [
       "<Figure size 432x288 with 1 Axes>"
      ]
     },
     "metadata": {
      "needs_background": "light"
     },
     "output_type": "display_data"
    }
   ],
   "source": [
    "#Scatterplot for potentially correlated variable\n",
    "sns.scatterplot(x=df_cln['Outage_sec_perweek'], y=df_cln['Churn'], color='blue')\n",
    "plt.show();"
   ]
  },
  {
   "cell_type": "code",
   "execution_count": 55,
   "id": "1b38a594",
   "metadata": {},
   "outputs": [
    {
     "data": {
      "image/png": "[encoded data removed]",
      "text/plain": [
       "<Figure size 432x288 with 1 Axes>"
      ]
     },
     "metadata": {
      "needs_background": "light"
     },
     "output_type": "display_data"
    }
   ],
   "source": [
    "#Scatterplot for potentially correlated variable\n",
    "sns.scatterplot(x=df_cln['Timely_Fixes'], y=df_cln['Churn'], color='blue')\n",
    "plt.show()"
   ]
  },
  {
   "cell_type": "code",
   "execution_count": 56,
   "id": "dcf4e30e",
   "metadata": {},
   "outputs": [
    {
     "data": {
      "image/png": "[encoded data removed]",
      "text/plain": [
       "<Figure size 432x288 with 1 Axes>"
      ]
     },
     "metadata": {
      "needs_background": "light"
     },
     "output_type": "display_data"
    }
   ],
   "source": [
    "#Create Bivariate Analysis of Churn and predictor variables.\n",
    "sns.scatterplot(x='Churn',y='Income', data=df_cln)\n",
    "plt.show()"
   ]
  },
  {
   "cell_type": "code",
   "execution_count": 57,
   "id": "b5c1cb74",
   "metadata": {},
   "outputs": [
    {
     "data": {
      "image/png": "[encoded data removed]",
      "text/plain": [
       "<Figure size 432x288 with 1 Axes>"
      ]
     },
     "metadata": {
      "needs_background": "light"
     },
     "output_type": "display_data"
    }
   ],
   "source": [
    "#Create Bivariate Analysis of Churn and predictor variables.\n",
    "sns.scatterplot(x='Churn',y='Timely_Fixes', data=df_cln)\n",
    "plt.show()"
   ]
  },
  {
   "cell_type": "code",
   "execution_count": 58,
   "id": "12ba3666",
   "metadata": {},
   "outputs": [
    {
     "data": {
      "image/png": "[encoded data removed]",
      "text/plain": [
       "<Figure size 432x288 with 1 Axes>"
      ]
     },
     "metadata": {
      "needs_background": "light"
     },
     "output_type": "display_data"
    }
   ],
   "source": [
    "#Create Bivariate Analysis of Churn and predictor variables.\n",
    "sns.scatterplot(x='Churn',y='Timely_Replacement', data=df_cln)\n",
    "plt.show()"
   ]
  },
  {
   "cell_type": "code",
   "execution_count": 59,
   "id": "cfb7e217",
   "metadata": {},
   "outputs": [
    {
     "data": {
      "image/png": "[encoded data removed]",
      "text/plain": [
       "<Figure size 432x288 with 1 Axes>"
      ]
     },
     "metadata": {
      "needs_background": "light"
     },
     "output_type": "display_data"
    }
   ],
   "source": [
    "#Create Bivariate Analysis of Churn and predictor variables.\n",
    "sns.scatterplot(x='Churn',y='Reliability', data=df_cln)\n",
    "plt.show()"
   ]
  },
  {
   "cell_type": "code",
   "execution_count": 60,
   "id": "638d64e7",
   "metadata": {
    "scrolled": true
   },
   "outputs": [
    {
     "data": {
      "image/png": "[encoded data removed]",
      "text/plain": [
       "<Figure size 432x288 with 1 Axes>"
      ]
     },
     "metadata": {
      "needs_background": "light"
     },
     "output_type": "display_data"
    }
   ],
   "source": [
    "#Create Bivariate Analysis of Churn and predictor variables.\n",
    "sns.scatterplot(x='Churn',y='Options', data=df_cln)\n",
    "plt.show()"
   ]
  },
  {
   "cell_type": "code",
   "execution_count": 61,
   "id": "0af8f8ab",
   "metadata": {},
   "outputs": [
    {
     "data": {
      "image/png": "[encoded data removed]",
      "text/plain": [
       "<Figure size 432x288 with 1 Axes>"
      ]
     },
     "metadata": {
      "needs_background": "light"
     },
     "output_type": "display_data"
    }
   ],
   "source": [
    "#Create Bivariate Analysis of Churn and predictor variables.\n",
    "sns.scatterplot(x='Churn',y='Respectable_Response', data=df_cln)\n",
    "plt.show()"
   ]
  },
  {
   "cell_type": "code",
   "execution_count": 62,
   "id": "9911edfc",
   "metadata": {
    "scrolled": true
   },
   "outputs": [
    {
     "data": {
      "image/png": "[encoded data removed]",
      "text/plain": [
       "<Figure size 432x288 with 1 Axes>"
      ]
     },
     "metadata": {
      "needs_background": "light"
     },
     "output_type": "display_data"
    }
   ],
   "source": [
    "#Create Bivariate Analysis of Churn and predictor variables.\n",
    "sns.scatterplot(x='Churn',y='Courteous_Exchange', data=df_cln)\n",
    "plt.show()"
   ]
  },
  {
   "cell_type": "code",
   "execution_count": 63,
   "id": "2bbc5cdf",
   "metadata": {},
   "outputs": [
    {
     "data": {
      "image/png": "[encoded data removed]",
      "text/plain": [
       "<Figure size 432x288 with 1 Axes>"
      ]
     },
     "metadata": {
      "needs_background": "light"
     },
     "output_type": "display_data"
    }
   ],
   "source": [
    "#Create Bivariate Analysis of Churn and predictor variables.\n",
    "sns.regplot(x='Churn',y='Sum_services', data=df_cln, line_kws={\"color\": \"red\"})\n",
    "plt.show()"
   ]
  },
  {
   "cell_type": "code",
   "execution_count": 64,
   "id": "5e8a83d8",
   "metadata": {},
   "outputs": [
    {
     "data": {
      "image/png": "[encoded data removed]",
      "text/plain": [
       "<Figure size 432x288 with 1 Axes>"
      ]
     },
     "metadata": {
      "needs_background": "light"
     },
     "output_type": "display_data"
    }
   ],
   "source": [
    "#Create Bivariate Analysis of Churn and predictor variables.\n",
    "sns.regplot(x='Churn',y='Income', data=df_cln, line_kws={\"color\": \"red\"})\n",
    "plt.show()"
   ]
  },
  {
   "cell_type": "code",
   "execution_count": 65,
   "id": "d1768841",
   "metadata": {},
   "outputs": [
    {
     "data": {
      "image/png": "[encoded data removed]",
      "text/plain": [
       "<Figure size 432x288 with 1 Axes>"
      ]
     },
     "metadata": {
      "needs_background": "light"
     },
     "output_type": "display_data"
    }
   ],
   "source": [
    "#Create Bivariate Analysis of Churn and predictor variables.\n",
    "sns.regplot(x='Churn',y='Timely_Fixes', data=df_cln, line_kws={\"color\": \"red\"})\n",
    "plt.show()"
   ]
  },
  {
   "cell_type": "code",
   "execution_count": 66,
   "id": "ce39ec10",
   "metadata": {},
   "outputs": [
    {
     "data": {
      "image/png": "[encoded data removed]",
      "text/plain": [
       "<Figure size 432x288 with 1 Axes>"
      ]
     },
     "metadata": {
      "needs_background": "light"
     },
     "output_type": "display_data"
    }
   ],
   "source": [
    "#Create Bivariate Analysis of Churn and predictor variables.\n",
    "sns.regplot(x='Churn',y='Timely_Replacement', data=df_cln, line_kws={\"color\": \"red\"})\n",
    "plt.show()"
   ]
  },
  {
   "cell_type": "code",
   "execution_count": 67,
   "id": "790562a1",
   "metadata": {},
   "outputs": [
    {
     "data": {
      "image/png": "[encoded data removed]",
      "text/plain": [
       "<Figure size 432x288 with 1 Axes>"
      ]
     },
     "metadata": {
      "needs_background": "light"
     },
     "output_type": "display_data"
    }
   ],
   "source": [
    "#Create Bivariate Analysis of Churn and predictor variables.\n",
    "sns.regplot(x='Churn',y='Reliability', data=df_cln, line_kws={\"color\": \"red\"})\n",
    "plt.show()"
   ]
  },
  {
   "cell_type": "code",
   "execution_count": 68,
   "id": "facab0dc",
   "metadata": {},
   "outputs": [
    {
     "data": {
      "image/png": "[encoded data removed]",
      "text/plain": [
       "<Figure size 432x288 with 1 Axes>"
      ]
     },
     "metadata": {
      "needs_background": "light"
     },
     "output_type": "display_data"
    }
   ],
   "source": [
    "#Create Bivariate Analysis of Churn and predictor variables.\n",
    "sns.regplot(x='Churn',y='Options', data=df_cln, line_kws={\"color\": \"red\"})\n",
    "plt.show()"
   ]
  },
  {
   "cell_type": "code",
   "execution_count": 69,
   "id": "9032b703",
   "metadata": {},
   "outputs": [
    {
     "data": {
      "image/png": "[encoded data removed]",
      "text/plain": [
       "<Figure size 432x288 with 1 Axes>"
      ]
     },
     "metadata": {
      "needs_background": "light"
     },
     "output_type": "display_data"
    }
   ],
   "source": [
    "#Create Bivariate Analysis of Churn and predictor variables.\n",
    "sns.regplot(x='Churn',y='Respectable_Response', data=df_cln, line_kws={\"color\": \"red\"})\n",
    "plt.show()"
   ]
  },
  {
   "cell_type": "code",
   "execution_count": 70,
   "id": "f7b1be2d",
   "metadata": {},
   "outputs": [
    {
     "data": {
      "image/png": "[encoded data removed]",
      "text/plain": [
       "<Figure size 432x288 with 1 Axes>"
      ]
     },
     "metadata": {
      "needs_background": "light"
     },
     "output_type": "display_data"
    }
   ],
   "source": [
    "#Create Bivariate Analysis of Churn and predictor variables.\n",
    "sns.regplot(x='Churn',y='Courteous_Exchange', data=df_cln, line_kws={\"color\": \"red\"})\n",
    "plt.show()"
   ]
  },
  {
   "cell_type": "code",
   "execution_count": 71,
   "id": "73a083a4",
   "metadata": {},
   "outputs": [
    {
     "data": {
      "image/png": "[encoded data removed]",
      "text/plain": [
       "<Figure size 432x288 with 1 Axes>"
      ]
     },
     "metadata": {
      "needs_background": "light"
     },
     "output_type": "display_data"
    }
   ],
   "source": [
    "#Create Bivariate Analysis of Churn and predictor variables.\n",
    "sns.regplot(x='Churn',y='Evidence_of_active_listening', data=df_cln, line_kws={\"color\": \"red\"})\n",
    "plt.show()"
   ]
  },
  {
   "cell_type": "markdown",
   "id": "bd69f3b2",
   "metadata": {},
   "source": [
    "# Export the Cleaned Dataset"
   ]
  },
  {
   "cell_type": "code",
   "execution_count": 72,
   "id": "9ee863e5",
   "metadata": {},
   "outputs": [],
   "source": [
    "#Export cleaned dataset to a new CSV file\n",
    "df_cln.to_csv('D212_Cleaned_Dataset_T1.csv')"
   ]
  },
  {
   "cell_type": "markdown",
   "id": "f657b452",
   "metadata": {},
   "source": [
    "# Data Preprocessing"
   ]
  },
  {
   "cell_type": "code",
   "execution_count": 73,
   "id": "fb44113c",
   "metadata": {
    "scrolled": true
   },
   "outputs": [],
   "source": [
    "#Creat copy of df_cln\n",
    "df_model=df_cln.copy()\n",
    "df_model = df_model.drop(['Churn'], axis = 1)"
   ]
  },
  {
   "cell_type": "code",
   "execution_count": 74,
   "id": "352525fb",
   "metadata": {
    "scrolled": true
   },
   "outputs": [
    {
     "name": "stdout",
     "output_type": "stream",
     "text": [
      "      Children   Age        Income  Outage_sec_perweek  Yearly_equip_failure  \\\n",
      "0          1.0  68.0  28561.990000            6.972566                     1   \n",
      "1          1.0  27.0  21704.770000           12.014541                     1   \n",
      "2          4.0  50.0  39936.762226           10.245616                     1   \n",
      "3          1.0  48.0  18925.230000           15.206193                     0   \n",
      "4          0.0  83.0  40074.190000            8.960316                     1   \n",
      "...        ...   ...           ...                 ...                   ...   \n",
      "9995       3.0  53.0  55723.740000            9.265392                     0   \n",
      "9996       4.0  48.0  39936.762226            8.115849                     0   \n",
      "9997       1.0  53.0  39936.762226            4.837696                     0   \n",
      "9998       1.0  39.0  16667.580000           12.076460                     0   \n",
      "9999       1.0  28.0  39936.762226           12.641760                     0   \n",
      "\n",
      "      MonthlyCharge  Bandwidth_GB_Year  Timely_Response  Timely_Fixes  \\\n",
      "0        171.449762         904.536110                5             5   \n",
      "1        242.948015         800.982766                3             4   \n",
      "2        159.440398        2054.706961                4             4   \n",
      "3        120.249493        2164.579412                4             4   \n",
      "4        150.761216         271.493436                4             4   \n",
      "...             ...                ...              ...           ...   \n",
      "9995     159.828800        6511.253000                3             2   \n",
      "9996     208.856400        5695.952000                4             5   \n",
      "9997     168.220900        4159.306000                4             4   \n",
      "9998     252.628600        6468.457000                4             4   \n",
      "9999     218.371000        5857.586000                2             2   \n",
      "\n",
      "      Timely_Replacement  Reliability  Options  Respectable_Response  \\\n",
      "0                      5            3        4                     4   \n",
      "1                      3            3        4                     3   \n",
      "2                      2            4        4                     3   \n",
      "3                      4            2        5                     4   \n",
      "4                      4            3        4                     4   \n",
      "...                  ...          ...      ...                   ...   \n",
      "9995                   3            3        4                     3   \n",
      "9996                   5            4        4                     5   \n",
      "9997                   4            4        4                     4   \n",
      "9998                   6            4        3                     3   \n",
      "9999                   3            3        3                     3   \n",
      "\n",
      "      Courteous_Exchange  Evidence_of_active_listening  Sum_services  \n",
      "0                      3                             4           5.0  \n",
      "1                      4                             4           6.0  \n",
      "2                      3                             3           4.0  \n",
      "3                      3                             3           4.0  \n",
      "4                      4                             5           3.0  \n",
      "...                  ...                           ...           ...  \n",
      "9995                   2                             3           4.0  \n",
      "9996                   2                             5           6.0  \n",
      "9997                   4                             5           5.0  \n",
      "9998                   5                             4           5.0  \n",
      "9999                   4                             1           7.0  \n",
      "\n",
      "[10000 rows x 16 columns]\n"
     ]
    }
   ],
   "source": [
    "#Look at the new dataframe\n",
    "print (df_model)"
   ]
  },
  {
   "cell_type": "code",
   "execution_count": 75,
   "id": "ec3551a3",
   "metadata": {
    "scrolled": true
   },
   "outputs": [
    {
     "data": {
      "text/html": [
       "<div>\n",
       "<style scoped>\n",
       "    .dataframe tbody tr th:only-of-type {\n",
       "        vertical-align: middle;\n",
       "    }\n",
       "\n",
       "    .dataframe tbody tr th {\n",
       "        vertical-align: top;\n",
       "    }\n",
       "\n",
       "    .dataframe thead th {\n",
       "        text-align: right;\n",
       "    }\n",
       "</style>\n",
       "<table border=\"1\" class=\"dataframe\">\n",
       "  <thead>\n",
       "    <tr style=\"text-align: right;\">\n",
       "      <th></th>\n",
       "      <th>Children</th>\n",
       "      <th>Age</th>\n",
       "      <th>Income</th>\n",
       "      <th>Outage_sec_perweek</th>\n",
       "      <th>Yearly_equip_failure</th>\n",
       "      <th>MonthlyCharge</th>\n",
       "      <th>Bandwidth_GB_Year</th>\n",
       "      <th>Timely_Response</th>\n",
       "      <th>Timely_Fixes</th>\n",
       "      <th>Timely_Replacement</th>\n",
       "      <th>...</th>\n",
       "      <th>Band_GB_Year_K</th>\n",
       "      <th>Time_Resp_K</th>\n",
       "      <th>Time_Fix_K</th>\n",
       "      <th>Time_replace_K</th>\n",
       "      <th>Reliability_K</th>\n",
       "      <th>Options_K</th>\n",
       "      <th>Respect_Response_K</th>\n",
       "      <th>Court_Exchange_K</th>\n",
       "      <th>Evidence_Active_Listen_K</th>\n",
       "      <th>Sum_service_K</th>\n",
       "    </tr>\n",
       "  </thead>\n",
       "  <tbody>\n",
       "    <tr>\n",
       "      <th>0</th>\n",
       "      <td>1.0</td>\n",
       "      <td>68.0</td>\n",
       "      <td>28561.990000</td>\n",
       "      <td>6.972566</td>\n",
       "      <td>1</td>\n",
       "      <td>171.449762</td>\n",
       "      <td>904.536110</td>\n",
       "      <td>5</td>\n",
       "      <td>5</td>\n",
       "      <td>5</td>\n",
       "      <td>...</td>\n",
       "      <td>-1.203462</td>\n",
       "      <td>1.454307</td>\n",
       "      <td>1.444922</td>\n",
       "      <td>1.471896</td>\n",
       "      <td>-0.485004</td>\n",
       "      <td>0.494844</td>\n",
       "      <td>0.486389</td>\n",
       "      <td>-0.495406</td>\n",
       "      <td>0.490384</td>\n",
       "      <td>0.262095</td>\n",
       "    </tr>\n",
       "    <tr>\n",
       "      <th>1</th>\n",
       "      <td>1.0</td>\n",
       "      <td>27.0</td>\n",
       "      <td>21704.770000</td>\n",
       "      <td>12.014541</td>\n",
       "      <td>1</td>\n",
       "      <td>242.948015</td>\n",
       "      <td>800.982766</td>\n",
       "      <td>3</td>\n",
       "      <td>4</td>\n",
       "      <td>3</td>\n",
       "      <td>...</td>\n",
       "      <td>-1.253425</td>\n",
       "      <td>-0.472948</td>\n",
       "      <td>0.478354</td>\n",
       "      <td>-0.473770</td>\n",
       "      <td>-0.485004</td>\n",
       "      <td>0.494844</td>\n",
       "      <td>-0.481165</td>\n",
       "      <td>0.476931</td>\n",
       "      <td>0.490384</td>\n",
       "      <td>0.964386</td>\n",
       "    </tr>\n",
       "    <tr>\n",
       "      <th>2</th>\n",
       "      <td>4.0</td>\n",
       "      <td>50.0</td>\n",
       "      <td>39936.762226</td>\n",
       "      <td>10.245616</td>\n",
       "      <td>1</td>\n",
       "      <td>159.440398</td>\n",
       "      <td>2054.706961</td>\n",
       "      <td>4</td>\n",
       "      <td>4</td>\n",
       "      <td>2</td>\n",
       "      <td>...</td>\n",
       "      <td>-0.648524</td>\n",
       "      <td>0.490679</td>\n",
       "      <td>0.478354</td>\n",
       "      <td>-1.446603</td>\n",
       "      <td>0.489878</td>\n",
       "      <td>0.494844</td>\n",
       "      <td>-0.481165</td>\n",
       "      <td>-0.495406</td>\n",
       "      <td>-0.481828</td>\n",
       "      <td>-0.440196</td>\n",
       "    </tr>\n",
       "    <tr>\n",
       "      <th>3</th>\n",
       "      <td>1.0</td>\n",
       "      <td>48.0</td>\n",
       "      <td>18925.230000</td>\n",
       "      <td>15.206193</td>\n",
       "      <td>0</td>\n",
       "      <td>120.249493</td>\n",
       "      <td>2164.579412</td>\n",
       "      <td>4</td>\n",
       "      <td>4</td>\n",
       "      <td>4</td>\n",
       "      <td>...</td>\n",
       "      <td>-0.595512</td>\n",
       "      <td>0.490679</td>\n",
       "      <td>0.478354</td>\n",
       "      <td>0.499063</td>\n",
       "      <td>-1.459886</td>\n",
       "      <td>1.470674</td>\n",
       "      <td>0.486389</td>\n",
       "      <td>-0.495406</td>\n",
       "      <td>-0.481828</td>\n",
       "      <td>-0.440196</td>\n",
       "    </tr>\n",
       "    <tr>\n",
       "      <th>4</th>\n",
       "      <td>0.0</td>\n",
       "      <td>83.0</td>\n",
       "      <td>40074.190000</td>\n",
       "      <td>8.960316</td>\n",
       "      <td>1</td>\n",
       "      <td>150.761216</td>\n",
       "      <td>271.493436</td>\n",
       "      <td>4</td>\n",
       "      <td>4</td>\n",
       "      <td>4</td>\n",
       "      <td>...</td>\n",
       "      <td>-1.508895</td>\n",
       "      <td>0.490679</td>\n",
       "      <td>0.478354</td>\n",
       "      <td>0.499063</td>\n",
       "      <td>-0.485004</td>\n",
       "      <td>0.494844</td>\n",
       "      <td>0.486389</td>\n",
       "      <td>0.476931</td>\n",
       "      <td>1.462596</td>\n",
       "      <td>-1.142487</td>\n",
       "    </tr>\n",
       "    <tr>\n",
       "      <th>...</th>\n",
       "      <td>...</td>\n",
       "      <td>...</td>\n",
       "      <td>...</td>\n",
       "      <td>...</td>\n",
       "      <td>...</td>\n",
       "      <td>...</td>\n",
       "      <td>...</td>\n",
       "      <td>...</td>\n",
       "      <td>...</td>\n",
       "      <td>...</td>\n",
       "      <td>...</td>\n",
       "      <td>...</td>\n",
       "      <td>...</td>\n",
       "      <td>...</td>\n",
       "      <td>...</td>\n",
       "      <td>...</td>\n",
       "      <td>...</td>\n",
       "      <td>...</td>\n",
       "      <td>...</td>\n",
       "      <td>...</td>\n",
       "      <td>...</td>\n",
       "    </tr>\n",
       "    <tr>\n",
       "      <th>9995</th>\n",
       "      <td>3.0</td>\n",
       "      <td>53.0</td>\n",
       "      <td>55723.740000</td>\n",
       "      <td>9.265392</td>\n",
       "      <td>0</td>\n",
       "      <td>159.828800</td>\n",
       "      <td>6511.253000</td>\n",
       "      <td>3</td>\n",
       "      <td>2</td>\n",
       "      <td>3</td>\n",
       "      <td>...</td>\n",
       "      <td>1.501687</td>\n",
       "      <td>-0.472948</td>\n",
       "      <td>-1.454781</td>\n",
       "      <td>-0.473770</td>\n",
       "      <td>-0.485004</td>\n",
       "      <td>0.494844</td>\n",
       "      <td>-0.481165</td>\n",
       "      <td>-1.467742</td>\n",
       "      <td>-0.481828</td>\n",
       "      <td>-0.440196</td>\n",
       "    </tr>\n",
       "    <tr>\n",
       "      <th>9996</th>\n",
       "      <td>4.0</td>\n",
       "      <td>48.0</td>\n",
       "      <td>39936.762226</td>\n",
       "      <td>8.115849</td>\n",
       "      <td>0</td>\n",
       "      <td>208.856400</td>\n",
       "      <td>5695.952000</td>\n",
       "      <td>4</td>\n",
       "      <td>5</td>\n",
       "      <td>5</td>\n",
       "      <td>...</td>\n",
       "      <td>1.108318</td>\n",
       "      <td>0.490679</td>\n",
       "      <td>1.444922</td>\n",
       "      <td>1.471896</td>\n",
       "      <td>0.489878</td>\n",
       "      <td>0.494844</td>\n",
       "      <td>1.453943</td>\n",
       "      <td>-1.467742</td>\n",
       "      <td>1.462596</td>\n",
       "      <td>0.964386</td>\n",
       "    </tr>\n",
       "    <tr>\n",
       "      <th>9997</th>\n",
       "      <td>1.0</td>\n",
       "      <td>53.0</td>\n",
       "      <td>39936.762226</td>\n",
       "      <td>4.837696</td>\n",
       "      <td>0</td>\n",
       "      <td>168.220900</td>\n",
       "      <td>4159.306000</td>\n",
       "      <td>4</td>\n",
       "      <td>4</td>\n",
       "      <td>4</td>\n",
       "      <td>...</td>\n",
       "      <td>0.366911</td>\n",
       "      <td>0.490679</td>\n",
       "      <td>0.478354</td>\n",
       "      <td>0.499063</td>\n",
       "      <td>0.489878</td>\n",
       "      <td>0.494844</td>\n",
       "      <td>0.486389</td>\n",
       "      <td>0.476931</td>\n",
       "      <td>1.462596</td>\n",
       "      <td>0.262095</td>\n",
       "    </tr>\n",
       "    <tr>\n",
       "      <th>9998</th>\n",
       "      <td>1.0</td>\n",
       "      <td>39.0</td>\n",
       "      <td>16667.580000</td>\n",
       "      <td>12.076460</td>\n",
       "      <td>0</td>\n",
       "      <td>252.628600</td>\n",
       "      <td>6468.457000</td>\n",
       "      <td>4</td>\n",
       "      <td>4</td>\n",
       "      <td>6</td>\n",
       "      <td>...</td>\n",
       "      <td>1.481039</td>\n",
       "      <td>0.490679</td>\n",
       "      <td>0.478354</td>\n",
       "      <td>2.444730</td>\n",
       "      <td>0.489878</td>\n",
       "      <td>-0.480987</td>\n",
       "      <td>-0.481165</td>\n",
       "      <td>1.449268</td>\n",
       "      <td>0.490384</td>\n",
       "      <td>0.262095</td>\n",
       "    </tr>\n",
       "    <tr>\n",
       "      <th>9999</th>\n",
       "      <td>1.0</td>\n",
       "      <td>28.0</td>\n",
       "      <td>39936.762226</td>\n",
       "      <td>12.641760</td>\n",
       "      <td>0</td>\n",
       "      <td>218.371000</td>\n",
       "      <td>5857.586000</td>\n",
       "      <td>2</td>\n",
       "      <td>2</td>\n",
       "      <td>3</td>\n",
       "      <td>...</td>\n",
       "      <td>1.186303</td>\n",
       "      <td>-1.436576</td>\n",
       "      <td>-1.454781</td>\n",
       "      <td>-0.473770</td>\n",
       "      <td>-0.485004</td>\n",
       "      <td>-0.480987</td>\n",
       "      <td>-0.481165</td>\n",
       "      <td>0.476931</td>\n",
       "      <td>-2.426253</td>\n",
       "      <td>1.666678</td>\n",
       "    </tr>\n",
       "  </tbody>\n",
       "</table>\n",
       "<p>10000 rows × 32 columns</p>\n",
       "</div>"
      ],
      "text/plain": [
       "      Children   Age        Income  Outage_sec_perweek  Yearly_equip_failure  \\\n",
       "0          1.0  68.0  28561.990000            6.972566                     1   \n",
       "1          1.0  27.0  21704.770000           12.014541                     1   \n",
       "2          4.0  50.0  39936.762226           10.245616                     1   \n",
       "3          1.0  48.0  18925.230000           15.206193                     0   \n",
       "4          0.0  83.0  40074.190000            8.960316                     1   \n",
       "...        ...   ...           ...                 ...                   ...   \n",
       "9995       3.0  53.0  55723.740000            9.265392                     0   \n",
       "9996       4.0  48.0  39936.762226            8.115849                     0   \n",
       "9997       1.0  53.0  39936.762226            4.837696                     0   \n",
       "9998       1.0  39.0  16667.580000           12.076460                     0   \n",
       "9999       1.0  28.0  39936.762226           12.641760                     0   \n",
       "\n",
       "      MonthlyCharge  Bandwidth_GB_Year  Timely_Response  Timely_Fixes  \\\n",
       "0        171.449762         904.536110                5             5   \n",
       "1        242.948015         800.982766                3             4   \n",
       "2        159.440398        2054.706961                4             4   \n",
       "3        120.249493        2164.579412                4             4   \n",
       "4        150.761216         271.493436                4             4   \n",
       "...             ...                ...              ...           ...   \n",
       "9995     159.828800        6511.253000                3             2   \n",
       "9996     208.856400        5695.952000                4             5   \n",
       "9997     168.220900        4159.306000                4             4   \n",
       "9998     252.628600        6468.457000                4             4   \n",
       "9999     218.371000        5857.586000                2             2   \n",
       "\n",
       "      Timely_Replacement  ...  Band_GB_Year_K  Time_Resp_K  Time_Fix_K  \\\n",
       "0                      5  ...       -1.203462     1.454307    1.444922   \n",
       "1                      3  ...       -1.253425    -0.472948    0.478354   \n",
       "2                      2  ...       -0.648524     0.490679    0.478354   \n",
       "3                      4  ...       -0.595512     0.490679    0.478354   \n",
       "4                      4  ...       -1.508895     0.490679    0.478354   \n",
       "...                  ...  ...             ...          ...         ...   \n",
       "9995                   3  ...        1.501687    -0.472948   -1.454781   \n",
       "9996                   5  ...        1.108318     0.490679    1.444922   \n",
       "9997                   4  ...        0.366911     0.490679    0.478354   \n",
       "9998                   6  ...        1.481039     0.490679    0.478354   \n",
       "9999                   3  ...        1.186303    -1.436576   -1.454781   \n",
       "\n",
       "      Time_replace_K  Reliability_K  Options_K  Respect_Response_K  \\\n",
       "0           1.471896      -0.485004   0.494844            0.486389   \n",
       "1          -0.473770      -0.485004   0.494844           -0.481165   \n",
       "2          -1.446603       0.489878   0.494844           -0.481165   \n",
       "3           0.499063      -1.459886   1.470674            0.486389   \n",
       "4           0.499063      -0.485004   0.494844            0.486389   \n",
       "...              ...            ...        ...                 ...   \n",
       "9995       -0.473770      -0.485004   0.494844           -0.481165   \n",
       "9996        1.471896       0.489878   0.494844            1.453943   \n",
       "9997        0.499063       0.489878   0.494844            0.486389   \n",
       "9998        2.444730       0.489878  -0.480987           -0.481165   \n",
       "9999       -0.473770      -0.485004  -0.480987           -0.481165   \n",
       "\n",
       "      Court_Exchange_K  Evidence_Active_Listen_K  Sum_service_K  \n",
       "0            -0.495406                  0.490384       0.262095  \n",
       "1             0.476931                  0.490384       0.964386  \n",
       "2            -0.495406                 -0.481828      -0.440196  \n",
       "3            -0.495406                 -0.481828      -0.440196  \n",
       "4             0.476931                  1.462596      -1.142487  \n",
       "...                ...                       ...            ...  \n",
       "9995         -1.467742                 -0.481828      -0.440196  \n",
       "9996         -1.467742                  1.462596       0.964386  \n",
       "9997          0.476931                  1.462596       0.262095  \n",
       "9998          1.449268                  0.490384       0.262095  \n",
       "9999          0.476931                 -2.426253       1.666678  \n",
       "\n",
       "[10000 rows x 32 columns]"
      ]
     },
     "execution_count": 75,
     "metadata": {},
     "output_type": "execute_result"
    }
   ],
   "source": [
    "#Standardize the data.\n",
    "df_scaler = p.StandardScaler().fit_transform(df_model)\n",
    "df_scaler = pd.DataFrame(df_scaler)\n",
    "df_scaler.columns = ['Children_K','Age_K','Income_K','Outage_K','Yearly_e_fail_K','MonthlyCharge_K','Band_GB_Year_K','Time_Resp_K',\n",
    "                  'Time_Fix_K','Time_replace_K','Reliability_K','Options_K','Respect_Response_K','Court_Exchange_K',\n",
    "                 'Evidence_Active_Listen_K','Sum_service_K']\n",
    "df_final = pd.concat([df_model,df_scaler], axis = 1)\n",
    "df_final"
   ]
  },
  {
   "cell_type": "code",
   "execution_count": 76,
   "id": "5603232e",
   "metadata": {
    "scrolled": true
   },
   "outputs": [
    {
     "name": "stdout",
     "output_type": "stream",
     "text": [
      "Children                        0\n",
      "Age                             0\n",
      "Income                          0\n",
      "Outage_sec_perweek              0\n",
      "Yearly_equip_failure            0\n",
      "MonthlyCharge                   0\n",
      "Bandwidth_GB_Year               0\n",
      "Timely_Response                 0\n",
      "Timely_Fixes                    0\n",
      "Timely_Replacement              0\n",
      "Reliability                     0\n",
      "Options                         0\n",
      "Respectable_Response            0\n",
      "Courteous_Exchange              0\n",
      "Evidence_of_active_listening    0\n",
      "Sum_services                    0\n",
      "Children_K                      0\n",
      "Age_K                           0\n",
      "Income_K                        0\n",
      "Outage_K                        0\n",
      "Yearly_e_fail_K                 0\n",
      "MonthlyCharge_K                 0\n",
      "Band_GB_Year_K                  0\n",
      "Time_Resp_K                     0\n",
      "Time_Fix_K                      0\n",
      "Time_replace_K                  0\n",
      "Reliability_K                   0\n",
      "Options_K                       0\n",
      "Respect_Response_K              0\n",
      "Court_Exchange_K                0\n",
      "Evidence_Active_Listen_K        0\n",
      "Sum_service_K                   0\n",
      "dtype: int64\n"
     ]
    }
   ],
   "source": [
    "print(df_final.isna().sum())"
   ]
  },
  {
   "cell_type": "markdown",
   "id": "166aca27",
   "metadata": {},
   "source": [
    "# Perform Kmeans Clustering Analysis"
   ]
  },
  {
   "cell_type": "code",
   "execution_count": 77,
   "id": "05638e68",
   "metadata": {},
   "outputs": [],
   "source": [
    "#Function for Performing Elbow Method\n",
    "def optimise_k_means(data, max_k):\n",
    "    means = []\n",
    "    inertias = []\n",
    "    \n",
    "    for k in range(1, max_k):\n",
    "        kmeans = KMeans(n_clusters=k)\n",
    "        kmeans.fit(data)\n",
    "        \n",
    "        means.append(k)\n",
    "        inertias.append(kmeans.inertia_)\n",
    "        \n",
    "    #Generate the elbow plot\n",
    "    fig = plt.subplots(figsize = (10,5))\n",
    "    plt.plot(means,inertias, 'o-')\n",
    "    plt.xlabel('Number of Clusters')\n",
    "    plt.ylabel('Inertia')\n",
    "    plt.grid(True)\n",
    "    plt.show()"
   ]
  },
  {
   "cell_type": "code",
   "execution_count": 78,
   "id": "d8ef2731",
   "metadata": {},
   "outputs": [
    {
     "data": {
      "image/png": "[encoded data removed]",
      "text/plain": [
       "<Figure size 720x360 with 1 Axes>"
      ]
     },
     "metadata": {
      "needs_background": "light"
     },
     "output_type": "display_data"
    }
   ],
   "source": [
    "df_KM_1 = df_final.copy() \n",
    "optimise_k_means(df_KM_1[['Age_K','Income_K']], 10)"
   ]
  },
  {
   "cell_type": "code",
   "execution_count": 79,
   "id": "cdaeb511",
   "metadata": {},
   "outputs": [
    {
     "data": {
      "text/html": [
       "<div>\n",
       "<style scoped>\n",
       "    .dataframe tbody tr th:only-of-type {\n",
       "        vertical-align: middle;\n",
       "    }\n",
       "\n",
       "    .dataframe tbody tr th {\n",
       "        vertical-align: top;\n",
       "    }\n",
       "\n",
       "    .dataframe thead th {\n",
       "        text-align: right;\n",
       "    }\n",
       "</style>\n",
       "<table border=\"1\" class=\"dataframe\">\n",
       "  <thead>\n",
       "    <tr style=\"text-align: right;\">\n",
       "      <th></th>\n",
       "      <th>Children</th>\n",
       "      <th>Age</th>\n",
       "      <th>Income</th>\n",
       "      <th>Outage_sec_perweek</th>\n",
       "      <th>Yearly_equip_failure</th>\n",
       "      <th>MonthlyCharge</th>\n",
       "      <th>Bandwidth_GB_Year</th>\n",
       "      <th>Timely_Response</th>\n",
       "      <th>Timely_Fixes</th>\n",
       "      <th>Timely_Replacement</th>\n",
       "      <th>...</th>\n",
       "      <th>Band_GB_Year_K</th>\n",
       "      <th>Time_Resp_K</th>\n",
       "      <th>Time_Fix_K</th>\n",
       "      <th>Time_replace_K</th>\n",
       "      <th>Reliability_K</th>\n",
       "      <th>Options_K</th>\n",
       "      <th>Respect_Response_K</th>\n",
       "      <th>Court_Exchange_K</th>\n",
       "      <th>Evidence_Active_Listen_K</th>\n",
       "      <th>Sum_service_K</th>\n",
       "    </tr>\n",
       "  </thead>\n",
       "  <tbody>\n",
       "    <tr>\n",
       "      <th>0</th>\n",
       "      <td>1.0</td>\n",
       "      <td>68.0</td>\n",
       "      <td>28561.990000</td>\n",
       "      <td>6.972566</td>\n",
       "      <td>1</td>\n",
       "      <td>171.449762</td>\n",
       "      <td>904.536110</td>\n",
       "      <td>5</td>\n",
       "      <td>5</td>\n",
       "      <td>5</td>\n",
       "      <td>...</td>\n",
       "      <td>-1.203462</td>\n",
       "      <td>1.454307</td>\n",
       "      <td>1.444922</td>\n",
       "      <td>1.471896</td>\n",
       "      <td>-0.485004</td>\n",
       "      <td>0.494844</td>\n",
       "      <td>0.486389</td>\n",
       "      <td>-0.495406</td>\n",
       "      <td>0.490384</td>\n",
       "      <td>0.262095</td>\n",
       "    </tr>\n",
       "    <tr>\n",
       "      <th>1</th>\n",
       "      <td>1.0</td>\n",
       "      <td>27.0</td>\n",
       "      <td>21704.770000</td>\n",
       "      <td>12.014541</td>\n",
       "      <td>1</td>\n",
       "      <td>242.948015</td>\n",
       "      <td>800.982766</td>\n",
       "      <td>3</td>\n",
       "      <td>4</td>\n",
       "      <td>3</td>\n",
       "      <td>...</td>\n",
       "      <td>-1.253425</td>\n",
       "      <td>-0.472948</td>\n",
       "      <td>0.478354</td>\n",
       "      <td>-0.473770</td>\n",
       "      <td>-0.485004</td>\n",
       "      <td>0.494844</td>\n",
       "      <td>-0.481165</td>\n",
       "      <td>0.476931</td>\n",
       "      <td>0.490384</td>\n",
       "      <td>0.964386</td>\n",
       "    </tr>\n",
       "    <tr>\n",
       "      <th>2</th>\n",
       "      <td>4.0</td>\n",
       "      <td>50.0</td>\n",
       "      <td>39936.762226</td>\n",
       "      <td>10.245616</td>\n",
       "      <td>1</td>\n",
       "      <td>159.440398</td>\n",
       "      <td>2054.706961</td>\n",
       "      <td>4</td>\n",
       "      <td>4</td>\n",
       "      <td>2</td>\n",
       "      <td>...</td>\n",
       "      <td>-0.648524</td>\n",
       "      <td>0.490679</td>\n",
       "      <td>0.478354</td>\n",
       "      <td>-1.446603</td>\n",
       "      <td>0.489878</td>\n",
       "      <td>0.494844</td>\n",
       "      <td>-0.481165</td>\n",
       "      <td>-0.495406</td>\n",
       "      <td>-0.481828</td>\n",
       "      <td>-0.440196</td>\n",
       "    </tr>\n",
       "    <tr>\n",
       "      <th>3</th>\n",
       "      <td>1.0</td>\n",
       "      <td>48.0</td>\n",
       "      <td>18925.230000</td>\n",
       "      <td>15.206193</td>\n",
       "      <td>0</td>\n",
       "      <td>120.249493</td>\n",
       "      <td>2164.579412</td>\n",
       "      <td>4</td>\n",
       "      <td>4</td>\n",
       "      <td>4</td>\n",
       "      <td>...</td>\n",
       "      <td>-0.595512</td>\n",
       "      <td>0.490679</td>\n",
       "      <td>0.478354</td>\n",
       "      <td>0.499063</td>\n",
       "      <td>-1.459886</td>\n",
       "      <td>1.470674</td>\n",
       "      <td>0.486389</td>\n",
       "      <td>-0.495406</td>\n",
       "      <td>-0.481828</td>\n",
       "      <td>-0.440196</td>\n",
       "    </tr>\n",
       "    <tr>\n",
       "      <th>4</th>\n",
       "      <td>0.0</td>\n",
       "      <td>83.0</td>\n",
       "      <td>40074.190000</td>\n",
       "      <td>8.960316</td>\n",
       "      <td>1</td>\n",
       "      <td>150.761216</td>\n",
       "      <td>271.493436</td>\n",
       "      <td>4</td>\n",
       "      <td>4</td>\n",
       "      <td>4</td>\n",
       "      <td>...</td>\n",
       "      <td>-1.508895</td>\n",
       "      <td>0.490679</td>\n",
       "      <td>0.478354</td>\n",
       "      <td>0.499063</td>\n",
       "      <td>-0.485004</td>\n",
       "      <td>0.494844</td>\n",
       "      <td>0.486389</td>\n",
       "      <td>0.476931</td>\n",
       "      <td>1.462596</td>\n",
       "      <td>-1.142487</td>\n",
       "    </tr>\n",
       "    <tr>\n",
       "      <th>...</th>\n",
       "      <td>...</td>\n",
       "      <td>...</td>\n",
       "      <td>...</td>\n",
       "      <td>...</td>\n",
       "      <td>...</td>\n",
       "      <td>...</td>\n",
       "      <td>...</td>\n",
       "      <td>...</td>\n",
       "      <td>...</td>\n",
       "      <td>...</td>\n",
       "      <td>...</td>\n",
       "      <td>...</td>\n",
       "      <td>...</td>\n",
       "      <td>...</td>\n",
       "      <td>...</td>\n",
       "      <td>...</td>\n",
       "      <td>...</td>\n",
       "      <td>...</td>\n",
       "      <td>...</td>\n",
       "      <td>...</td>\n",
       "      <td>...</td>\n",
       "    </tr>\n",
       "    <tr>\n",
       "      <th>9995</th>\n",
       "      <td>3.0</td>\n",
       "      <td>53.0</td>\n",
       "      <td>55723.740000</td>\n",
       "      <td>9.265392</td>\n",
       "      <td>0</td>\n",
       "      <td>159.828800</td>\n",
       "      <td>6511.253000</td>\n",
       "      <td>3</td>\n",
       "      <td>2</td>\n",
       "      <td>3</td>\n",
       "      <td>...</td>\n",
       "      <td>1.501687</td>\n",
       "      <td>-0.472948</td>\n",
       "      <td>-1.454781</td>\n",
       "      <td>-0.473770</td>\n",
       "      <td>-0.485004</td>\n",
       "      <td>0.494844</td>\n",
       "      <td>-0.481165</td>\n",
       "      <td>-1.467742</td>\n",
       "      <td>-0.481828</td>\n",
       "      <td>-0.440196</td>\n",
       "    </tr>\n",
       "    <tr>\n",
       "      <th>9996</th>\n",
       "      <td>4.0</td>\n",
       "      <td>48.0</td>\n",
       "      <td>39936.762226</td>\n",
       "      <td>8.115849</td>\n",
       "      <td>0</td>\n",
       "      <td>208.856400</td>\n",
       "      <td>5695.952000</td>\n",
       "      <td>4</td>\n",
       "      <td>5</td>\n",
       "      <td>5</td>\n",
       "      <td>...</td>\n",
       "      <td>1.108318</td>\n",
       "      <td>0.490679</td>\n",
       "      <td>1.444922</td>\n",
       "      <td>1.471896</td>\n",
       "      <td>0.489878</td>\n",
       "      <td>0.494844</td>\n",
       "      <td>1.453943</td>\n",
       "      <td>-1.467742</td>\n",
       "      <td>1.462596</td>\n",
       "      <td>0.964386</td>\n",
       "    </tr>\n",
       "    <tr>\n",
       "      <th>9997</th>\n",
       "      <td>1.0</td>\n",
       "      <td>53.0</td>\n",
       "      <td>39936.762226</td>\n",
       "      <td>4.837696</td>\n",
       "      <td>0</td>\n",
       "      <td>168.220900</td>\n",
       "      <td>4159.306000</td>\n",
       "      <td>4</td>\n",
       "      <td>4</td>\n",
       "      <td>4</td>\n",
       "      <td>...</td>\n",
       "      <td>0.366911</td>\n",
       "      <td>0.490679</td>\n",
       "      <td>0.478354</td>\n",
       "      <td>0.499063</td>\n",
       "      <td>0.489878</td>\n",
       "      <td>0.494844</td>\n",
       "      <td>0.486389</td>\n",
       "      <td>0.476931</td>\n",
       "      <td>1.462596</td>\n",
       "      <td>0.262095</td>\n",
       "    </tr>\n",
       "    <tr>\n",
       "      <th>9998</th>\n",
       "      <td>1.0</td>\n",
       "      <td>39.0</td>\n",
       "      <td>16667.580000</td>\n",
       "      <td>12.076460</td>\n",
       "      <td>0</td>\n",
       "      <td>252.628600</td>\n",
       "      <td>6468.457000</td>\n",
       "      <td>4</td>\n",
       "      <td>4</td>\n",
       "      <td>6</td>\n",
       "      <td>...</td>\n",
       "      <td>1.481039</td>\n",
       "      <td>0.490679</td>\n",
       "      <td>0.478354</td>\n",
       "      <td>2.444730</td>\n",
       "      <td>0.489878</td>\n",
       "      <td>-0.480987</td>\n",
       "      <td>-0.481165</td>\n",
       "      <td>1.449268</td>\n",
       "      <td>0.490384</td>\n",
       "      <td>0.262095</td>\n",
       "    </tr>\n",
       "    <tr>\n",
       "      <th>9999</th>\n",
       "      <td>1.0</td>\n",
       "      <td>28.0</td>\n",
       "      <td>39936.762226</td>\n",
       "      <td>12.641760</td>\n",
       "      <td>0</td>\n",
       "      <td>218.371000</td>\n",
       "      <td>5857.586000</td>\n",
       "      <td>2</td>\n",
       "      <td>2</td>\n",
       "      <td>3</td>\n",
       "      <td>...</td>\n",
       "      <td>1.186303</td>\n",
       "      <td>-1.436576</td>\n",
       "      <td>-1.454781</td>\n",
       "      <td>-0.473770</td>\n",
       "      <td>-0.485004</td>\n",
       "      <td>-0.480987</td>\n",
       "      <td>-0.481165</td>\n",
       "      <td>0.476931</td>\n",
       "      <td>-2.426253</td>\n",
       "      <td>1.666678</td>\n",
       "    </tr>\n",
       "  </tbody>\n",
       "</table>\n",
       "<p>10000 rows × 32 columns</p>\n",
       "</div>"
      ],
      "text/plain": [
       "      Children   Age        Income  Outage_sec_perweek  Yearly_equip_failure  \\\n",
       "0          1.0  68.0  28561.990000            6.972566                     1   \n",
       "1          1.0  27.0  21704.770000           12.014541                     1   \n",
       "2          4.0  50.0  39936.762226           10.245616                     1   \n",
       "3          1.0  48.0  18925.230000           15.206193                     0   \n",
       "4          0.0  83.0  40074.190000            8.960316                     1   \n",
       "...        ...   ...           ...                 ...                   ...   \n",
       "9995       3.0  53.0  55723.740000            9.265392                     0   \n",
       "9996       4.0  48.0  39936.762226            8.115849                     0   \n",
       "9997       1.0  53.0  39936.762226            4.837696                     0   \n",
       "9998       1.0  39.0  16667.580000           12.076460                     0   \n",
       "9999       1.0  28.0  39936.762226           12.641760                     0   \n",
       "\n",
       "      MonthlyCharge  Bandwidth_GB_Year  Timely_Response  Timely_Fixes  \\\n",
       "0        171.449762         904.536110                5             5   \n",
       "1        242.948015         800.982766                3             4   \n",
       "2        159.440398        2054.706961                4             4   \n",
       "3        120.249493        2164.579412                4             4   \n",
       "4        150.761216         271.493436                4             4   \n",
       "...             ...                ...              ...           ...   \n",
       "9995     159.828800        6511.253000                3             2   \n",
       "9996     208.856400        5695.952000                4             5   \n",
       "9997     168.220900        4159.306000                4             4   \n",
       "9998     252.628600        6468.457000                4             4   \n",
       "9999     218.371000        5857.586000                2             2   \n",
       "\n",
       "      Timely_Replacement  ...  Band_GB_Year_K  Time_Resp_K  Time_Fix_K  \\\n",
       "0                      5  ...       -1.203462     1.454307    1.444922   \n",
       "1                      3  ...       -1.253425    -0.472948    0.478354   \n",
       "2                      2  ...       -0.648524     0.490679    0.478354   \n",
       "3                      4  ...       -0.595512     0.490679    0.478354   \n",
       "4                      4  ...       -1.508895     0.490679    0.478354   \n",
       "...                  ...  ...             ...          ...         ...   \n",
       "9995                   3  ...        1.501687    -0.472948   -1.454781   \n",
       "9996                   5  ...        1.108318     0.490679    1.444922   \n",
       "9997                   4  ...        0.366911     0.490679    0.478354   \n",
       "9998                   6  ...        1.481039     0.490679    0.478354   \n",
       "9999                   3  ...        1.186303    -1.436576   -1.454781   \n",
       "\n",
       "      Time_replace_K  Reliability_K  Options_K  Respect_Response_K  \\\n",
       "0           1.471896      -0.485004   0.494844            0.486389   \n",
       "1          -0.473770      -0.485004   0.494844           -0.481165   \n",
       "2          -1.446603       0.489878   0.494844           -0.481165   \n",
       "3           0.499063      -1.459886   1.470674            0.486389   \n",
       "4           0.499063      -0.485004   0.494844            0.486389   \n",
       "...              ...            ...        ...                 ...   \n",
       "9995       -0.473770      -0.485004   0.494844           -0.481165   \n",
       "9996        1.471896       0.489878   0.494844            1.453943   \n",
       "9997        0.499063       0.489878   0.494844            0.486389   \n",
       "9998        2.444730       0.489878  -0.480987           -0.481165   \n",
       "9999       -0.473770      -0.485004  -0.480987           -0.481165   \n",
       "\n",
       "      Court_Exchange_K  Evidence_Active_Listen_K  Sum_service_K  \n",
       "0            -0.495406                  0.490384       0.262095  \n",
       "1             0.476931                  0.490384       0.964386  \n",
       "2            -0.495406                 -0.481828      -0.440196  \n",
       "3            -0.495406                 -0.481828      -0.440196  \n",
       "4             0.476931                  1.462596      -1.142487  \n",
       "...                ...                       ...            ...  \n",
       "9995         -1.467742                 -0.481828      -0.440196  \n",
       "9996         -1.467742                  1.462596       0.964386  \n",
       "9997          0.476931                  1.462596       0.262095  \n",
       "9998          1.449268                  0.490384       0.262095  \n",
       "9999          0.476931                 -2.426253       1.666678  \n",
       "\n",
       "[10000 rows x 32 columns]"
      ]
     },
     "execution_count": 79,
     "metadata": {},
     "output_type": "execute_result"
    }
   ],
   "source": [
    "df_final"
   ]
  },
  {
   "cell_type": "code",
   "execution_count": 80,
   "id": "f01090a4",
   "metadata": {},
   "outputs": [],
   "source": [
    "km = KMeans(n_clusters=4)"
   ]
  },
  {
   "cell_type": "code",
   "execution_count": 81,
   "id": "154702c3",
   "metadata": {},
   "outputs": [],
   "source": [
    "km_fit = km.fit(df_KM_1[['Age_K','Income_K']])"
   ]
  },
  {
   "cell_type": "code",
   "execution_count": 82,
   "id": "e62180aa",
   "metadata": {},
   "outputs": [],
   "source": [
    "df_KM_1['kmeans_4'] = km_fit.labels_"
   ]
  },
  {
   "cell_type": "code",
   "execution_count": 83,
   "id": "2c254e42",
   "metadata": {},
   "outputs": [
    {
     "data": {
      "text/html": [
       "<div>\n",
       "<style scoped>\n",
       "    .dataframe tbody tr th:only-of-type {\n",
       "        vertical-align: middle;\n",
       "    }\n",
       "\n",
       "    .dataframe tbody tr th {\n",
       "        vertical-align: top;\n",
       "    }\n",
       "\n",
       "    .dataframe thead th {\n",
       "        text-align: right;\n",
       "    }\n",
       "</style>\n",
       "<table border=\"1\" class=\"dataframe\">\n",
       "  <thead>\n",
       "    <tr style=\"text-align: right;\">\n",
       "      <th></th>\n",
       "      <th>Children</th>\n",
       "      <th>Age</th>\n",
       "      <th>Income</th>\n",
       "      <th>Outage_sec_perweek</th>\n",
       "      <th>Yearly_equip_failure</th>\n",
       "      <th>MonthlyCharge</th>\n",
       "      <th>Bandwidth_GB_Year</th>\n",
       "      <th>Timely_Response</th>\n",
       "      <th>Timely_Fixes</th>\n",
       "      <th>Timely_Replacement</th>\n",
       "      <th>...</th>\n",
       "      <th>Time_Resp_K</th>\n",
       "      <th>Time_Fix_K</th>\n",
       "      <th>Time_replace_K</th>\n",
       "      <th>Reliability_K</th>\n",
       "      <th>Options_K</th>\n",
       "      <th>Respect_Response_K</th>\n",
       "      <th>Court_Exchange_K</th>\n",
       "      <th>Evidence_Active_Listen_K</th>\n",
       "      <th>Sum_service_K</th>\n",
       "      <th>kmeans_4</th>\n",
       "    </tr>\n",
       "  </thead>\n",
       "  <tbody>\n",
       "    <tr>\n",
       "      <th>0</th>\n",
       "      <td>1.0</td>\n",
       "      <td>68.0</td>\n",
       "      <td>28561.990000</td>\n",
       "      <td>6.972566</td>\n",
       "      <td>1</td>\n",
       "      <td>171.449762</td>\n",
       "      <td>904.536110</td>\n",
       "      <td>5</td>\n",
       "      <td>5</td>\n",
       "      <td>5</td>\n",
       "      <td>...</td>\n",
       "      <td>1.454307</td>\n",
       "      <td>1.444922</td>\n",
       "      <td>1.471896</td>\n",
       "      <td>-0.485004</td>\n",
       "      <td>0.494844</td>\n",
       "      <td>0.486389</td>\n",
       "      <td>-0.495406</td>\n",
       "      <td>0.490384</td>\n",
       "      <td>0.262095</td>\n",
       "      <td>2</td>\n",
       "    </tr>\n",
       "    <tr>\n",
       "      <th>1</th>\n",
       "      <td>1.0</td>\n",
       "      <td>27.0</td>\n",
       "      <td>21704.770000</td>\n",
       "      <td>12.014541</td>\n",
       "      <td>1</td>\n",
       "      <td>242.948015</td>\n",
       "      <td>800.982766</td>\n",
       "      <td>3</td>\n",
       "      <td>4</td>\n",
       "      <td>3</td>\n",
       "      <td>...</td>\n",
       "      <td>-0.472948</td>\n",
       "      <td>0.478354</td>\n",
       "      <td>-0.473770</td>\n",
       "      <td>-0.485004</td>\n",
       "      <td>0.494844</td>\n",
       "      <td>-0.481165</td>\n",
       "      <td>0.476931</td>\n",
       "      <td>0.490384</td>\n",
       "      <td>0.964386</td>\n",
       "      <td>0</td>\n",
       "    </tr>\n",
       "    <tr>\n",
       "      <th>2</th>\n",
       "      <td>4.0</td>\n",
       "      <td>50.0</td>\n",
       "      <td>39936.762226</td>\n",
       "      <td>10.245616</td>\n",
       "      <td>1</td>\n",
       "      <td>159.440398</td>\n",
       "      <td>2054.706961</td>\n",
       "      <td>4</td>\n",
       "      <td>4</td>\n",
       "      <td>2</td>\n",
       "      <td>...</td>\n",
       "      <td>0.490679</td>\n",
       "      <td>0.478354</td>\n",
       "      <td>-1.446603</td>\n",
       "      <td>0.489878</td>\n",
       "      <td>0.494844</td>\n",
       "      <td>-0.481165</td>\n",
       "      <td>-0.495406</td>\n",
       "      <td>-0.481828</td>\n",
       "      <td>-0.440196</td>\n",
       "      <td>1</td>\n",
       "    </tr>\n",
       "    <tr>\n",
       "      <th>3</th>\n",
       "      <td>1.0</td>\n",
       "      <td>48.0</td>\n",
       "      <td>18925.230000</td>\n",
       "      <td>15.206193</td>\n",
       "      <td>0</td>\n",
       "      <td>120.249493</td>\n",
       "      <td>2164.579412</td>\n",
       "      <td>4</td>\n",
       "      <td>4</td>\n",
       "      <td>4</td>\n",
       "      <td>...</td>\n",
       "      <td>0.490679</td>\n",
       "      <td>0.478354</td>\n",
       "      <td>0.499063</td>\n",
       "      <td>-1.459886</td>\n",
       "      <td>1.470674</td>\n",
       "      <td>0.486389</td>\n",
       "      <td>-0.495406</td>\n",
       "      <td>-0.481828</td>\n",
       "      <td>-0.440196</td>\n",
       "      <td>1</td>\n",
       "    </tr>\n",
       "    <tr>\n",
       "      <th>4</th>\n",
       "      <td>0.0</td>\n",
       "      <td>83.0</td>\n",
       "      <td>40074.190000</td>\n",
       "      <td>8.960316</td>\n",
       "      <td>1</td>\n",
       "      <td>150.761216</td>\n",
       "      <td>271.493436</td>\n",
       "      <td>4</td>\n",
       "      <td>4</td>\n",
       "      <td>4</td>\n",
       "      <td>...</td>\n",
       "      <td>0.490679</td>\n",
       "      <td>0.478354</td>\n",
       "      <td>0.499063</td>\n",
       "      <td>-0.485004</td>\n",
       "      <td>0.494844</td>\n",
       "      <td>0.486389</td>\n",
       "      <td>0.476931</td>\n",
       "      <td>1.462596</td>\n",
       "      <td>-1.142487</td>\n",
       "      <td>2</td>\n",
       "    </tr>\n",
       "    <tr>\n",
       "      <th>...</th>\n",
       "      <td>...</td>\n",
       "      <td>...</td>\n",
       "      <td>...</td>\n",
       "      <td>...</td>\n",
       "      <td>...</td>\n",
       "      <td>...</td>\n",
       "      <td>...</td>\n",
       "      <td>...</td>\n",
       "      <td>...</td>\n",
       "      <td>...</td>\n",
       "      <td>...</td>\n",
       "      <td>...</td>\n",
       "      <td>...</td>\n",
       "      <td>...</td>\n",
       "      <td>...</td>\n",
       "      <td>...</td>\n",
       "      <td>...</td>\n",
       "      <td>...</td>\n",
       "      <td>...</td>\n",
       "      <td>...</td>\n",
       "      <td>...</td>\n",
       "    </tr>\n",
       "    <tr>\n",
       "      <th>9995</th>\n",
       "      <td>3.0</td>\n",
       "      <td>53.0</td>\n",
       "      <td>55723.740000</td>\n",
       "      <td>9.265392</td>\n",
       "      <td>0</td>\n",
       "      <td>159.828800</td>\n",
       "      <td>6511.253000</td>\n",
       "      <td>3</td>\n",
       "      <td>2</td>\n",
       "      <td>3</td>\n",
       "      <td>...</td>\n",
       "      <td>-0.472948</td>\n",
       "      <td>-1.454781</td>\n",
       "      <td>-0.473770</td>\n",
       "      <td>-0.485004</td>\n",
       "      <td>0.494844</td>\n",
       "      <td>-0.481165</td>\n",
       "      <td>-1.467742</td>\n",
       "      <td>-0.481828</td>\n",
       "      <td>-0.440196</td>\n",
       "      <td>1</td>\n",
       "    </tr>\n",
       "    <tr>\n",
       "      <th>9996</th>\n",
       "      <td>4.0</td>\n",
       "      <td>48.0</td>\n",
       "      <td>39936.762226</td>\n",
       "      <td>8.115849</td>\n",
       "      <td>0</td>\n",
       "      <td>208.856400</td>\n",
       "      <td>5695.952000</td>\n",
       "      <td>4</td>\n",
       "      <td>5</td>\n",
       "      <td>5</td>\n",
       "      <td>...</td>\n",
       "      <td>0.490679</td>\n",
       "      <td>1.444922</td>\n",
       "      <td>1.471896</td>\n",
       "      <td>0.489878</td>\n",
       "      <td>0.494844</td>\n",
       "      <td>1.453943</td>\n",
       "      <td>-1.467742</td>\n",
       "      <td>1.462596</td>\n",
       "      <td>0.964386</td>\n",
       "      <td>1</td>\n",
       "    </tr>\n",
       "    <tr>\n",
       "      <th>9997</th>\n",
       "      <td>1.0</td>\n",
       "      <td>53.0</td>\n",
       "      <td>39936.762226</td>\n",
       "      <td>4.837696</td>\n",
       "      <td>0</td>\n",
       "      <td>168.220900</td>\n",
       "      <td>4159.306000</td>\n",
       "      <td>4</td>\n",
       "      <td>4</td>\n",
       "      <td>4</td>\n",
       "      <td>...</td>\n",
       "      <td>0.490679</td>\n",
       "      <td>0.478354</td>\n",
       "      <td>0.499063</td>\n",
       "      <td>0.489878</td>\n",
       "      <td>0.494844</td>\n",
       "      <td>0.486389</td>\n",
       "      <td>0.476931</td>\n",
       "      <td>1.462596</td>\n",
       "      <td>0.262095</td>\n",
       "      <td>1</td>\n",
       "    </tr>\n",
       "    <tr>\n",
       "      <th>9998</th>\n",
       "      <td>1.0</td>\n",
       "      <td>39.0</td>\n",
       "      <td>16667.580000</td>\n",
       "      <td>12.076460</td>\n",
       "      <td>0</td>\n",
       "      <td>252.628600</td>\n",
       "      <td>6468.457000</td>\n",
       "      <td>4</td>\n",
       "      <td>4</td>\n",
       "      <td>6</td>\n",
       "      <td>...</td>\n",
       "      <td>0.490679</td>\n",
       "      <td>0.478354</td>\n",
       "      <td>2.444730</td>\n",
       "      <td>0.489878</td>\n",
       "      <td>-0.480987</td>\n",
       "      <td>-0.481165</td>\n",
       "      <td>1.449268</td>\n",
       "      <td>0.490384</td>\n",
       "      <td>0.262095</td>\n",
       "      <td>0</td>\n",
       "    </tr>\n",
       "    <tr>\n",
       "      <th>9999</th>\n",
       "      <td>1.0</td>\n",
       "      <td>28.0</td>\n",
       "      <td>39936.762226</td>\n",
       "      <td>12.641760</td>\n",
       "      <td>0</td>\n",
       "      <td>218.371000</td>\n",
       "      <td>5857.586000</td>\n",
       "      <td>2</td>\n",
       "      <td>2</td>\n",
       "      <td>3</td>\n",
       "      <td>...</td>\n",
       "      <td>-1.436576</td>\n",
       "      <td>-1.454781</td>\n",
       "      <td>-0.473770</td>\n",
       "      <td>-0.485004</td>\n",
       "      <td>-0.480987</td>\n",
       "      <td>-0.481165</td>\n",
       "      <td>0.476931</td>\n",
       "      <td>-2.426253</td>\n",
       "      <td>1.666678</td>\n",
       "      <td>0</td>\n",
       "    </tr>\n",
       "  </tbody>\n",
       "</table>\n",
       "<p>10000 rows × 33 columns</p>\n",
       "</div>"
      ],
      "text/plain": [
       "      Children   Age        Income  Outage_sec_perweek  Yearly_equip_failure  \\\n",
       "0          1.0  68.0  28561.990000            6.972566                     1   \n",
       "1          1.0  27.0  21704.770000           12.014541                     1   \n",
       "2          4.0  50.0  39936.762226           10.245616                     1   \n",
       "3          1.0  48.0  18925.230000           15.206193                     0   \n",
       "4          0.0  83.0  40074.190000            8.960316                     1   \n",
       "...        ...   ...           ...                 ...                   ...   \n",
       "9995       3.0  53.0  55723.740000            9.265392                     0   \n",
       "9996       4.0  48.0  39936.762226            8.115849                     0   \n",
       "9997       1.0  53.0  39936.762226            4.837696                     0   \n",
       "9998       1.0  39.0  16667.580000           12.076460                     0   \n",
       "9999       1.0  28.0  39936.762226           12.641760                     0   \n",
       "\n",
       "      MonthlyCharge  Bandwidth_GB_Year  Timely_Response  Timely_Fixes  \\\n",
       "0        171.449762         904.536110                5             5   \n",
       "1        242.948015         800.982766                3             4   \n",
       "2        159.440398        2054.706961                4             4   \n",
       "3        120.249493        2164.579412                4             4   \n",
       "4        150.761216         271.493436                4             4   \n",
       "...             ...                ...              ...           ...   \n",
       "9995     159.828800        6511.253000                3             2   \n",
       "9996     208.856400        5695.952000                4             5   \n",
       "9997     168.220900        4159.306000                4             4   \n",
       "9998     252.628600        6468.457000                4             4   \n",
       "9999     218.371000        5857.586000                2             2   \n",
       "\n",
       "      Timely_Replacement  ...  Time_Resp_K  Time_Fix_K  Time_replace_K  \\\n",
       "0                      5  ...     1.454307    1.444922        1.471896   \n",
       "1                      3  ...    -0.472948    0.478354       -0.473770   \n",
       "2                      2  ...     0.490679    0.478354       -1.446603   \n",
       "3                      4  ...     0.490679    0.478354        0.499063   \n",
       "4                      4  ...     0.490679    0.478354        0.499063   \n",
       "...                  ...  ...          ...         ...             ...   \n",
       "9995                   3  ...    -0.472948   -1.454781       -0.473770   \n",
       "9996                   5  ...     0.490679    1.444922        1.471896   \n",
       "9997                   4  ...     0.490679    0.478354        0.499063   \n",
       "9998                   6  ...     0.490679    0.478354        2.444730   \n",
       "9999                   3  ...    -1.436576   -1.454781       -0.473770   \n",
       "\n",
       "      Reliability_K  Options_K  Respect_Response_K  Court_Exchange_K  \\\n",
       "0         -0.485004   0.494844            0.486389         -0.495406   \n",
       "1         -0.485004   0.494844           -0.481165          0.476931   \n",
       "2          0.489878   0.494844           -0.481165         -0.495406   \n",
       "3         -1.459886   1.470674            0.486389         -0.495406   \n",
       "4         -0.485004   0.494844            0.486389          0.476931   \n",
       "...             ...        ...                 ...               ...   \n",
       "9995      -0.485004   0.494844           -0.481165         -1.467742   \n",
       "9996       0.489878   0.494844            1.453943         -1.467742   \n",
       "9997       0.489878   0.494844            0.486389          0.476931   \n",
       "9998       0.489878  -0.480987           -0.481165          1.449268   \n",
       "9999      -0.485004  -0.480987           -0.481165          0.476931   \n",
       "\n",
       "      Evidence_Active_Listen_K  Sum_service_K  kmeans_4  \n",
       "0                     0.490384       0.262095         2  \n",
       "1                     0.490384       0.964386         0  \n",
       "2                    -0.481828      -0.440196         1  \n",
       "3                    -0.481828      -0.440196         1  \n",
       "4                     1.462596      -1.142487         2  \n",
       "...                        ...            ...       ...  \n",
       "9995                 -0.481828      -0.440196         1  \n",
       "9996                  1.462596       0.964386         1  \n",
       "9997                  1.462596       0.262095         1  \n",
       "9998                  0.490384       0.262095         0  \n",
       "9999                 -2.426253       1.666678         0  \n",
       "\n",
       "[10000 rows x 33 columns]"
      ]
     },
     "execution_count": 83,
     "metadata": {},
     "output_type": "execute_result"
    }
   ],
   "source": [
    "df_KM_1"
   ]
  },
  {
   "cell_type": "code",
   "execution_count": 84,
   "id": "f8eb9e35",
   "metadata": {
    "scrolled": true
   },
   "outputs": [
    {
     "data": {
      "text/html": [
       "<div>\n",
       "<style scoped>\n",
       "    .dataframe tbody tr th:only-of-type {\n",
       "        vertical-align: middle;\n",
       "    }\n",
       "\n",
       "    .dataframe tbody tr th {\n",
       "        vertical-align: top;\n",
       "    }\n",
       "\n",
       "    .dataframe thead th {\n",
       "        text-align: right;\n",
       "    }\n",
       "</style>\n",
       "<table border=\"1\" class=\"dataframe\">\n",
       "  <thead>\n",
       "    <tr style=\"text-align: right;\">\n",
       "      <th></th>\n",
       "      <th>Children</th>\n",
       "      <th>Age</th>\n",
       "      <th>Income</th>\n",
       "      <th>Outage_sec_perweek</th>\n",
       "      <th>Yearly_equip_failure</th>\n",
       "      <th>MonthlyCharge</th>\n",
       "      <th>Bandwidth_GB_Year</th>\n",
       "      <th>Timely_Response</th>\n",
       "      <th>Timely_Fixes</th>\n",
       "      <th>Timely_Replacement</th>\n",
       "      <th>...</th>\n",
       "      <th>Band_GB_Year_K</th>\n",
       "      <th>Time_Resp_K</th>\n",
       "      <th>Time_Fix_K</th>\n",
       "      <th>Time_replace_K</th>\n",
       "      <th>Reliability_K</th>\n",
       "      <th>Options_K</th>\n",
       "      <th>Respect_Response_K</th>\n",
       "      <th>Court_Exchange_K</th>\n",
       "      <th>Evidence_Active_Listen_K</th>\n",
       "      <th>Sum_service_K</th>\n",
       "    </tr>\n",
       "  </thead>\n",
       "  <tbody>\n",
       "    <tr>\n",
       "      <th>0</th>\n",
       "      <td>1.0</td>\n",
       "      <td>68.0</td>\n",
       "      <td>28561.990000</td>\n",
       "      <td>6.972566</td>\n",
       "      <td>1</td>\n",
       "      <td>171.449762</td>\n",
       "      <td>904.536110</td>\n",
       "      <td>5</td>\n",
       "      <td>5</td>\n",
       "      <td>5</td>\n",
       "      <td>...</td>\n",
       "      <td>-1.203462</td>\n",
       "      <td>1.454307</td>\n",
       "      <td>1.444922</td>\n",
       "      <td>1.471896</td>\n",
       "      <td>-0.485004</td>\n",
       "      <td>0.494844</td>\n",
       "      <td>0.486389</td>\n",
       "      <td>-0.495406</td>\n",
       "      <td>0.490384</td>\n",
       "      <td>0.262095</td>\n",
       "    </tr>\n",
       "    <tr>\n",
       "      <th>1</th>\n",
       "      <td>1.0</td>\n",
       "      <td>27.0</td>\n",
       "      <td>21704.770000</td>\n",
       "      <td>12.014541</td>\n",
       "      <td>1</td>\n",
       "      <td>242.948015</td>\n",
       "      <td>800.982766</td>\n",
       "      <td>3</td>\n",
       "      <td>4</td>\n",
       "      <td>3</td>\n",
       "      <td>...</td>\n",
       "      <td>-1.253425</td>\n",
       "      <td>-0.472948</td>\n",
       "      <td>0.478354</td>\n",
       "      <td>-0.473770</td>\n",
       "      <td>-0.485004</td>\n",
       "      <td>0.494844</td>\n",
       "      <td>-0.481165</td>\n",
       "      <td>0.476931</td>\n",
       "      <td>0.490384</td>\n",
       "      <td>0.964386</td>\n",
       "    </tr>\n",
       "    <tr>\n",
       "      <th>2</th>\n",
       "      <td>4.0</td>\n",
       "      <td>50.0</td>\n",
       "      <td>39936.762226</td>\n",
       "      <td>10.245616</td>\n",
       "      <td>1</td>\n",
       "      <td>159.440398</td>\n",
       "      <td>2054.706961</td>\n",
       "      <td>4</td>\n",
       "      <td>4</td>\n",
       "      <td>2</td>\n",
       "      <td>...</td>\n",
       "      <td>-0.648524</td>\n",
       "      <td>0.490679</td>\n",
       "      <td>0.478354</td>\n",
       "      <td>-1.446603</td>\n",
       "      <td>0.489878</td>\n",
       "      <td>0.494844</td>\n",
       "      <td>-0.481165</td>\n",
       "      <td>-0.495406</td>\n",
       "      <td>-0.481828</td>\n",
       "      <td>-0.440196</td>\n",
       "    </tr>\n",
       "    <tr>\n",
       "      <th>3</th>\n",
       "      <td>1.0</td>\n",
       "      <td>48.0</td>\n",
       "      <td>18925.230000</td>\n",
       "      <td>15.206193</td>\n",
       "      <td>0</td>\n",
       "      <td>120.249493</td>\n",
       "      <td>2164.579412</td>\n",
       "      <td>4</td>\n",
       "      <td>4</td>\n",
       "      <td>4</td>\n",
       "      <td>...</td>\n",
       "      <td>-0.595512</td>\n",
       "      <td>0.490679</td>\n",
       "      <td>0.478354</td>\n",
       "      <td>0.499063</td>\n",
       "      <td>-1.459886</td>\n",
       "      <td>1.470674</td>\n",
       "      <td>0.486389</td>\n",
       "      <td>-0.495406</td>\n",
       "      <td>-0.481828</td>\n",
       "      <td>-0.440196</td>\n",
       "    </tr>\n",
       "    <tr>\n",
       "      <th>4</th>\n",
       "      <td>0.0</td>\n",
       "      <td>83.0</td>\n",
       "      <td>40074.190000</td>\n",
       "      <td>8.960316</td>\n",
       "      <td>1</td>\n",
       "      <td>150.761216</td>\n",
       "      <td>271.493436</td>\n",
       "      <td>4</td>\n",
       "      <td>4</td>\n",
       "      <td>4</td>\n",
       "      <td>...</td>\n",
       "      <td>-1.508895</td>\n",
       "      <td>0.490679</td>\n",
       "      <td>0.478354</td>\n",
       "      <td>0.499063</td>\n",
       "      <td>-0.485004</td>\n",
       "      <td>0.494844</td>\n",
       "      <td>0.486389</td>\n",
       "      <td>0.476931</td>\n",
       "      <td>1.462596</td>\n",
       "      <td>-1.142487</td>\n",
       "    </tr>\n",
       "    <tr>\n",
       "      <th>...</th>\n",
       "      <td>...</td>\n",
       "      <td>...</td>\n",
       "      <td>...</td>\n",
       "      <td>...</td>\n",
       "      <td>...</td>\n",
       "      <td>...</td>\n",
       "      <td>...</td>\n",
       "      <td>...</td>\n",
       "      <td>...</td>\n",
       "      <td>...</td>\n",
       "      <td>...</td>\n",
       "      <td>...</td>\n",
       "      <td>...</td>\n",
       "      <td>...</td>\n",
       "      <td>...</td>\n",
       "      <td>...</td>\n",
       "      <td>...</td>\n",
       "      <td>...</td>\n",
       "      <td>...</td>\n",
       "      <td>...</td>\n",
       "      <td>...</td>\n",
       "    </tr>\n",
       "    <tr>\n",
       "      <th>9995</th>\n",
       "      <td>3.0</td>\n",
       "      <td>53.0</td>\n",
       "      <td>55723.740000</td>\n",
       "      <td>9.265392</td>\n",
       "      <td>0</td>\n",
       "      <td>159.828800</td>\n",
       "      <td>6511.253000</td>\n",
       "      <td>3</td>\n",
       "      <td>2</td>\n",
       "      <td>3</td>\n",
       "      <td>...</td>\n",
       "      <td>1.501687</td>\n",
       "      <td>-0.472948</td>\n",
       "      <td>-1.454781</td>\n",
       "      <td>-0.473770</td>\n",
       "      <td>-0.485004</td>\n",
       "      <td>0.494844</td>\n",
       "      <td>-0.481165</td>\n",
       "      <td>-1.467742</td>\n",
       "      <td>-0.481828</td>\n",
       "      <td>-0.440196</td>\n",
       "    </tr>\n",
       "    <tr>\n",
       "      <th>9996</th>\n",
       "      <td>4.0</td>\n",
       "      <td>48.0</td>\n",
       "      <td>39936.762226</td>\n",
       "      <td>8.115849</td>\n",
       "      <td>0</td>\n",
       "      <td>208.856400</td>\n",
       "      <td>5695.952000</td>\n",
       "      <td>4</td>\n",
       "      <td>5</td>\n",
       "      <td>5</td>\n",
       "      <td>...</td>\n",
       "      <td>1.108318</td>\n",
       "      <td>0.490679</td>\n",
       "      <td>1.444922</td>\n",
       "      <td>1.471896</td>\n",
       "      <td>0.489878</td>\n",
       "      <td>0.494844</td>\n",
       "      <td>1.453943</td>\n",
       "      <td>-1.467742</td>\n",
       "      <td>1.462596</td>\n",
       "      <td>0.964386</td>\n",
       "    </tr>\n",
       "    <tr>\n",
       "      <th>9997</th>\n",
       "      <td>1.0</td>\n",
       "      <td>53.0</td>\n",
       "      <td>39936.762226</td>\n",
       "      <td>4.837696</td>\n",
       "      <td>0</td>\n",
       "      <td>168.220900</td>\n",
       "      <td>4159.306000</td>\n",
       "      <td>4</td>\n",
       "      <td>4</td>\n",
       "      <td>4</td>\n",
       "      <td>...</td>\n",
       "      <td>0.366911</td>\n",
       "      <td>0.490679</td>\n",
       "      <td>0.478354</td>\n",
       "      <td>0.499063</td>\n",
       "      <td>0.489878</td>\n",
       "      <td>0.494844</td>\n",
       "      <td>0.486389</td>\n",
       "      <td>0.476931</td>\n",
       "      <td>1.462596</td>\n",
       "      <td>0.262095</td>\n",
       "    </tr>\n",
       "    <tr>\n",
       "      <th>9998</th>\n",
       "      <td>1.0</td>\n",
       "      <td>39.0</td>\n",
       "      <td>16667.580000</td>\n",
       "      <td>12.076460</td>\n",
       "      <td>0</td>\n",
       "      <td>252.628600</td>\n",
       "      <td>6468.457000</td>\n",
       "      <td>4</td>\n",
       "      <td>4</td>\n",
       "      <td>6</td>\n",
       "      <td>...</td>\n",
       "      <td>1.481039</td>\n",
       "      <td>0.490679</td>\n",
       "      <td>0.478354</td>\n",
       "      <td>2.444730</td>\n",
       "      <td>0.489878</td>\n",
       "      <td>-0.480987</td>\n",
       "      <td>-0.481165</td>\n",
       "      <td>1.449268</td>\n",
       "      <td>0.490384</td>\n",
       "      <td>0.262095</td>\n",
       "    </tr>\n",
       "    <tr>\n",
       "      <th>9999</th>\n",
       "      <td>1.0</td>\n",
       "      <td>28.0</td>\n",
       "      <td>39936.762226</td>\n",
       "      <td>12.641760</td>\n",
       "      <td>0</td>\n",
       "      <td>218.371000</td>\n",
       "      <td>5857.586000</td>\n",
       "      <td>2</td>\n",
       "      <td>2</td>\n",
       "      <td>3</td>\n",
       "      <td>...</td>\n",
       "      <td>1.186303</td>\n",
       "      <td>-1.436576</td>\n",
       "      <td>-1.454781</td>\n",
       "      <td>-0.473770</td>\n",
       "      <td>-0.485004</td>\n",
       "      <td>-0.480987</td>\n",
       "      <td>-0.481165</td>\n",
       "      <td>0.476931</td>\n",
       "      <td>-2.426253</td>\n",
       "      <td>1.666678</td>\n",
       "    </tr>\n",
       "  </tbody>\n",
       "</table>\n",
       "<p>10000 rows × 32 columns</p>\n",
       "</div>"
      ],
      "text/plain": [
       "      Children   Age        Income  Outage_sec_perweek  Yearly_equip_failure  \\\n",
       "0          1.0  68.0  28561.990000            6.972566                     1   \n",
       "1          1.0  27.0  21704.770000           12.014541                     1   \n",
       "2          4.0  50.0  39936.762226           10.245616                     1   \n",
       "3          1.0  48.0  18925.230000           15.206193                     0   \n",
       "4          0.0  83.0  40074.190000            8.960316                     1   \n",
       "...        ...   ...           ...                 ...                   ...   \n",
       "9995       3.0  53.0  55723.740000            9.265392                     0   \n",
       "9996       4.0  48.0  39936.762226            8.115849                     0   \n",
       "9997       1.0  53.0  39936.762226            4.837696                     0   \n",
       "9998       1.0  39.0  16667.580000           12.076460                     0   \n",
       "9999       1.0  28.0  39936.762226           12.641760                     0   \n",
       "\n",
       "      MonthlyCharge  Bandwidth_GB_Year  Timely_Response  Timely_Fixes  \\\n",
       "0        171.449762         904.536110                5             5   \n",
       "1        242.948015         800.982766                3             4   \n",
       "2        159.440398        2054.706961                4             4   \n",
       "3        120.249493        2164.579412                4             4   \n",
       "4        150.761216         271.493436                4             4   \n",
       "...             ...                ...              ...           ...   \n",
       "9995     159.828800        6511.253000                3             2   \n",
       "9996     208.856400        5695.952000                4             5   \n",
       "9997     168.220900        4159.306000                4             4   \n",
       "9998     252.628600        6468.457000                4             4   \n",
       "9999     218.371000        5857.586000                2             2   \n",
       "\n",
       "      Timely_Replacement  ...  Band_GB_Year_K  Time_Resp_K  Time_Fix_K  \\\n",
       "0                      5  ...       -1.203462     1.454307    1.444922   \n",
       "1                      3  ...       -1.253425    -0.472948    0.478354   \n",
       "2                      2  ...       -0.648524     0.490679    0.478354   \n",
       "3                      4  ...       -0.595512     0.490679    0.478354   \n",
       "4                      4  ...       -1.508895     0.490679    0.478354   \n",
       "...                  ...  ...             ...          ...         ...   \n",
       "9995                   3  ...        1.501687    -0.472948   -1.454781   \n",
       "9996                   5  ...        1.108318     0.490679    1.444922   \n",
       "9997                   4  ...        0.366911     0.490679    0.478354   \n",
       "9998                   6  ...        1.481039     0.490679    0.478354   \n",
       "9999                   3  ...        1.186303    -1.436576   -1.454781   \n",
       "\n",
       "      Time_replace_K  Reliability_K  Options_K  Respect_Response_K  \\\n",
       "0           1.471896      -0.485004   0.494844            0.486389   \n",
       "1          -0.473770      -0.485004   0.494844           -0.481165   \n",
       "2          -1.446603       0.489878   0.494844           -0.481165   \n",
       "3           0.499063      -1.459886   1.470674            0.486389   \n",
       "4           0.499063      -0.485004   0.494844            0.486389   \n",
       "...              ...            ...        ...                 ...   \n",
       "9995       -0.473770      -0.485004   0.494844           -0.481165   \n",
       "9996        1.471896       0.489878   0.494844            1.453943   \n",
       "9997        0.499063       0.489878   0.494844            0.486389   \n",
       "9998        2.444730       0.489878  -0.480987           -0.481165   \n",
       "9999       -0.473770      -0.485004  -0.480987           -0.481165   \n",
       "\n",
       "      Court_Exchange_K  Evidence_Active_Listen_K  Sum_service_K  \n",
       "0            -0.495406                  0.490384       0.262095  \n",
       "1             0.476931                  0.490384       0.964386  \n",
       "2            -0.495406                 -0.481828      -0.440196  \n",
       "3            -0.495406                 -0.481828      -0.440196  \n",
       "4             0.476931                  1.462596      -1.142487  \n",
       "...                ...                       ...            ...  \n",
       "9995         -1.467742                 -0.481828      -0.440196  \n",
       "9996         -1.467742                  1.462596       0.964386  \n",
       "9997          0.476931                  1.462596       0.262095  \n",
       "9998          1.449268                  0.490384       0.262095  \n",
       "9999          0.476931                 -2.426253       1.666678  \n",
       "\n",
       "[10000 rows x 32 columns]"
      ]
     },
     "execution_count": 84,
     "metadata": {},
     "output_type": "execute_result"
    }
   ],
   "source": [
    "df_final"
   ]
  },
  {
   "cell_type": "code",
   "execution_count": 85,
   "id": "98dd46b9",
   "metadata": {},
   "outputs": [
    {
     "data": {
      "image/png": "[encoded data removed]",
      "text/plain": [
       "<Figure size 432x288 with 1 Axes>"
      ]
     },
     "metadata": {
      "needs_background": "light"
     },
     "output_type": "display_data"
    }
   ],
   "source": [
    "plt.scatter(x=df_KM_1['Age'], y=df_KM_1['Income'], c=df_KM_1['kmeans_4'])\n",
    "plt.xlim(-0.1, 100)\n",
    "plt.ylim(0, 300000)\n",
    "plt.show()"
   ]
  },
  {
   "cell_type": "code",
   "execution_count": 86,
   "id": "c5d30c87",
   "metadata": {},
   "outputs": [],
   "source": [
    "for k in range(1,6):\n",
    "    kmeans = KMeans(n_clusters = k)\n",
    "    kmeans.fit(df_KM_1[['Age_K','Income_K']])\n",
    "    df_KM_1[f'KMeans{k}'] = kmeans.labels_"
   ]
  },
  {
   "cell_type": "code",
   "execution_count": 87,
   "id": "2572a518",
   "metadata": {},
   "outputs": [
    {
     "data": {
      "text/html": [
       "<div>\n",
       "<style scoped>\n",
       "    .dataframe tbody tr th:only-of-type {\n",
       "        vertical-align: middle;\n",
       "    }\n",
       "\n",
       "    .dataframe tbody tr th {\n",
       "        vertical-align: top;\n",
       "    }\n",
       "\n",
       "    .dataframe thead th {\n",
       "        text-align: right;\n",
       "    }\n",
       "</style>\n",
       "<table border=\"1\" class=\"dataframe\">\n",
       "  <thead>\n",
       "    <tr style=\"text-align: right;\">\n",
       "      <th></th>\n",
       "      <th>Children</th>\n",
       "      <th>Age</th>\n",
       "      <th>Income</th>\n",
       "      <th>Outage_sec_perweek</th>\n",
       "      <th>Yearly_equip_failure</th>\n",
       "      <th>MonthlyCharge</th>\n",
       "      <th>Bandwidth_GB_Year</th>\n",
       "      <th>Timely_Response</th>\n",
       "      <th>Timely_Fixes</th>\n",
       "      <th>Timely_Replacement</th>\n",
       "      <th>...</th>\n",
       "      <th>Respect_Response_K</th>\n",
       "      <th>Court_Exchange_K</th>\n",
       "      <th>Evidence_Active_Listen_K</th>\n",
       "      <th>Sum_service_K</th>\n",
       "      <th>kmeans_4</th>\n",
       "      <th>KMeans1</th>\n",
       "      <th>KMeans2</th>\n",
       "      <th>KMeans3</th>\n",
       "      <th>KMeans4</th>\n",
       "      <th>KMeans5</th>\n",
       "    </tr>\n",
       "  </thead>\n",
       "  <tbody>\n",
       "    <tr>\n",
       "      <th>0</th>\n",
       "      <td>1.0</td>\n",
       "      <td>68.0</td>\n",
       "      <td>28561.990000</td>\n",
       "      <td>6.972566</td>\n",
       "      <td>1</td>\n",
       "      <td>171.449762</td>\n",
       "      <td>904.536110</td>\n",
       "      <td>5</td>\n",
       "      <td>5</td>\n",
       "      <td>5</td>\n",
       "      <td>...</td>\n",
       "      <td>0.486389</td>\n",
       "      <td>-0.495406</td>\n",
       "      <td>0.490384</td>\n",
       "      <td>0.262095</td>\n",
       "      <td>2</td>\n",
       "      <td>0</td>\n",
       "      <td>1</td>\n",
       "      <td>1</td>\n",
       "      <td>3</td>\n",
       "      <td>0</td>\n",
       "    </tr>\n",
       "    <tr>\n",
       "      <th>1</th>\n",
       "      <td>1.0</td>\n",
       "      <td>27.0</td>\n",
       "      <td>21704.770000</td>\n",
       "      <td>12.014541</td>\n",
       "      <td>1</td>\n",
       "      <td>242.948015</td>\n",
       "      <td>800.982766</td>\n",
       "      <td>3</td>\n",
       "      <td>4</td>\n",
       "      <td>3</td>\n",
       "      <td>...</td>\n",
       "      <td>-0.481165</td>\n",
       "      <td>0.476931</td>\n",
       "      <td>0.490384</td>\n",
       "      <td>0.964386</td>\n",
       "      <td>0</td>\n",
       "      <td>0</td>\n",
       "      <td>0</td>\n",
       "      <td>0</td>\n",
       "      <td>2</td>\n",
       "      <td>2</td>\n",
       "    </tr>\n",
       "    <tr>\n",
       "      <th>2</th>\n",
       "      <td>4.0</td>\n",
       "      <td>50.0</td>\n",
       "      <td>39936.762226</td>\n",
       "      <td>10.245616</td>\n",
       "      <td>1</td>\n",
       "      <td>159.440398</td>\n",
       "      <td>2054.706961</td>\n",
       "      <td>4</td>\n",
       "      <td>4</td>\n",
       "      <td>2</td>\n",
       "      <td>...</td>\n",
       "      <td>-0.481165</td>\n",
       "      <td>-0.495406</td>\n",
       "      <td>-0.481828</td>\n",
       "      <td>-0.440196</td>\n",
       "      <td>1</td>\n",
       "      <td>0</td>\n",
       "      <td>0</td>\n",
       "      <td>0</td>\n",
       "      <td>0</td>\n",
       "      <td>3</td>\n",
       "    </tr>\n",
       "    <tr>\n",
       "      <th>3</th>\n",
       "      <td>1.0</td>\n",
       "      <td>48.0</td>\n",
       "      <td>18925.230000</td>\n",
       "      <td>15.206193</td>\n",
       "      <td>0</td>\n",
       "      <td>120.249493</td>\n",
       "      <td>2164.579412</td>\n",
       "      <td>4</td>\n",
       "      <td>4</td>\n",
       "      <td>4</td>\n",
       "      <td>...</td>\n",
       "      <td>0.486389</td>\n",
       "      <td>-0.495406</td>\n",
       "      <td>-0.481828</td>\n",
       "      <td>-0.440196</td>\n",
       "      <td>1</td>\n",
       "      <td>0</td>\n",
       "      <td>0</td>\n",
       "      <td>0</td>\n",
       "      <td>0</td>\n",
       "      <td>4</td>\n",
       "    </tr>\n",
       "    <tr>\n",
       "      <th>4</th>\n",
       "      <td>0.0</td>\n",
       "      <td>83.0</td>\n",
       "      <td>40074.190000</td>\n",
       "      <td>8.960316</td>\n",
       "      <td>1</td>\n",
       "      <td>150.761216</td>\n",
       "      <td>271.493436</td>\n",
       "      <td>4</td>\n",
       "      <td>4</td>\n",
       "      <td>4</td>\n",
       "      <td>...</td>\n",
       "      <td>0.486389</td>\n",
       "      <td>0.476931</td>\n",
       "      <td>1.462596</td>\n",
       "      <td>-1.142487</td>\n",
       "      <td>2</td>\n",
       "      <td>0</td>\n",
       "      <td>1</td>\n",
       "      <td>1</td>\n",
       "      <td>3</td>\n",
       "      <td>0</td>\n",
       "    </tr>\n",
       "    <tr>\n",
       "      <th>...</th>\n",
       "      <td>...</td>\n",
       "      <td>...</td>\n",
       "      <td>...</td>\n",
       "      <td>...</td>\n",
       "      <td>...</td>\n",
       "      <td>...</td>\n",
       "      <td>...</td>\n",
       "      <td>...</td>\n",
       "      <td>...</td>\n",
       "      <td>...</td>\n",
       "      <td>...</td>\n",
       "      <td>...</td>\n",
       "      <td>...</td>\n",
       "      <td>...</td>\n",
       "      <td>...</td>\n",
       "      <td>...</td>\n",
       "      <td>...</td>\n",
       "      <td>...</td>\n",
       "      <td>...</td>\n",
       "      <td>...</td>\n",
       "      <td>...</td>\n",
       "    </tr>\n",
       "    <tr>\n",
       "      <th>9995</th>\n",
       "      <td>3.0</td>\n",
       "      <td>53.0</td>\n",
       "      <td>55723.740000</td>\n",
       "      <td>9.265392</td>\n",
       "      <td>0</td>\n",
       "      <td>159.828800</td>\n",
       "      <td>6511.253000</td>\n",
       "      <td>3</td>\n",
       "      <td>2</td>\n",
       "      <td>3</td>\n",
       "      <td>...</td>\n",
       "      <td>-0.481165</td>\n",
       "      <td>-1.467742</td>\n",
       "      <td>-0.481828</td>\n",
       "      <td>-0.440196</td>\n",
       "      <td>1</td>\n",
       "      <td>0</td>\n",
       "      <td>1</td>\n",
       "      <td>0</td>\n",
       "      <td>0</td>\n",
       "      <td>3</td>\n",
       "    </tr>\n",
       "    <tr>\n",
       "      <th>9996</th>\n",
       "      <td>4.0</td>\n",
       "      <td>48.0</td>\n",
       "      <td>39936.762226</td>\n",
       "      <td>8.115849</td>\n",
       "      <td>0</td>\n",
       "      <td>208.856400</td>\n",
       "      <td>5695.952000</td>\n",
       "      <td>4</td>\n",
       "      <td>5</td>\n",
       "      <td>5</td>\n",
       "      <td>...</td>\n",
       "      <td>1.453943</td>\n",
       "      <td>-1.467742</td>\n",
       "      <td>1.462596</td>\n",
       "      <td>0.964386</td>\n",
       "      <td>1</td>\n",
       "      <td>0</td>\n",
       "      <td>0</td>\n",
       "      <td>0</td>\n",
       "      <td>0</td>\n",
       "      <td>3</td>\n",
       "    </tr>\n",
       "    <tr>\n",
       "      <th>9997</th>\n",
       "      <td>1.0</td>\n",
       "      <td>53.0</td>\n",
       "      <td>39936.762226</td>\n",
       "      <td>4.837696</td>\n",
       "      <td>0</td>\n",
       "      <td>168.220900</td>\n",
       "      <td>4159.306000</td>\n",
       "      <td>4</td>\n",
       "      <td>4</td>\n",
       "      <td>4</td>\n",
       "      <td>...</td>\n",
       "      <td>0.486389</td>\n",
       "      <td>0.476931</td>\n",
       "      <td>1.462596</td>\n",
       "      <td>0.262095</td>\n",
       "      <td>1</td>\n",
       "      <td>0</td>\n",
       "      <td>0</td>\n",
       "      <td>0</td>\n",
       "      <td>0</td>\n",
       "      <td>3</td>\n",
       "    </tr>\n",
       "    <tr>\n",
       "      <th>9998</th>\n",
       "      <td>1.0</td>\n",
       "      <td>39.0</td>\n",
       "      <td>16667.580000</td>\n",
       "      <td>12.076460</td>\n",
       "      <td>0</td>\n",
       "      <td>252.628600</td>\n",
       "      <td>6468.457000</td>\n",
       "      <td>4</td>\n",
       "      <td>4</td>\n",
       "      <td>6</td>\n",
       "      <td>...</td>\n",
       "      <td>-0.481165</td>\n",
       "      <td>1.449268</td>\n",
       "      <td>0.490384</td>\n",
       "      <td>0.262095</td>\n",
       "      <td>0</td>\n",
       "      <td>0</td>\n",
       "      <td>0</td>\n",
       "      <td>0</td>\n",
       "      <td>2</td>\n",
       "      <td>4</td>\n",
       "    </tr>\n",
       "    <tr>\n",
       "      <th>9999</th>\n",
       "      <td>1.0</td>\n",
       "      <td>28.0</td>\n",
       "      <td>39936.762226</td>\n",
       "      <td>12.641760</td>\n",
       "      <td>0</td>\n",
       "      <td>218.371000</td>\n",
       "      <td>5857.586000</td>\n",
       "      <td>2</td>\n",
       "      <td>2</td>\n",
       "      <td>3</td>\n",
       "      <td>...</td>\n",
       "      <td>-0.481165</td>\n",
       "      <td>0.476931</td>\n",
       "      <td>-2.426253</td>\n",
       "      <td>1.666678</td>\n",
       "      <td>0</td>\n",
       "      <td>0</td>\n",
       "      <td>0</td>\n",
       "      <td>0</td>\n",
       "      <td>2</td>\n",
       "      <td>2</td>\n",
       "    </tr>\n",
       "  </tbody>\n",
       "</table>\n",
       "<p>10000 rows × 38 columns</p>\n",
       "</div>"
      ],
      "text/plain": [
       "      Children   Age        Income  Outage_sec_perweek  Yearly_equip_failure  \\\n",
       "0          1.0  68.0  28561.990000            6.972566                     1   \n",
       "1          1.0  27.0  21704.770000           12.014541                     1   \n",
       "2          4.0  50.0  39936.762226           10.245616                     1   \n",
       "3          1.0  48.0  18925.230000           15.206193                     0   \n",
       "4          0.0  83.0  40074.190000            8.960316                     1   \n",
       "...        ...   ...           ...                 ...                   ...   \n",
       "9995       3.0  53.0  55723.740000            9.265392                     0   \n",
       "9996       4.0  48.0  39936.762226            8.115849                     0   \n",
       "9997       1.0  53.0  39936.762226            4.837696                     0   \n",
       "9998       1.0  39.0  16667.580000           12.076460                     0   \n",
       "9999       1.0  28.0  39936.762226           12.641760                     0   \n",
       "\n",
       "      MonthlyCharge  Bandwidth_GB_Year  Timely_Response  Timely_Fixes  \\\n",
       "0        171.449762         904.536110                5             5   \n",
       "1        242.948015         800.982766                3             4   \n",
       "2        159.440398        2054.706961                4             4   \n",
       "3        120.249493        2164.579412                4             4   \n",
       "4        150.761216         271.493436                4             4   \n",
       "...             ...                ...              ...           ...   \n",
       "9995     159.828800        6511.253000                3             2   \n",
       "9996     208.856400        5695.952000                4             5   \n",
       "9997     168.220900        4159.306000                4             4   \n",
       "9998     252.628600        6468.457000                4             4   \n",
       "9999     218.371000        5857.586000                2             2   \n",
       "\n",
       "      Timely_Replacement  ...  Respect_Response_K  Court_Exchange_K  \\\n",
       "0                      5  ...            0.486389         -0.495406   \n",
       "1                      3  ...           -0.481165          0.476931   \n",
       "2                      2  ...           -0.481165         -0.495406   \n",
       "3                      4  ...            0.486389         -0.495406   \n",
       "4                      4  ...            0.486389          0.476931   \n",
       "...                  ...  ...                 ...               ...   \n",
       "9995                   3  ...           -0.481165         -1.467742   \n",
       "9996                   5  ...            1.453943         -1.467742   \n",
       "9997                   4  ...            0.486389          0.476931   \n",
       "9998                   6  ...           -0.481165          1.449268   \n",
       "9999                   3  ...           -0.481165          0.476931   \n",
       "\n",
       "      Evidence_Active_Listen_K  Sum_service_K  kmeans_4  KMeans1  KMeans2  \\\n",
       "0                     0.490384       0.262095         2        0        1   \n",
       "1                     0.490384       0.964386         0        0        0   \n",
       "2                    -0.481828      -0.440196         1        0        0   \n",
       "3                    -0.481828      -0.440196         1        0        0   \n",
       "4                     1.462596      -1.142487         2        0        1   \n",
       "...                        ...            ...       ...      ...      ...   \n",
       "9995                 -0.481828      -0.440196         1        0        1   \n",
       "9996                  1.462596       0.964386         1        0        0   \n",
       "9997                  1.462596       0.262095         1        0        0   \n",
       "9998                  0.490384       0.262095         0        0        0   \n",
       "9999                 -2.426253       1.666678         0        0        0   \n",
       "\n",
       "      KMeans3  KMeans4  KMeans5  \n",
       "0           1        3        0  \n",
       "1           0        2        2  \n",
       "2           0        0        3  \n",
       "3           0        0        4  \n",
       "4           1        3        0  \n",
       "...       ...      ...      ...  \n",
       "9995        0        0        3  \n",
       "9996        0        0        3  \n",
       "9997        0        0        3  \n",
       "9998        0        2        4  \n",
       "9999        0        2        2  \n",
       "\n",
       "[10000 rows x 38 columns]"
      ]
     },
     "execution_count": 87,
     "metadata": {},
     "output_type": "execute_result"
    }
   ],
   "source": [
    "df_KM_1"
   ]
  },
  {
   "cell_type": "code",
   "execution_count": 88,
   "id": "729668d7",
   "metadata": {
    "scrolled": true
   },
   "outputs": [
    {
     "data": {
      "image/png": "[encoded data removed]",
      "text/plain": [
       "<Figure size 1440x360 with 5 Axes>"
      ]
     },
     "metadata": {
      "needs_background": "light"
     },
     "output_type": "display_data"
    }
   ],
   "source": [
    "fig, axs = plt.subplots(nrows=1, ncols=5, figsize=(20,5))\n",
    "\n",
    "for i, ax in enumerate(fig.axes, start=1):\n",
    "    ax.scatter(x=df_KM_1['Age'], y=df_KM_1['Income'], c=df_KM_1[f'KMeans{i}'])\n",
    "    ax.set_ylim(0, 300000)\n",
    "    ax.set_xlim(-0.1, 100)\n",
    "    ax.set_title(f'N Clusters: {i}')"
   ]
  },
  {
   "cell_type": "code",
   "execution_count": 89,
   "id": "8404e9bd",
   "metadata": {},
   "outputs": [
    {
     "data": {
      "image/png": "[encoded data removed]",
      "text/plain": [
       "<Figure size 720x360 with 1 Axes>"
      ]
     },
     "metadata": {
      "needs_background": "light"
     },
     "output_type": "display_data"
    }
   ],
   "source": [
    "df_KM_2 = df_final.copy() \n",
    "optimise_k_means(df_KM_2[['MonthlyCharge_K','Band_GB_Year_K']], 10)"
   ]
  },
  {
   "cell_type": "code",
   "execution_count": 90,
   "id": "abb78fb1",
   "metadata": {
    "scrolled": true
   },
   "outputs": [
    {
     "data": {
      "text/html": [
       "<div>\n",
       "<style scoped>\n",
       "    .dataframe tbody tr th:only-of-type {\n",
       "        vertical-align: middle;\n",
       "    }\n",
       "\n",
       "    .dataframe tbody tr th {\n",
       "        vertical-align: top;\n",
       "    }\n",
       "\n",
       "    .dataframe thead th {\n",
       "        text-align: right;\n",
       "    }\n",
       "</style>\n",
       "<table border=\"1\" class=\"dataframe\">\n",
       "  <thead>\n",
       "    <tr style=\"text-align: right;\">\n",
       "      <th></th>\n",
       "      <th>Children</th>\n",
       "      <th>Age</th>\n",
       "      <th>Income</th>\n",
       "      <th>Outage_sec_perweek</th>\n",
       "      <th>Yearly_equip_failure</th>\n",
       "      <th>MonthlyCharge</th>\n",
       "      <th>Bandwidth_GB_Year</th>\n",
       "      <th>Timely_Response</th>\n",
       "      <th>Timely_Fixes</th>\n",
       "      <th>Timely_Replacement</th>\n",
       "      <th>...</th>\n",
       "      <th>Time_Resp_K</th>\n",
       "      <th>Time_Fix_K</th>\n",
       "      <th>Time_replace_K</th>\n",
       "      <th>Reliability_K</th>\n",
       "      <th>Options_K</th>\n",
       "      <th>Respect_Response_K</th>\n",
       "      <th>Court_Exchange_K</th>\n",
       "      <th>Evidence_Active_Listen_K</th>\n",
       "      <th>Sum_service_K</th>\n",
       "      <th>kmeans_3</th>\n",
       "    </tr>\n",
       "  </thead>\n",
       "  <tbody>\n",
       "    <tr>\n",
       "      <th>0</th>\n",
       "      <td>1.0</td>\n",
       "      <td>68.0</td>\n",
       "      <td>28561.990000</td>\n",
       "      <td>6.972566</td>\n",
       "      <td>1</td>\n",
       "      <td>171.449762</td>\n",
       "      <td>904.536110</td>\n",
       "      <td>5</td>\n",
       "      <td>5</td>\n",
       "      <td>5</td>\n",
       "      <td>...</td>\n",
       "      <td>1.454307</td>\n",
       "      <td>1.444922</td>\n",
       "      <td>1.471896</td>\n",
       "      <td>-0.485004</td>\n",
       "      <td>0.494844</td>\n",
       "      <td>0.486389</td>\n",
       "      <td>-0.495406</td>\n",
       "      <td>0.490384</td>\n",
       "      <td>0.262095</td>\n",
       "      <td>2</td>\n",
       "    </tr>\n",
       "    <tr>\n",
       "      <th>1</th>\n",
       "      <td>1.0</td>\n",
       "      <td>27.0</td>\n",
       "      <td>21704.770000</td>\n",
       "      <td>12.014541</td>\n",
       "      <td>1</td>\n",
       "      <td>242.948015</td>\n",
       "      <td>800.982766</td>\n",
       "      <td>3</td>\n",
       "      <td>4</td>\n",
       "      <td>3</td>\n",
       "      <td>...</td>\n",
       "      <td>-0.472948</td>\n",
       "      <td>0.478354</td>\n",
       "      <td>-0.473770</td>\n",
       "      <td>-0.485004</td>\n",
       "      <td>0.494844</td>\n",
       "      <td>-0.481165</td>\n",
       "      <td>0.476931</td>\n",
       "      <td>0.490384</td>\n",
       "      <td>0.964386</td>\n",
       "      <td>1</td>\n",
       "    </tr>\n",
       "    <tr>\n",
       "      <th>2</th>\n",
       "      <td>4.0</td>\n",
       "      <td>50.0</td>\n",
       "      <td>39936.762226</td>\n",
       "      <td>10.245616</td>\n",
       "      <td>1</td>\n",
       "      <td>159.440398</td>\n",
       "      <td>2054.706961</td>\n",
       "      <td>4</td>\n",
       "      <td>4</td>\n",
       "      <td>2</td>\n",
       "      <td>...</td>\n",
       "      <td>0.490679</td>\n",
       "      <td>0.478354</td>\n",
       "      <td>-1.446603</td>\n",
       "      <td>0.489878</td>\n",
       "      <td>0.494844</td>\n",
       "      <td>-0.481165</td>\n",
       "      <td>-0.495406</td>\n",
       "      <td>-0.481828</td>\n",
       "      <td>-0.440196</td>\n",
       "      <td>2</td>\n",
       "    </tr>\n",
       "    <tr>\n",
       "      <th>3</th>\n",
       "      <td>1.0</td>\n",
       "      <td>48.0</td>\n",
       "      <td>18925.230000</td>\n",
       "      <td>15.206193</td>\n",
       "      <td>0</td>\n",
       "      <td>120.249493</td>\n",
       "      <td>2164.579412</td>\n",
       "      <td>4</td>\n",
       "      <td>4</td>\n",
       "      <td>4</td>\n",
       "      <td>...</td>\n",
       "      <td>0.490679</td>\n",
       "      <td>0.478354</td>\n",
       "      <td>0.499063</td>\n",
       "      <td>-1.459886</td>\n",
       "      <td>1.470674</td>\n",
       "      <td>0.486389</td>\n",
       "      <td>-0.495406</td>\n",
       "      <td>-0.481828</td>\n",
       "      <td>-0.440196</td>\n",
       "      <td>2</td>\n",
       "    </tr>\n",
       "    <tr>\n",
       "      <th>4</th>\n",
       "      <td>0.0</td>\n",
       "      <td>83.0</td>\n",
       "      <td>40074.190000</td>\n",
       "      <td>8.960316</td>\n",
       "      <td>1</td>\n",
       "      <td>150.761216</td>\n",
       "      <td>271.493436</td>\n",
       "      <td>4</td>\n",
       "      <td>4</td>\n",
       "      <td>4</td>\n",
       "      <td>...</td>\n",
       "      <td>0.490679</td>\n",
       "      <td>0.478354</td>\n",
       "      <td>0.499063</td>\n",
       "      <td>-0.485004</td>\n",
       "      <td>0.494844</td>\n",
       "      <td>0.486389</td>\n",
       "      <td>0.476931</td>\n",
       "      <td>1.462596</td>\n",
       "      <td>-1.142487</td>\n",
       "      <td>2</td>\n",
       "    </tr>\n",
       "    <tr>\n",
       "      <th>...</th>\n",
       "      <td>...</td>\n",
       "      <td>...</td>\n",
       "      <td>...</td>\n",
       "      <td>...</td>\n",
       "      <td>...</td>\n",
       "      <td>...</td>\n",
       "      <td>...</td>\n",
       "      <td>...</td>\n",
       "      <td>...</td>\n",
       "      <td>...</td>\n",
       "      <td>...</td>\n",
       "      <td>...</td>\n",
       "      <td>...</td>\n",
       "      <td>...</td>\n",
       "      <td>...</td>\n",
       "      <td>...</td>\n",
       "      <td>...</td>\n",
       "      <td>...</td>\n",
       "      <td>...</td>\n",
       "      <td>...</td>\n",
       "      <td>...</td>\n",
       "    </tr>\n",
       "    <tr>\n",
       "      <th>9995</th>\n",
       "      <td>3.0</td>\n",
       "      <td>53.0</td>\n",
       "      <td>55723.740000</td>\n",
       "      <td>9.265392</td>\n",
       "      <td>0</td>\n",
       "      <td>159.828800</td>\n",
       "      <td>6511.253000</td>\n",
       "      <td>3</td>\n",
       "      <td>2</td>\n",
       "      <td>3</td>\n",
       "      <td>...</td>\n",
       "      <td>-0.472948</td>\n",
       "      <td>-1.454781</td>\n",
       "      <td>-0.473770</td>\n",
       "      <td>-0.485004</td>\n",
       "      <td>0.494844</td>\n",
       "      <td>-0.481165</td>\n",
       "      <td>-1.467742</td>\n",
       "      <td>-0.481828</td>\n",
       "      <td>-0.440196</td>\n",
       "      <td>0</td>\n",
       "    </tr>\n",
       "    <tr>\n",
       "      <th>9996</th>\n",
       "      <td>4.0</td>\n",
       "      <td>48.0</td>\n",
       "      <td>39936.762226</td>\n",
       "      <td>8.115849</td>\n",
       "      <td>0</td>\n",
       "      <td>208.856400</td>\n",
       "      <td>5695.952000</td>\n",
       "      <td>4</td>\n",
       "      <td>5</td>\n",
       "      <td>5</td>\n",
       "      <td>...</td>\n",
       "      <td>0.490679</td>\n",
       "      <td>1.444922</td>\n",
       "      <td>1.471896</td>\n",
       "      <td>0.489878</td>\n",
       "      <td>0.494844</td>\n",
       "      <td>1.453943</td>\n",
       "      <td>-1.467742</td>\n",
       "      <td>1.462596</td>\n",
       "      <td>0.964386</td>\n",
       "      <td>1</td>\n",
       "    </tr>\n",
       "    <tr>\n",
       "      <th>9997</th>\n",
       "      <td>1.0</td>\n",
       "      <td>53.0</td>\n",
       "      <td>39936.762226</td>\n",
       "      <td>4.837696</td>\n",
       "      <td>0</td>\n",
       "      <td>168.220900</td>\n",
       "      <td>4159.306000</td>\n",
       "      <td>4</td>\n",
       "      <td>4</td>\n",
       "      <td>4</td>\n",
       "      <td>...</td>\n",
       "      <td>0.490679</td>\n",
       "      <td>0.478354</td>\n",
       "      <td>0.499063</td>\n",
       "      <td>0.489878</td>\n",
       "      <td>0.494844</td>\n",
       "      <td>0.486389</td>\n",
       "      <td>0.476931</td>\n",
       "      <td>1.462596</td>\n",
       "      <td>0.262095</td>\n",
       "      <td>0</td>\n",
       "    </tr>\n",
       "    <tr>\n",
       "      <th>9998</th>\n",
       "      <td>1.0</td>\n",
       "      <td>39.0</td>\n",
       "      <td>16667.580000</td>\n",
       "      <td>12.076460</td>\n",
       "      <td>0</td>\n",
       "      <td>252.628600</td>\n",
       "      <td>6468.457000</td>\n",
       "      <td>4</td>\n",
       "      <td>4</td>\n",
       "      <td>6</td>\n",
       "      <td>...</td>\n",
       "      <td>0.490679</td>\n",
       "      <td>0.478354</td>\n",
       "      <td>2.444730</td>\n",
       "      <td>0.489878</td>\n",
       "      <td>-0.480987</td>\n",
       "      <td>-0.481165</td>\n",
       "      <td>1.449268</td>\n",
       "      <td>0.490384</td>\n",
       "      <td>0.262095</td>\n",
       "      <td>1</td>\n",
       "    </tr>\n",
       "    <tr>\n",
       "      <th>9999</th>\n",
       "      <td>1.0</td>\n",
       "      <td>28.0</td>\n",
       "      <td>39936.762226</td>\n",
       "      <td>12.641760</td>\n",
       "      <td>0</td>\n",
       "      <td>218.371000</td>\n",
       "      <td>5857.586000</td>\n",
       "      <td>2</td>\n",
       "      <td>2</td>\n",
       "      <td>3</td>\n",
       "      <td>...</td>\n",
       "      <td>-1.436576</td>\n",
       "      <td>-1.454781</td>\n",
       "      <td>-0.473770</td>\n",
       "      <td>-0.485004</td>\n",
       "      <td>-0.480987</td>\n",
       "      <td>-0.481165</td>\n",
       "      <td>0.476931</td>\n",
       "      <td>-2.426253</td>\n",
       "      <td>1.666678</td>\n",
       "      <td>1</td>\n",
       "    </tr>\n",
       "  </tbody>\n",
       "</table>\n",
       "<p>10000 rows × 33 columns</p>\n",
       "</div>"
      ],
      "text/plain": [
       "      Children   Age        Income  Outage_sec_perweek  Yearly_equip_failure  \\\n",
       "0          1.0  68.0  28561.990000            6.972566                     1   \n",
       "1          1.0  27.0  21704.770000           12.014541                     1   \n",
       "2          4.0  50.0  39936.762226           10.245616                     1   \n",
       "3          1.0  48.0  18925.230000           15.206193                     0   \n",
       "4          0.0  83.0  40074.190000            8.960316                     1   \n",
       "...        ...   ...           ...                 ...                   ...   \n",
       "9995       3.0  53.0  55723.740000            9.265392                     0   \n",
       "9996       4.0  48.0  39936.762226            8.115849                     0   \n",
       "9997       1.0  53.0  39936.762226            4.837696                     0   \n",
       "9998       1.0  39.0  16667.580000           12.076460                     0   \n",
       "9999       1.0  28.0  39936.762226           12.641760                     0   \n",
       "\n",
       "      MonthlyCharge  Bandwidth_GB_Year  Timely_Response  Timely_Fixes  \\\n",
       "0        171.449762         904.536110                5             5   \n",
       "1        242.948015         800.982766                3             4   \n",
       "2        159.440398        2054.706961                4             4   \n",
       "3        120.249493        2164.579412                4             4   \n",
       "4        150.761216         271.493436                4             4   \n",
       "...             ...                ...              ...           ...   \n",
       "9995     159.828800        6511.253000                3             2   \n",
       "9996     208.856400        5695.952000                4             5   \n",
       "9997     168.220900        4159.306000                4             4   \n",
       "9998     252.628600        6468.457000                4             4   \n",
       "9999     218.371000        5857.586000                2             2   \n",
       "\n",
       "      Timely_Replacement  ...  Time_Resp_K  Time_Fix_K  Time_replace_K  \\\n",
       "0                      5  ...     1.454307    1.444922        1.471896   \n",
       "1                      3  ...    -0.472948    0.478354       -0.473770   \n",
       "2                      2  ...     0.490679    0.478354       -1.446603   \n",
       "3                      4  ...     0.490679    0.478354        0.499063   \n",
       "4                      4  ...     0.490679    0.478354        0.499063   \n",
       "...                  ...  ...          ...         ...             ...   \n",
       "9995                   3  ...    -0.472948   -1.454781       -0.473770   \n",
       "9996                   5  ...     0.490679    1.444922        1.471896   \n",
       "9997                   4  ...     0.490679    0.478354        0.499063   \n",
       "9998                   6  ...     0.490679    0.478354        2.444730   \n",
       "9999                   3  ...    -1.436576   -1.454781       -0.473770   \n",
       "\n",
       "      Reliability_K  Options_K  Respect_Response_K  Court_Exchange_K  \\\n",
       "0         -0.485004   0.494844            0.486389         -0.495406   \n",
       "1         -0.485004   0.494844           -0.481165          0.476931   \n",
       "2          0.489878   0.494844           -0.481165         -0.495406   \n",
       "3         -1.459886   1.470674            0.486389         -0.495406   \n",
       "4         -0.485004   0.494844            0.486389          0.476931   \n",
       "...             ...        ...                 ...               ...   \n",
       "9995      -0.485004   0.494844           -0.481165         -1.467742   \n",
       "9996       0.489878   0.494844            1.453943         -1.467742   \n",
       "9997       0.489878   0.494844            0.486389          0.476931   \n",
       "9998       0.489878  -0.480987           -0.481165          1.449268   \n",
       "9999      -0.485004  -0.480987           -0.481165          0.476931   \n",
       "\n",
       "      Evidence_Active_Listen_K  Sum_service_K  kmeans_3  \n",
       "0                     0.490384       0.262095         2  \n",
       "1                     0.490384       0.964386         1  \n",
       "2                    -0.481828      -0.440196         2  \n",
       "3                    -0.481828      -0.440196         2  \n",
       "4                     1.462596      -1.142487         2  \n",
       "...                        ...            ...       ...  \n",
       "9995                 -0.481828      -0.440196         0  \n",
       "9996                  1.462596       0.964386         1  \n",
       "9997                  1.462596       0.262095         0  \n",
       "9998                  0.490384       0.262095         1  \n",
       "9999                 -2.426253       1.666678         1  \n",
       "\n",
       "[10000 rows x 33 columns]"
      ]
     },
     "execution_count": 90,
     "metadata": {},
     "output_type": "execute_result"
    }
   ],
   "source": [
    "km_2 = KMeans(n_clusters=3)\n",
    "km_fit_2 = km_2.fit(df_KM_2[['MonthlyCharge_K','Band_GB_Year_K']])\n",
    "df_KM_2['kmeans_3'] = km_fit_2.labels_\n",
    "df_KM_2"
   ]
  },
  {
   "cell_type": "code",
   "execution_count": 91,
   "id": "a7ffcb53",
   "metadata": {},
   "outputs": [
    {
     "data": {
      "image/png": "[encoded data removed]",
      "text/plain": [
       "<Figure size 432x288 with 1 Axes>"
      ]
     },
     "metadata": {
      "needs_background": "light"
     },
     "output_type": "display_data"
    }
   ],
   "source": [
    "plt.scatter(x=df_KM_2['MonthlyCharge'], y=df_KM_2['Bandwidth_GB_Year'], c=df_KM_2['kmeans_3'])\n",
    "plt.xlim(-0.1,400)\n",
    "plt.ylim(0, 8000)\n",
    "plt.show()"
   ]
  },
  {
   "cell_type": "code",
   "execution_count": 92,
   "id": "a6eca9d5",
   "metadata": {
    "scrolled": true
   },
   "outputs": [
    {
     "data": {
      "image/png": "[encoded data removed]",
      "text/plain": [
       "<Figure size 1440x360 with 5 Axes>"
      ]
     },
     "metadata": {
      "needs_background": "light"
     },
     "output_type": "display_data"
    }
   ],
   "source": [
    "for k in range(1,6):\n",
    "    kmeans = KMeans(n_clusters = k)\n",
    "    kmeans.fit(df_KM_2[['MonthlyCharge_K','Band_GB_Year_K']])\n",
    "    df_KM_2[f'KMeans{k}'] = kmeans.labels_\n",
    "    \n",
    "fig, axs = plt.subplots(nrows=1, ncols=5, figsize=(20,5))\n",
    "\n",
    "for i, ax in enumerate(fig.axes, start=1):\n",
    "    ax.scatter(x=df_KM_2['MonthlyCharge'], y=df_KM_2['Bandwidth_GB_Year'], c=df_KM_2[f'KMeans{i}'])\n",
    "    \n",
    "    ax.set_ylim(0, 8000)\n",
    "    ax.set_xlim(-0.1, 400)\n",
    "    ax.set_title(f'N Clusters: {i}')"
   ]
  },
  {
   "cell_type": "code",
   "execution_count": 93,
   "id": "cc6a8b5c",
   "metadata": {},
   "outputs": [
    {
     "data": {
      "image/png": "[encoded data removed]",
      "text/plain": [
       "<Figure size 720x360 with 1 Axes>"
      ]
     },
     "metadata": {
      "needs_background": "light"
     },
     "output_type": "display_data"
    }
   ],
   "source": [
    "df_KM_3 = df_final.copy() \n",
    "optimise_k_means(df_KM_3[['MonthlyCharge_K','Sum_service_K']], 10)"
   ]
  },
  {
   "cell_type": "code",
   "execution_count": 94,
   "id": "7e23206d",
   "metadata": {},
   "outputs": [
    {
     "data": {
      "text/html": [
       "<div>\n",
       "<style scoped>\n",
       "    .dataframe tbody tr th:only-of-type {\n",
       "        vertical-align: middle;\n",
       "    }\n",
       "\n",
       "    .dataframe tbody tr th {\n",
       "        vertical-align: top;\n",
       "    }\n",
       "\n",
       "    .dataframe thead th {\n",
       "        text-align: right;\n",
       "    }\n",
       "</style>\n",
       "<table border=\"1\" class=\"dataframe\">\n",
       "  <thead>\n",
       "    <tr style=\"text-align: right;\">\n",
       "      <th></th>\n",
       "      <th>Children</th>\n",
       "      <th>Age</th>\n",
       "      <th>Income</th>\n",
       "      <th>Outage_sec_perweek</th>\n",
       "      <th>Yearly_equip_failure</th>\n",
       "      <th>MonthlyCharge</th>\n",
       "      <th>Bandwidth_GB_Year</th>\n",
       "      <th>Timely_Response</th>\n",
       "      <th>Timely_Fixes</th>\n",
       "      <th>Timely_Replacement</th>\n",
       "      <th>...</th>\n",
       "      <th>Time_Resp_K</th>\n",
       "      <th>Time_Fix_K</th>\n",
       "      <th>Time_replace_K</th>\n",
       "      <th>Reliability_K</th>\n",
       "      <th>Options_K</th>\n",
       "      <th>Respect_Response_K</th>\n",
       "      <th>Court_Exchange_K</th>\n",
       "      <th>Evidence_Active_Listen_K</th>\n",
       "      <th>Sum_service_K</th>\n",
       "      <th>kmeans_3</th>\n",
       "    </tr>\n",
       "  </thead>\n",
       "  <tbody>\n",
       "    <tr>\n",
       "      <th>0</th>\n",
       "      <td>1.0</td>\n",
       "      <td>68.0</td>\n",
       "      <td>28561.990000</td>\n",
       "      <td>6.972566</td>\n",
       "      <td>1</td>\n",
       "      <td>171.449762</td>\n",
       "      <td>904.536110</td>\n",
       "      <td>5</td>\n",
       "      <td>5</td>\n",
       "      <td>5</td>\n",
       "      <td>...</td>\n",
       "      <td>1.454307</td>\n",
       "      <td>1.444922</td>\n",
       "      <td>1.471896</td>\n",
       "      <td>-0.485004</td>\n",
       "      <td>0.494844</td>\n",
       "      <td>0.486389</td>\n",
       "      <td>-0.495406</td>\n",
       "      <td>0.490384</td>\n",
       "      <td>0.262095</td>\n",
       "      <td>0</td>\n",
       "    </tr>\n",
       "    <tr>\n",
       "      <th>1</th>\n",
       "      <td>1.0</td>\n",
       "      <td>27.0</td>\n",
       "      <td>21704.770000</td>\n",
       "      <td>12.014541</td>\n",
       "      <td>1</td>\n",
       "      <td>242.948015</td>\n",
       "      <td>800.982766</td>\n",
       "      <td>3</td>\n",
       "      <td>4</td>\n",
       "      <td>3</td>\n",
       "      <td>...</td>\n",
       "      <td>-0.472948</td>\n",
       "      <td>0.478354</td>\n",
       "      <td>-0.473770</td>\n",
       "      <td>-0.485004</td>\n",
       "      <td>0.494844</td>\n",
       "      <td>-0.481165</td>\n",
       "      <td>0.476931</td>\n",
       "      <td>0.490384</td>\n",
       "      <td>0.964386</td>\n",
       "      <td>2</td>\n",
       "    </tr>\n",
       "    <tr>\n",
       "      <th>2</th>\n",
       "      <td>4.0</td>\n",
       "      <td>50.0</td>\n",
       "      <td>39936.762226</td>\n",
       "      <td>10.245616</td>\n",
       "      <td>1</td>\n",
       "      <td>159.440398</td>\n",
       "      <td>2054.706961</td>\n",
       "      <td>4</td>\n",
       "      <td>4</td>\n",
       "      <td>2</td>\n",
       "      <td>...</td>\n",
       "      <td>0.490679</td>\n",
       "      <td>0.478354</td>\n",
       "      <td>-1.446603</td>\n",
       "      <td>0.489878</td>\n",
       "      <td>0.494844</td>\n",
       "      <td>-0.481165</td>\n",
       "      <td>-0.495406</td>\n",
       "      <td>-0.481828</td>\n",
       "      <td>-0.440196</td>\n",
       "      <td>0</td>\n",
       "    </tr>\n",
       "    <tr>\n",
       "      <th>3</th>\n",
       "      <td>1.0</td>\n",
       "      <td>48.0</td>\n",
       "      <td>18925.230000</td>\n",
       "      <td>15.206193</td>\n",
       "      <td>0</td>\n",
       "      <td>120.249493</td>\n",
       "      <td>2164.579412</td>\n",
       "      <td>4</td>\n",
       "      <td>4</td>\n",
       "      <td>4</td>\n",
       "      <td>...</td>\n",
       "      <td>0.490679</td>\n",
       "      <td>0.478354</td>\n",
       "      <td>0.499063</td>\n",
       "      <td>-1.459886</td>\n",
       "      <td>1.470674</td>\n",
       "      <td>0.486389</td>\n",
       "      <td>-0.495406</td>\n",
       "      <td>-0.481828</td>\n",
       "      <td>-0.440196</td>\n",
       "      <td>1</td>\n",
       "    </tr>\n",
       "    <tr>\n",
       "      <th>4</th>\n",
       "      <td>0.0</td>\n",
       "      <td>83.0</td>\n",
       "      <td>40074.190000</td>\n",
       "      <td>8.960316</td>\n",
       "      <td>1</td>\n",
       "      <td>150.761216</td>\n",
       "      <td>271.493436</td>\n",
       "      <td>4</td>\n",
       "      <td>4</td>\n",
       "      <td>4</td>\n",
       "      <td>...</td>\n",
       "      <td>0.490679</td>\n",
       "      <td>0.478354</td>\n",
       "      <td>0.499063</td>\n",
       "      <td>-0.485004</td>\n",
       "      <td>0.494844</td>\n",
       "      <td>0.486389</td>\n",
       "      <td>0.476931</td>\n",
       "      <td>1.462596</td>\n",
       "      <td>-1.142487</td>\n",
       "      <td>1</td>\n",
       "    </tr>\n",
       "    <tr>\n",
       "      <th>...</th>\n",
       "      <td>...</td>\n",
       "      <td>...</td>\n",
       "      <td>...</td>\n",
       "      <td>...</td>\n",
       "      <td>...</td>\n",
       "      <td>...</td>\n",
       "      <td>...</td>\n",
       "      <td>...</td>\n",
       "      <td>...</td>\n",
       "      <td>...</td>\n",
       "      <td>...</td>\n",
       "      <td>...</td>\n",
       "      <td>...</td>\n",
       "      <td>...</td>\n",
       "      <td>...</td>\n",
       "      <td>...</td>\n",
       "      <td>...</td>\n",
       "      <td>...</td>\n",
       "      <td>...</td>\n",
       "      <td>...</td>\n",
       "      <td>...</td>\n",
       "    </tr>\n",
       "    <tr>\n",
       "      <th>9995</th>\n",
       "      <td>3.0</td>\n",
       "      <td>53.0</td>\n",
       "      <td>55723.740000</td>\n",
       "      <td>9.265392</td>\n",
       "      <td>0</td>\n",
       "      <td>159.828800</td>\n",
       "      <td>6511.253000</td>\n",
       "      <td>3</td>\n",
       "      <td>2</td>\n",
       "      <td>3</td>\n",
       "      <td>...</td>\n",
       "      <td>-0.472948</td>\n",
       "      <td>-1.454781</td>\n",
       "      <td>-0.473770</td>\n",
       "      <td>-0.485004</td>\n",
       "      <td>0.494844</td>\n",
       "      <td>-0.481165</td>\n",
       "      <td>-1.467742</td>\n",
       "      <td>-0.481828</td>\n",
       "      <td>-0.440196</td>\n",
       "      <td>0</td>\n",
       "    </tr>\n",
       "    <tr>\n",
       "      <th>9996</th>\n",
       "      <td>4.0</td>\n",
       "      <td>48.0</td>\n",
       "      <td>39936.762226</td>\n",
       "      <td>8.115849</td>\n",
       "      <td>0</td>\n",
       "      <td>208.856400</td>\n",
       "      <td>5695.952000</td>\n",
       "      <td>4</td>\n",
       "      <td>5</td>\n",
       "      <td>5</td>\n",
       "      <td>...</td>\n",
       "      <td>0.490679</td>\n",
       "      <td>1.444922</td>\n",
       "      <td>1.471896</td>\n",
       "      <td>0.489878</td>\n",
       "      <td>0.494844</td>\n",
       "      <td>1.453943</td>\n",
       "      <td>-1.467742</td>\n",
       "      <td>1.462596</td>\n",
       "      <td>0.964386</td>\n",
       "      <td>2</td>\n",
       "    </tr>\n",
       "    <tr>\n",
       "      <th>9997</th>\n",
       "      <td>1.0</td>\n",
       "      <td>53.0</td>\n",
       "      <td>39936.762226</td>\n",
       "      <td>4.837696</td>\n",
       "      <td>0</td>\n",
       "      <td>168.220900</td>\n",
       "      <td>4159.306000</td>\n",
       "      <td>4</td>\n",
       "      <td>4</td>\n",
       "      <td>4</td>\n",
       "      <td>...</td>\n",
       "      <td>0.490679</td>\n",
       "      <td>0.478354</td>\n",
       "      <td>0.499063</td>\n",
       "      <td>0.489878</td>\n",
       "      <td>0.494844</td>\n",
       "      <td>0.486389</td>\n",
       "      <td>0.476931</td>\n",
       "      <td>1.462596</td>\n",
       "      <td>0.262095</td>\n",
       "      <td>0</td>\n",
       "    </tr>\n",
       "    <tr>\n",
       "      <th>9998</th>\n",
       "      <td>1.0</td>\n",
       "      <td>39.0</td>\n",
       "      <td>16667.580000</td>\n",
       "      <td>12.076460</td>\n",
       "      <td>0</td>\n",
       "      <td>252.628600</td>\n",
       "      <td>6468.457000</td>\n",
       "      <td>4</td>\n",
       "      <td>4</td>\n",
       "      <td>6</td>\n",
       "      <td>...</td>\n",
       "      <td>0.490679</td>\n",
       "      <td>0.478354</td>\n",
       "      <td>2.444730</td>\n",
       "      <td>0.489878</td>\n",
       "      <td>-0.480987</td>\n",
       "      <td>-0.481165</td>\n",
       "      <td>1.449268</td>\n",
       "      <td>0.490384</td>\n",
       "      <td>0.262095</td>\n",
       "      <td>2</td>\n",
       "    </tr>\n",
       "    <tr>\n",
       "      <th>9999</th>\n",
       "      <td>1.0</td>\n",
       "      <td>28.0</td>\n",
       "      <td>39936.762226</td>\n",
       "      <td>12.641760</td>\n",
       "      <td>0</td>\n",
       "      <td>218.371000</td>\n",
       "      <td>5857.586000</td>\n",
       "      <td>2</td>\n",
       "      <td>2</td>\n",
       "      <td>3</td>\n",
       "      <td>...</td>\n",
       "      <td>-1.436576</td>\n",
       "      <td>-1.454781</td>\n",
       "      <td>-0.473770</td>\n",
       "      <td>-0.485004</td>\n",
       "      <td>-0.480987</td>\n",
       "      <td>-0.481165</td>\n",
       "      <td>0.476931</td>\n",
       "      <td>-2.426253</td>\n",
       "      <td>1.666678</td>\n",
       "      <td>2</td>\n",
       "    </tr>\n",
       "  </tbody>\n",
       "</table>\n",
       "<p>10000 rows × 33 columns</p>\n",
       "</div>"
      ],
      "text/plain": [
       "      Children   Age        Income  Outage_sec_perweek  Yearly_equip_failure  \\\n",
       "0          1.0  68.0  28561.990000            6.972566                     1   \n",
       "1          1.0  27.0  21704.770000           12.014541                     1   \n",
       "2          4.0  50.0  39936.762226           10.245616                     1   \n",
       "3          1.0  48.0  18925.230000           15.206193                     0   \n",
       "4          0.0  83.0  40074.190000            8.960316                     1   \n",
       "...        ...   ...           ...                 ...                   ...   \n",
       "9995       3.0  53.0  55723.740000            9.265392                     0   \n",
       "9996       4.0  48.0  39936.762226            8.115849                     0   \n",
       "9997       1.0  53.0  39936.762226            4.837696                     0   \n",
       "9998       1.0  39.0  16667.580000           12.076460                     0   \n",
       "9999       1.0  28.0  39936.762226           12.641760                     0   \n",
       "\n",
       "      MonthlyCharge  Bandwidth_GB_Year  Timely_Response  Timely_Fixes  \\\n",
       "0        171.449762         904.536110                5             5   \n",
       "1        242.948015         800.982766                3             4   \n",
       "2        159.440398        2054.706961                4             4   \n",
       "3        120.249493        2164.579412                4             4   \n",
       "4        150.761216         271.493436                4             4   \n",
       "...             ...                ...              ...           ...   \n",
       "9995     159.828800        6511.253000                3             2   \n",
       "9996     208.856400        5695.952000                4             5   \n",
       "9997     168.220900        4159.306000                4             4   \n",
       "9998     252.628600        6468.457000                4             4   \n",
       "9999     218.371000        5857.586000                2             2   \n",
       "\n",
       "      Timely_Replacement  ...  Time_Resp_K  Time_Fix_K  Time_replace_K  \\\n",
       "0                      5  ...     1.454307    1.444922        1.471896   \n",
       "1                      3  ...    -0.472948    0.478354       -0.473770   \n",
       "2                      2  ...     0.490679    0.478354       -1.446603   \n",
       "3                      4  ...     0.490679    0.478354        0.499063   \n",
       "4                      4  ...     0.490679    0.478354        0.499063   \n",
       "...                  ...  ...          ...         ...             ...   \n",
       "9995                   3  ...    -0.472948   -1.454781       -0.473770   \n",
       "9996                   5  ...     0.490679    1.444922        1.471896   \n",
       "9997                   4  ...     0.490679    0.478354        0.499063   \n",
       "9998                   6  ...     0.490679    0.478354        2.444730   \n",
       "9999                   3  ...    -1.436576   -1.454781       -0.473770   \n",
       "\n",
       "      Reliability_K  Options_K  Respect_Response_K  Court_Exchange_K  \\\n",
       "0         -0.485004   0.494844            0.486389         -0.495406   \n",
       "1         -0.485004   0.494844           -0.481165          0.476931   \n",
       "2          0.489878   0.494844           -0.481165         -0.495406   \n",
       "3         -1.459886   1.470674            0.486389         -0.495406   \n",
       "4         -0.485004   0.494844            0.486389          0.476931   \n",
       "...             ...        ...                 ...               ...   \n",
       "9995      -0.485004   0.494844           -0.481165         -1.467742   \n",
       "9996       0.489878   0.494844            1.453943         -1.467742   \n",
       "9997       0.489878   0.494844            0.486389          0.476931   \n",
       "9998       0.489878  -0.480987           -0.481165          1.449268   \n",
       "9999      -0.485004  -0.480987           -0.481165          0.476931   \n",
       "\n",
       "      Evidence_Active_Listen_K  Sum_service_K  kmeans_3  \n",
       "0                     0.490384       0.262095         0  \n",
       "1                     0.490384       0.964386         2  \n",
       "2                    -0.481828      -0.440196         0  \n",
       "3                    -0.481828      -0.440196         1  \n",
       "4                     1.462596      -1.142487         1  \n",
       "...                        ...            ...       ...  \n",
       "9995                 -0.481828      -0.440196         0  \n",
       "9996                  1.462596       0.964386         2  \n",
       "9997                  1.462596       0.262095         0  \n",
       "9998                  0.490384       0.262095         2  \n",
       "9999                 -2.426253       1.666678         2  \n",
       "\n",
       "[10000 rows x 33 columns]"
      ]
     },
     "execution_count": 94,
     "metadata": {},
     "output_type": "execute_result"
    }
   ],
   "source": [
    "km_3 = KMeans(n_clusters=3)\n",
    "km_fit_3 = km_3.fit(df_KM_3[['MonthlyCharge_K','Sum_service_K']])\n",
    "df_KM_3['kmeans_3'] = km_fit_3.labels_\n",
    "df_KM_3"
   ]
  },
  {
   "cell_type": "code",
   "execution_count": 95,
   "id": "af5b9ed8",
   "metadata": {},
   "outputs": [
    {
     "data": {
      "image/png": "[encoded data removed]",
      "text/plain": [
       "<Figure size 432x288 with 1 Axes>"
      ]
     },
     "metadata": {
      "needs_background": "light"
     },
     "output_type": "display_data"
    }
   ],
   "source": [
    "plt.scatter(x=df_KM_3['MonthlyCharge'], y=df_KM_3['Sum_services'], c=df_KM_3['kmeans_3'])\n",
    "plt.xlim(-0.1,350)\n",
    "plt.ylim(-1, 10)\n",
    "plt.show()"
   ]
  },
  {
   "cell_type": "code",
   "execution_count": 96,
   "id": "03580f8d",
   "metadata": {},
   "outputs": [
    {
     "data": {
      "image/png": "[encoded data removed]",
      "text/plain": [
       "<Figure size 1440x360 with 5 Axes>"
      ]
     },
     "metadata": {
      "needs_background": "light"
     },
     "output_type": "display_data"
    }
   ],
   "source": [
    "for k in range(1,6):\n",
    "    kmeans = KMeans(n_clusters = k)\n",
    "    kmeans.fit(df_KM_3[['MonthlyCharge_K','Sum_service_K']])\n",
    "    df_KM_3[f'KMeans{k}'] = kmeans.labels_\n",
    "    \n",
    "fig, axs = plt.subplots(nrows=1, ncols=5, figsize=(20,5))\n",
    "\n",
    "for i, ax in enumerate(fig.axes, start=1):\n",
    "    ax.scatter(x=df_KM_3['MonthlyCharge'], y=df_KM_3['Sum_services'], c=df_KM_3[f'KMeans{i}'])\n",
    "    ax.set_ylim(-1, 10)\n",
    "    ax.set_xlim(-0.1, 350)\n",
    "    ax.set_title(f'N Clusters: {i}')"
   ]
  },
  {
   "cell_type": "code",
   "execution_count": null,
   "id": "6336c48c",
   "metadata": {},
   "outputs": [],
   "source": []
  }
 ],
 "metadata": {
  "kernelspec": {
   "display_name": "Python 3 (ipykernel)",
   "language": "python",
   "name": "python3"
  },
  "language_info": {
   "codemirror_mode": {
    "name": "ipython",
    "version": 3
   },
   "file_extension": ".py",
   "mimetype": "text/x-python",
   "name": "python",
   "nbconvert_exporter": "python",
   "pygments_lexer": "ipython3",
   "version": "3.11.4"
  }
 },
 "nbformat": 4,
 "nbformat_minor": 5
}
